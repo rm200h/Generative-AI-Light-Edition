{
 "cells": [
  {
   "cell_type": "markdown",
   "id": "d1cc0684-cf26-447b-b27b-d6030563818f",
   "metadata": {
    "tags": []
   },
   "source": [
    "# Check instances before proceeding\n",
    "\n",
    "Click on upper right corner\n",
    "\n",
    "### Image Pytorch 2.0.0 python 3.10 GPU optimised\n",
    "### Kernel Python 3\n",
    "### Instance ml g4dn xlarge\n",
    "\n",
    "* If you stop the training midway.. and attempt to restart the training you'll run into a CUDA OOM error\n",
    "* Restart the kernel and run all if you land up in the above situation"
   ]
  },
  {
   "cell_type": "code",
   "execution_count": 2,
   "id": "4008d47e-f4be-494f-bfe1-cd58b26177cd",
   "metadata": {
    "tags": []
   },
   "outputs": [
    {
     "name": "stdout",
     "output_type": "stream",
     "text": [
      "Thu Oct 12 03:50:57 2023       \n",
      "+-----------------------------------------------------------------------------+\n",
      "| NVIDIA-SMI 470.57.02    Driver Version: 470.57.02    CUDA Version: 11.8     |\n",
      "|-------------------------------+----------------------+----------------------+\n",
      "| GPU  Name        Persistence-M| Bus-Id        Disp.A | Volatile Uncorr. ECC |\n",
      "| Fan  Temp  Perf  Pwr:Usage/Cap|         Memory-Usage | GPU-Util  Compute M. |\n",
      "|                               |                      |               MIG M. |\n",
      "|===============================+======================+======================|\n",
      "|   0  Tesla T4            Off  | 00000000:00:1E.0 Off |                    0 |\n",
      "| N/A   32C    P0    25W /  70W |      0MiB / 15109MiB |      0%      Default |\n",
      "|                               |                      |                  N/A |\n",
      "+-------------------------------+----------------------+----------------------+\n",
      "                                                                               \n",
      "+-----------------------------------------------------------------------------+\n",
      "| Processes:                                                                  |\n",
      "|  GPU   GI   CI        PID   Type   Process name                  GPU Memory |\n",
      "|        ID   ID                                                   Usage      |\n",
      "|=============================================================================|\n",
      "|  No running processes found                                                 |\n",
      "+-----------------------------------------------------------------------------+\n"
     ]
    }
   ],
   "source": [
    "!nvidia-smi"
   ]
  },
  {
   "cell_type": "code",
   "execution_count": 3,
   "id": "076c11f3-914e-46a4-8b8d-8694a90bff62",
   "metadata": {
    "tags": []
   },
   "outputs": [
    {
     "name": "stdout",
     "output_type": "stream",
     "text": [
      "15G\n"
     ]
    }
   ],
   "source": [
    "!free -h --si | awk '/Mem:/ {print $2}'"
   ]
  },
  {
   "cell_type": "markdown",
   "id": "035cb87d-2edc-4cb6-8351-3fa99ec61950",
   "metadata": {},
   "source": [
    "## Change the kernel and image by Menu bar -> kernel -> change kernel\n",
    "### Use image pytorch 2.0.0 and python 3.10 GPU optimised  \n",
    "### Instance ml.g4dn.xlarge"
   ]
  },
  {
   "cell_type": "code",
   "execution_count": 4,
   "id": "128f8604-ac40-498d-85b0-94f754aa1c88",
   "metadata": {
    "tags": []
   },
   "outputs": [],
   "source": [
    "# export 'PYTORCH_CUDA_ALLOC_CONF=max_split_size_mb:512'"
   ]
  },
  {
   "cell_type": "markdown",
   "id": "37d7b0c9-f6a7-4ce9-858b-e730aa796fe3",
   "metadata": {},
   "source": [
    "# Install required libraries"
   ]
  },
  {
   "cell_type": "code",
   "execution_count": 5,
   "id": "6c0b8978-428a-4186-86e2-3e603650c210",
   "metadata": {
    "tags": []
   },
   "outputs": [
    {
     "name": "stdout",
     "output_type": "stream",
     "text": [
      "\u001b[33mWARNING: Running pip as the 'root' user can result in broken permissions and conflicting behaviour with the system package manager. It is recommended to use a virtual environment instead: https://pip.pypa.io/warnings/venv\u001b[0m\u001b[33m\n",
      "\u001b[0m\n",
      "\u001b[1m[\u001b[0m\u001b[34;49mnotice\u001b[0m\u001b[1;39;49m]\u001b[0m\u001b[39;49m A new release of pip is available: \u001b[0m\u001b[31;49m23.1.2\u001b[0m\u001b[39;49m -> \u001b[0m\u001b[32;49m23.2.1\u001b[0m\n",
      "\u001b[1m[\u001b[0m\u001b[34;49mnotice\u001b[0m\u001b[1;39;49m]\u001b[0m\u001b[39;49m To update, run: \u001b[0m\u001b[32;49mpip install --upgrade pip\u001b[0m\n",
      "\u001b[33mWARNING: Running pip as the 'root' user can result in broken permissions and conflicting behaviour with the system package manager. It is recommended to use a virtual environment instead: https://pip.pypa.io/warnings/venv\u001b[0m\u001b[33m\n",
      "\u001b[0m\n",
      "\u001b[1m[\u001b[0m\u001b[34;49mnotice\u001b[0m\u001b[1;39;49m]\u001b[0m\u001b[39;49m A new release of pip is available: \u001b[0m\u001b[31;49m23.1.2\u001b[0m\u001b[39;49m -> \u001b[0m\u001b[32;49m23.2.1\u001b[0m\n",
      "\u001b[1m[\u001b[0m\u001b[34;49mnotice\u001b[0m\u001b[1;39;49m]\u001b[0m\u001b[39;49m To update, run: \u001b[0m\u001b[32;49mpip install --upgrade pip\u001b[0m\n",
      "\u001b[33mWARNING: Running pip as the 'root' user can result in broken permissions and conflicting behaviour with the system package manager. It is recommended to use a virtual environment instead: https://pip.pypa.io/warnings/venv\u001b[0m\u001b[33m\n",
      "\u001b[0m\n",
      "\u001b[1m[\u001b[0m\u001b[34;49mnotice\u001b[0m\u001b[1;39;49m]\u001b[0m\u001b[39;49m A new release of pip is available: \u001b[0m\u001b[31;49m23.1.2\u001b[0m\u001b[39;49m -> \u001b[0m\u001b[32;49m23.2.1\u001b[0m\n",
      "\u001b[1m[\u001b[0m\u001b[34;49mnotice\u001b[0m\u001b[1;39;49m]\u001b[0m\u001b[39;49m To update, run: \u001b[0m\u001b[32;49mpip install --upgrade pip\u001b[0m\n"
     ]
    }
   ],
   "source": [
    "!pip install -q -U trl transformers accelerate git+https://github.com/huggingface/peft.git\n",
    "!pip install -q datasets bitsandbytes einops py7zr tensorboardX\n",
    "!pip install -q -U torch==2.0.1 bitsandbytes==0.40.2\n",
    "# !pip install -q wandb"
   ]
  },
  {
   "cell_type": "markdown",
   "id": "a6b3e73c-7b7a-4592-8797-a247f8e57e6c",
   "metadata": {
    "tags": []
   },
   "source": [
    "# Download the model"
   ]
  },
  {
   "cell_type": "code",
   "execution_count": 6,
   "id": "735f964a-b5fc-424c-81b7-c3a823d3e937",
   "metadata": {
    "tags": []
   },
   "outputs": [
    {
     "name": "stderr",
     "output_type": "stream",
     "text": [
      "/opt/conda/lib/python3.10/site-packages/tqdm/auto.py:21: TqdmWarning: IProgress not found. Please update jupyter and ipywidgets. See https://ipywidgets.readthedocs.io/en/stable/user_install.html\n",
      "  from .autonotebook import tqdm as notebook_tqdm\n"
     ]
    }
   ],
   "source": [
    "import torch, time\n",
    "from transformers import AutoModelForCausalLM, AutoTokenizer, BitsAndBytesConfig, AutoTokenizer\n",
    "\n",
    "start = time.time()"
   ]
  },
  {
   "cell_type": "code",
   "execution_count": 7,
   "id": "e780abac-c82c-4954-b811-02ee95074cc2",
   "metadata": {
    "tags": []
   },
   "outputs": [],
   "source": [
    "# ! pip install flash_attn"
   ]
  },
  {
   "cell_type": "code",
   "execution_count": 8,
   "id": "3947370d-0a31-41d8-abba-35a0f5921118",
   "metadata": {
    "collapsed": true,
    "jupyter": {
     "outputs_hidden": true
    },
    "tags": []
   },
   "outputs": [
    {
     "name": "stderr",
     "output_type": "stream",
     "text": [
      "Downloading (…)lve/main/config.json: 100%|██████████| 1.05k/1.05k [00:00<00:00, 6.42MB/s]\n",
      "Downloading (…)figuration_falcon.py: 100%|██████████| 7.16k/7.16k [00:00<00:00, 41.8MB/s]\n",
      "A new version of the following files was downloaded from https://huggingface.co/tiiuae/falcon-7b:\n",
      "- configuration_falcon.py\n",
      ". Make sure to double-check they do not contain any added malicious code. To avoid downloading new versions of the code file, you can pin a revision.\n",
      "\n",
      "WARNING: You are currently loading Falcon using legacy code contained in the model repository. Falcon has now been fully ported into the Hugging Face transformers library. For the most up-to-date and high-performance version of the Falcon model code, please update to the latest version of transformers and then load the model without the trust_remote_code=True argument.\n",
      "\n",
      "Downloading (…)n/modeling_falcon.py: 100%|██████████| 56.9k/56.9k [00:00<00:00, 35.7MB/s]\n",
      "A new version of the following files was downloaded from https://huggingface.co/tiiuae/falcon-7b:\n",
      "- modeling_falcon.py\n",
      ". Make sure to double-check they do not contain any added malicious code. To avoid downloading new versions of the code file, you can pin a revision.\n",
      "Downloading (…)model.bin.index.json: 100%|██████████| 16.9k/16.9k [00:00<00:00, 73.8MB/s]\n",
      "Downloading shards:   0%|          | 0/2 [00:00<?, ?it/s]\n",
      "Downloading (…)l-00001-of-00002.bin:   0%|          | 0.00/9.95G [00:00<?, ?B/s]\u001b[A\n",
      "Downloading (…)l-00001-of-00002.bin:   0%|          | 21.0M/9.95G [00:00<01:09, 143MB/s]\u001b[A\n",
      "Downloading (…)l-00001-of-00002.bin:   1%|          | 52.4M/9.95G [00:00<00:46, 215MB/s]\u001b[A\n",
      "Downloading (…)l-00001-of-00002.bin:   1%|          | 94.4M/9.95G [00:00<00:33, 295MB/s]\u001b[A\n",
      "Downloading (…)l-00001-of-00002.bin:   1%|▏         | 147M/9.95G [00:00<00:28, 350MB/s] \u001b[A\n",
      "Downloading (…)l-00001-of-00002.bin:   2%|▏         | 189M/9.95G [00:00<00:26, 369MB/s]\u001b[A\n",
      "Downloading (…)l-00001-of-00002.bin:   2%|▏         | 241M/9.95G [00:00<00:24, 400MB/s]\u001b[A\n",
      "Downloading (…)l-00001-of-00002.bin:   3%|▎         | 294M/9.95G [00:00<00:22, 428MB/s]\u001b[A\n",
      "Downloading (…)l-00001-of-00002.bin:   3%|▎         | 346M/9.95G [00:00<00:22, 428MB/s]\u001b[A\n",
      "Downloading (…)l-00001-of-00002.bin:   4%|▍         | 398M/9.95G [00:01<00:22, 422MB/s]\u001b[A\n",
      "Downloading (…)l-00001-of-00002.bin:   5%|▍         | 451M/9.95G [00:01<00:22, 422MB/s]\u001b[A\n",
      "Downloading (…)l-00001-of-00002.bin:   5%|▌         | 503M/9.95G [00:01<00:21, 439MB/s]\u001b[A\n",
      "Downloading (…)l-00001-of-00002.bin:   6%|▌         | 556M/9.95G [00:01<00:20, 462MB/s]\u001b[A\n",
      "Downloading (…)l-00001-of-00002.bin:   6%|▌         | 608M/9.95G [00:01<00:20, 447MB/s]\u001b[A\n",
      "Downloading (…)l-00001-of-00002.bin:   7%|▋         | 661M/9.95G [00:01<00:20, 450MB/s]\u001b[A\n",
      "Downloading (…)l-00001-of-00002.bin:   7%|▋         | 713M/9.95G [00:01<00:20, 455MB/s]\u001b[A\n",
      "Downloading (…)l-00001-of-00002.bin:   8%|▊         | 776M/9.95G [00:01<00:19, 482MB/s]\u001b[A\n",
      "Downloading (…)l-00001-of-00002.bin:   8%|▊         | 839M/9.95G [00:01<00:18, 494MB/s]\u001b[A\n",
      "Downloading (…)l-00001-of-00002.bin:   9%|▉         | 891M/9.95G [00:02<00:20, 439MB/s]\u001b[A\n",
      "Downloading (…)l-00001-of-00002.bin:   9%|▉         | 944M/9.95G [00:02<00:19, 453MB/s]\u001b[A\n",
      "Downloading (…)l-00001-of-00002.bin:  10%|█         | 996M/9.95G [00:02<00:19, 466MB/s]\u001b[A\n",
      "Downloading (…)l-00001-of-00002.bin:  11%|█         | 1.05G/9.95G [00:02<00:19, 457MB/s]\u001b[A\n",
      "Downloading (…)l-00001-of-00002.bin:  11%|█         | 1.11G/9.95G [00:02<00:18, 482MB/s]\u001b[A\n",
      "Downloading (…)l-00001-of-00002.bin:  12%|█▏        | 1.16G/9.95G [00:02<00:18, 471MB/s]\u001b[A\n",
      "Downloading (…)l-00001-of-00002.bin:  12%|█▏        | 1.23G/9.95G [00:02<00:17, 491MB/s]\u001b[A\n",
      "Downloading (…)l-00001-of-00002.bin:  13%|█▎        | 1.28G/9.95G [00:02<00:18, 474MB/s]\u001b[A\n",
      "Downloading (…)l-00001-of-00002.bin:  13%|█▎        | 1.33G/9.95G [00:03<00:20, 426MB/s]\u001b[A\n",
      "Downloading (…)l-00001-of-00002.bin:  14%|█▍        | 1.38G/9.95G [00:03<00:19, 436MB/s]\u001b[A\n",
      "Downloading (…)l-00001-of-00002.bin:  15%|█▍        | 1.45G/9.95G [00:03<00:18, 465MB/s]\u001b[A\n",
      "Downloading (…)l-00001-of-00002.bin:  15%|█▌        | 1.51G/9.95G [00:03<00:17, 483MB/s]\u001b[A\n",
      "Downloading (…)l-00001-of-00002.bin:  16%|█▌        | 1.56G/9.95G [00:03<00:18, 461MB/s]\u001b[A\n",
      "Downloading (…)l-00001-of-00002.bin:  16%|█▌        | 1.61G/9.95G [00:03<00:18, 460MB/s]\u001b[A\n",
      "Downloading (…)l-00001-of-00002.bin:  17%|█▋        | 1.67G/9.95G [00:03<00:18, 444MB/s]\u001b[A\n",
      "Downloading (…)l-00001-of-00002.bin:  17%|█▋        | 1.72G/9.95G [00:03<00:19, 433MB/s]\u001b[A\n",
      "Downloading (…)l-00001-of-00002.bin:  18%|█▊        | 1.77G/9.95G [00:04<00:18, 431MB/s]\u001b[A\n",
      "Downloading (…)l-00001-of-00002.bin:  18%|█▊        | 1.82G/9.95G [00:04<00:19, 426MB/s]\u001b[A\n",
      "Downloading (…)l-00001-of-00002.bin:  19%|█▉        | 1.88G/9.95G [00:04<00:18, 435MB/s]\u001b[A\n",
      "Downloading (…)l-00001-of-00002.bin:  19%|█▉        | 1.93G/9.95G [00:04<00:18, 444MB/s]\u001b[A\n",
      "Downloading (…)l-00001-of-00002.bin:  20%|█▉        | 1.98G/9.95G [00:04<00:17, 464MB/s]\u001b[A\n",
      "Downloading (…)l-00001-of-00002.bin:  20%|██        | 2.03G/9.95G [00:04<00:16, 472MB/s]\u001b[A\n",
      "Downloading (…)l-00001-of-00002.bin:  21%|██        | 2.09G/9.95G [00:04<00:16, 483MB/s]\u001b[A\n",
      "Downloading (…)l-00001-of-00002.bin:  21%|██▏       | 2.14G/9.95G [00:04<00:17, 441MB/s]\u001b[A\n",
      "Downloading (…)l-00001-of-00002.bin:  22%|██▏       | 2.19G/9.95G [00:04<00:17, 447MB/s]\u001b[A\n",
      "Downloading (…)l-00001-of-00002.bin:  23%|██▎       | 2.24G/9.95G [00:05<00:16, 458MB/s]\u001b[A\n",
      "Downloading (…)l-00001-of-00002.bin:  23%|██▎       | 2.30G/9.95G [00:05<00:16, 463MB/s]\u001b[A\n",
      "Downloading (…)l-00001-of-00002.bin:  24%|██▎       | 2.35G/9.95G [00:05<00:16, 474MB/s]\u001b[A\n",
      "Downloading (…)l-00001-of-00002.bin:  24%|██▍       | 2.40G/9.95G [00:05<00:16, 469MB/s]\u001b[A\n",
      "Downloading (…)l-00001-of-00002.bin:  25%|██▍       | 2.45G/9.95G [00:05<00:16, 466MB/s]\u001b[A\n",
      "Downloading (…)l-00001-of-00002.bin:  25%|██▌       | 2.51G/9.95G [00:05<00:16, 458MB/s]\u001b[A\n",
      "Downloading (…)l-00001-of-00002.bin:  26%|██▌       | 2.56G/9.95G [00:05<00:16, 443MB/s]\u001b[A\n",
      "Downloading (…)l-00001-of-00002.bin:  26%|██▌       | 2.61G/9.95G [00:05<00:17, 420MB/s]\u001b[A\n",
      "Downloading (…)l-00001-of-00002.bin:  27%|██▋       | 2.66G/9.95G [00:06<00:17, 418MB/s]\u001b[A\n",
      "Downloading (…)l-00001-of-00002.bin:  27%|██▋       | 2.72G/9.95G [00:06<00:16, 438MB/s]\u001b[A\n",
      "Downloading (…)l-00001-of-00002.bin:  28%|██▊       | 2.77G/9.95G [00:06<00:15, 452MB/s]\u001b[A\n",
      "Downloading (…)l-00001-of-00002.bin:  28%|██▊       | 2.82G/9.95G [00:06<00:16, 437MB/s]\u001b[A\n",
      "Downloading (…)l-00001-of-00002.bin:  29%|██▉       | 2.87G/9.95G [00:06<00:15, 445MB/s]\u001b[A\n",
      "Downloading (…)l-00001-of-00002.bin:  29%|██▉       | 2.93G/9.95G [00:06<00:15, 458MB/s]\u001b[A\n",
      "Downloading (…)l-00001-of-00002.bin:  30%|██▉       | 2.98G/9.95G [00:06<00:14, 470MB/s]\u001b[A\n",
      "Downloading (…)l-00001-of-00002.bin:  30%|███       | 3.03G/9.95G [00:06<00:14, 483MB/s]\u001b[A\n",
      "Downloading (…)l-00001-of-00002.bin:  31%|███       | 3.08G/9.95G [00:06<00:14, 487MB/s]\u001b[A\n",
      "Downloading (…)l-00001-of-00002.bin:  32%|███▏      | 3.14G/9.95G [00:07<00:14, 487MB/s]\u001b[A\n",
      "Downloading (…)l-00001-of-00002.bin:  32%|███▏      | 3.19G/9.95G [00:07<00:13, 494MB/s]\u001b[A\n",
      "Downloading (…)l-00001-of-00002.bin:  33%|███▎      | 3.24G/9.95G [00:07<00:14, 462MB/s]\u001b[A\n",
      "Downloading (…)l-00001-of-00002.bin:  33%|███▎      | 3.29G/9.95G [00:07<00:14, 453MB/s]\u001b[A\n",
      "Downloading (…)l-00001-of-00002.bin:  34%|███▎      | 3.34G/9.95G [00:07<00:14, 450MB/s]\u001b[A\n",
      "Downloading (…)l-00001-of-00002.bin:  34%|███▍      | 3.40G/9.95G [00:07<00:14, 449MB/s]\u001b[A\n",
      "Downloading (…)l-00001-of-00002.bin:  35%|███▍      | 3.45G/9.95G [00:07<00:15, 410MB/s]\u001b[A\n",
      "Downloading (…)l-00001-of-00002.bin:  35%|███▌      | 3.50G/9.95G [00:07<00:15, 414MB/s]\u001b[A\n",
      "Downloading (…)l-00001-of-00002.bin:  36%|███▌      | 3.55G/9.95G [00:08<00:15, 404MB/s]\u001b[A\n",
      "Downloading (…)l-00001-of-00002.bin:  36%|███▌      | 3.61G/9.95G [00:08<00:15, 415MB/s]\u001b[A\n",
      "Downloading (…)l-00001-of-00002.bin:  37%|███▋      | 3.65G/9.95G [00:08<00:16, 386MB/s]\u001b[A\n",
      "Downloading (…)l-00001-of-00002.bin:  37%|███▋      | 3.70G/9.95G [00:08<00:15, 405MB/s]\u001b[A\n",
      "Downloading (…)l-00001-of-00002.bin:  38%|███▊      | 3.75G/9.95G [00:08<00:14, 428MB/s]\u001b[A\n",
      "Downloading (…)l-00001-of-00002.bin:  38%|███▊      | 3.82G/9.95G [00:08<00:13, 457MB/s]\u001b[A\n",
      "Downloading (…)l-00001-of-00002.bin:  39%|███▉      | 3.87G/9.95G [00:08<00:13, 467MB/s]\u001b[A\n",
      "Downloading (…)l-00001-of-00002.bin:  39%|███▉      | 3.92G/9.95G [00:08<00:12, 481MB/s]\u001b[A\n",
      "Downloading (…)l-00001-of-00002.bin:  40%|███▉      | 3.97G/9.95G [00:08<00:12, 485MB/s]\u001b[A\n",
      "Downloading (…)l-00001-of-00002.bin:  40%|████      | 4.03G/9.95G [00:09<00:12, 465MB/s]\u001b[A\n",
      "Downloading (…)l-00001-of-00002.bin:  41%|████      | 4.08G/9.95G [00:09<00:12, 478MB/s]\u001b[A\n",
      "Downloading (…)l-00001-of-00002.bin:  42%|████▏     | 4.14G/9.95G [00:09<00:11, 501MB/s]\u001b[A\n",
      "Downloading (…)l-00001-of-00002.bin:  42%|████▏     | 4.20G/9.95G [00:09<00:11, 514MB/s]\u001b[A\n",
      "Downloading (…)l-00001-of-00002.bin:  43%|████▎     | 4.26G/9.95G [00:09<00:11, 508MB/s]\u001b[A\n",
      "Downloading (…)l-00001-of-00002.bin:  43%|████▎     | 4.31G/9.95G [00:09<00:11, 494MB/s]\u001b[A\n",
      "Downloading (…)l-00001-of-00002.bin:  44%|████▍     | 4.36G/9.95G [00:09<00:11, 480MB/s]\u001b[A\n",
      "Downloading (…)l-00001-of-00002.bin:  44%|████▍     | 4.41G/9.95G [00:09<00:12, 444MB/s]\u001b[A\n",
      "Downloading (…)l-00001-of-00002.bin:  45%|████▍     | 4.47G/9.95G [00:09<00:11, 463MB/s]\u001b[A\n",
      "Downloading (…)l-00001-of-00002.bin:  45%|████▌     | 4.52G/9.95G [00:10<00:11, 474MB/s]\u001b[A\n",
      "Downloading (…)l-00001-of-00002.bin:  46%|████▌     | 4.57G/9.95G [00:10<00:11, 488MB/s]\u001b[A\n",
      "Downloading (…)l-00001-of-00002.bin:  47%|████▋     | 4.63G/9.95G [00:10<00:10, 510MB/s]\u001b[A\n",
      "Downloading (…)l-00001-of-00002.bin:  47%|████▋     | 4.70G/9.95G [00:10<00:10, 521MB/s]\u001b[A\n",
      "Downloading (…)l-00001-of-00002.bin:  48%|████▊     | 4.75G/9.95G [00:10<00:10, 514MB/s]\u001b[A\n",
      "Downloading (…)l-00001-of-00002.bin:  48%|████▊     | 4.81G/9.95G [00:10<00:09, 518MB/s]\u001b[A\n",
      "Downloading (…)l-00001-of-00002.bin:  49%|████▉     | 4.87G/9.95G [00:10<00:10, 479MB/s]\u001b[A\n",
      "Downloading (…)l-00001-of-00002.bin:  49%|████▉     | 4.92G/9.95G [00:10<00:11, 437MB/s]\u001b[A\n",
      "Downloading (…)l-00001-of-00002.bin:  50%|█████     | 4.98G/9.95G [00:11<00:10, 466MB/s]\u001b[A\n",
      "Downloading (…)l-00001-of-00002.bin:  51%|█████     | 5.03G/9.95G [00:11<00:10, 472MB/s]\u001b[A\n",
      "Downloading (…)l-00001-of-00002.bin:  51%|█████     | 5.09G/9.95G [00:11<00:10, 463MB/s]\u001b[A\n",
      "Downloading (…)l-00001-of-00002.bin:  52%|█████▏    | 5.15G/9.95G [00:11<00:10, 474MB/s]\u001b[A\n",
      "Downloading (…)l-00001-of-00002.bin:  52%|█████▏    | 5.20G/9.95G [00:11<00:09, 483MB/s]\u001b[A\n",
      "Downloading (…)l-00001-of-00002.bin:  53%|█████▎    | 5.25G/9.95G [00:11<00:10, 453MB/s]\u001b[A\n",
      "Downloading (…)l-00001-of-00002.bin:  53%|█████▎    | 5.32G/9.95G [00:11<00:09, 469MB/s]\u001b[A\n",
      "Downloading (…)l-00001-of-00002.bin:  54%|█████▍    | 5.37G/9.95G [00:11<00:09, 468MB/s]\u001b[A\n",
      "Downloading (…)l-00001-of-00002.bin:  54%|█████▍    | 5.42G/9.95G [00:11<00:09, 459MB/s]\u001b[A\n",
      "Downloading (…)l-00001-of-00002.bin:  55%|█████▌    | 5.48G/9.95G [00:12<00:09, 482MB/s]\u001b[A\n",
      "Downloading (…)l-00001-of-00002.bin:  56%|█████▌    | 5.54G/9.95G [00:12<00:09, 464MB/s]\u001b[A\n",
      "Downloading (…)l-00001-of-00002.bin:  56%|█████▌    | 5.59G/9.95G [00:12<00:09, 475MB/s]\u001b[A\n",
      "Downloading (…)l-00001-of-00002.bin:  57%|█████▋    | 5.64G/9.95G [00:12<00:10, 427MB/s]\u001b[A\n",
      "Downloading (…)l-00001-of-00002.bin:  57%|█████▋    | 5.69G/9.95G [00:12<00:10, 404MB/s]\u001b[A\n",
      "Downloading (…)l-00001-of-00002.bin:  58%|█████▊    | 5.75G/9.95G [00:12<00:10, 411MB/s]\u001b[A\n",
      "Downloading (…)l-00001-of-00002.bin:  58%|█████▊    | 5.80G/9.95G [00:12<00:10, 414MB/s]\u001b[A\n",
      "Downloading (…)l-00001-of-00002.bin:  59%|█████▉    | 5.85G/9.95G [00:12<00:09, 437MB/s]\u001b[A\n",
      "Downloading (…)l-00001-of-00002.bin:  59%|█████▉    | 5.91G/9.95G [00:13<00:08, 471MB/s]\u001b[A\n",
      "Downloading (…)l-00001-of-00002.bin:  60%|█████▉    | 5.97G/9.95G [00:13<00:08, 469MB/s]\u001b[A\n",
      "Downloading (…)l-00001-of-00002.bin:  60%|██████    | 6.02G/9.95G [00:13<00:08, 471MB/s]\u001b[A\n",
      "Downloading (…)l-00001-of-00002.bin:  61%|██████    | 6.08G/9.95G [00:13<00:07, 492MB/s]\u001b[A\n",
      "Downloading (…)l-00001-of-00002.bin:  62%|██████▏   | 6.13G/9.95G [00:13<00:08, 464MB/s]\u001b[A\n",
      "Downloading (…)l-00001-of-00002.bin:  62%|██████▏   | 6.19G/9.95G [00:13<00:09, 380MB/s]\u001b[A\n",
      "Downloading (…)l-00001-of-00002.bin:  63%|██████▎   | 6.23G/9.95G [00:13<00:10, 350MB/s]\u001b[A\n",
      "Downloading (…)l-00001-of-00002.bin:  63%|██████▎   | 6.28G/9.95G [00:14<00:09, 375MB/s]\u001b[A\n",
      "Downloading (…)l-00001-of-00002.bin:  64%|██████▎   | 6.33G/9.95G [00:14<00:08, 410MB/s]\u001b[A\n",
      "Downloading (…)l-00001-of-00002.bin:  64%|██████▍   | 6.39G/9.95G [00:14<00:09, 389MB/s]\u001b[A\n",
      "Downloading (…)l-00001-of-00002.bin:  65%|██████▍   | 6.44G/9.95G [00:14<00:08, 405MB/s]\u001b[A\n",
      "Downloading (…)l-00001-of-00002.bin:  65%|██████▌   | 6.49G/9.95G [00:14<00:08, 427MB/s]\u001b[A\n",
      "Downloading (…)l-00001-of-00002.bin:  66%|██████▌   | 6.54G/9.95G [00:14<00:07, 437MB/s]\u001b[A\n",
      "Downloading (…)l-00001-of-00002.bin:  66%|██████▋   | 6.60G/9.95G [00:14<00:07, 437MB/s]\u001b[A\n",
      "Downloading (…)l-00001-of-00002.bin:  67%|██████▋   | 6.65G/9.95G [00:14<00:07, 449MB/s]\u001b[A\n",
      "Downloading (…)l-00001-of-00002.bin:  67%|██████▋   | 6.70G/9.95G [00:14<00:07, 436MB/s]\u001b[A\n",
      "Downloading (…)l-00001-of-00002.bin:  68%|██████▊   | 6.75G/9.95G [00:15<00:07, 441MB/s]\u001b[A\n",
      "Downloading (…)l-00001-of-00002.bin:  68%|██████▊   | 6.81G/9.95G [00:15<00:06, 454MB/s]\u001b[A\n",
      "Downloading (…)l-00001-of-00002.bin:  69%|██████▉   | 6.87G/9.95G [00:15<00:06, 486MB/s]\u001b[A\n",
      "Downloading (…)l-00001-of-00002.bin:  70%|██████▉   | 6.92G/9.95G [00:15<00:06, 490MB/s]\u001b[A\n",
      "Downloading (…)l-00001-of-00002.bin:  70%|███████   | 6.97G/9.95G [00:15<00:06, 489MB/s]\u001b[A\n",
      "Downloading (…)l-00001-of-00002.bin:  71%|███████   | 7.04G/9.95G [00:15<00:05, 505MB/s]\u001b[A\n",
      "Downloading (…)l-00001-of-00002.bin:  71%|███████   | 7.09G/9.95G [00:15<00:05, 492MB/s]\u001b[A\n",
      "Downloading (…)l-00001-of-00002.bin:  72%|███████▏  | 7.14G/9.95G [00:15<00:05, 484MB/s]\u001b[A\n",
      "Downloading (…)l-00001-of-00002.bin:  72%|███████▏  | 7.19G/9.95G [00:15<00:05, 486MB/s]\u001b[A\n",
      "Downloading (…)l-00001-of-00002.bin:  73%|███████▎  | 7.25G/9.95G [00:16<00:05, 487MB/s]\u001b[A\n",
      "Downloading (…)l-00001-of-00002.bin:  73%|███████▎  | 7.30G/9.95G [00:16<00:05, 492MB/s]\u001b[A\n",
      "Downloading (…)l-00001-of-00002.bin:  74%|███████▍  | 7.35G/9.95G [00:16<00:05, 485MB/s]\u001b[A\n",
      "Downloading (…)l-00001-of-00002.bin:  74%|███████▍  | 7.40G/9.95G [00:16<00:05, 484MB/s]\u001b[A\n",
      "Downloading (…)l-00001-of-00002.bin:  75%|███████▍  | 7.46G/9.95G [00:16<00:05, 483MB/s]\u001b[A\n",
      "Downloading (…)l-00001-of-00002.bin:  75%|███████▌  | 7.51G/9.95G [00:16<00:05, 468MB/s]\u001b[A\n",
      "Downloading (…)l-00001-of-00002.bin:  76%|███████▌  | 7.56G/9.95G [00:16<00:05, 473MB/s]\u001b[A\n",
      "Downloading (…)l-00001-of-00002.bin:  77%|███████▋  | 7.62G/9.95G [00:16<00:04, 493MB/s]\u001b[A\n",
      "Downloading (…)l-00001-of-00002.bin:  77%|███████▋  | 7.69G/9.95G [00:16<00:04, 517MB/s]\u001b[A\n",
      "Downloading (…)l-00001-of-00002.bin:  78%|███████▊  | 7.74G/9.95G [00:17<00:04, 505MB/s]\u001b[A\n",
      "Downloading (…)l-00001-of-00002.bin:  78%|███████▊  | 7.79G/9.95G [00:17<00:04, 494MB/s]\u001b[A\n",
      "Downloading (…)l-00001-of-00002.bin:  79%|███████▉  | 7.84G/9.95G [00:17<00:04, 483MB/s]\u001b[A\n",
      "Downloading (…)l-00001-of-00002.bin:  79%|███████▉  | 7.91G/9.95G [00:17<00:04, 502MB/s]\u001b[A\n",
      "Downloading (…)l-00001-of-00002.bin:  80%|███████▉  | 7.96G/9.95G [00:17<00:04, 483MB/s]\u001b[A\n",
      "Downloading (…)l-00001-of-00002.bin:  81%|████████  | 8.01G/9.95G [00:17<00:06, 305MB/s]\u001b[A\n",
      "Downloading (…)l-00001-of-00002.bin:  81%|████████  | 8.06G/9.95G [00:17<00:05, 343MB/s]\u001b[A\n",
      "Downloading (…)l-00001-of-00002.bin:  82%|████████▏ | 8.12G/9.95G [00:18<00:04, 369MB/s]\u001b[A\n",
      "Downloading (…)l-00001-of-00002.bin:  82%|████████▏ | 8.17G/9.95G [00:18<00:04, 393MB/s]\u001b[A\n",
      "Downloading (…)l-00001-of-00002.bin:  83%|████████▎ | 8.23G/9.95G [00:18<00:04, 425MB/s]\u001b[A\n",
      "Downloading (…)l-00001-of-00002.bin:  83%|████████▎ | 8.28G/9.95G [00:18<00:04, 396MB/s]\u001b[A\n",
      "Downloading (…)l-00001-of-00002.bin:  84%|████████▍ | 8.34G/9.95G [00:18<00:03, 413MB/s]\u001b[A\n",
      "Downloading (…)l-00001-of-00002.bin:  84%|████████▍ | 8.39G/9.95G [00:18<00:03, 405MB/s]\u001b[A\n",
      "Downloading (…)l-00001-of-00002.bin:  85%|████████▍ | 8.44G/9.95G [00:18<00:03, 413MB/s]\u001b[A\n",
      "Downloading (…)l-00001-of-00002.bin:  85%|████████▌ | 8.49G/9.95G [00:18<00:03, 433MB/s]\u001b[A\n",
      "Downloading (…)l-00001-of-00002.bin:  86%|████████▌ | 8.55G/9.95G [00:19<00:03, 435MB/s]\u001b[A\n",
      "Downloading (…)l-00001-of-00002.bin:  86%|████████▋ | 8.60G/9.95G [00:19<00:03, 441MB/s]\u001b[A\n",
      "Downloading (…)l-00001-of-00002.bin:  87%|████████▋ | 8.65G/9.95G [00:19<00:02, 448MB/s]\u001b[A\n",
      "Downloading (…)l-00001-of-00002.bin:  87%|████████▋ | 8.70G/9.95G [00:19<00:02, 431MB/s]\u001b[A\n",
      "Downloading (…)l-00001-of-00002.bin:  88%|████████▊ | 8.76G/9.95G [00:19<00:02, 432MB/s]\u001b[A\n",
      "Downloading (…)l-00001-of-00002.bin:  89%|████████▊ | 8.81G/9.95G [00:19<00:02, 450MB/s]\u001b[A\n",
      "Downloading (…)l-00001-of-00002.bin:  89%|████████▉ | 8.86G/9.95G [00:19<00:02, 456MB/s]\u001b[A\n",
      "Downloading (…)l-00001-of-00002.bin:  90%|████████▉ | 8.91G/9.95G [00:19<00:02, 472MB/s]\u001b[A\n",
      "Downloading (…)l-00001-of-00002.bin:  90%|█████████ | 8.98G/9.95G [00:19<00:01, 491MB/s]\u001b[A\n",
      "Downloading (…)l-00001-of-00002.bin:  91%|█████████ | 9.03G/9.95G [00:20<00:01, 468MB/s]\u001b[A\n",
      "Downloading (…)l-00001-of-00002.bin:  91%|█████████▏| 9.08G/9.95G [00:20<00:01, 455MB/s]\u001b[A\n",
      "Downloading (…)l-00001-of-00002.bin:  92%|█████████▏| 9.14G/9.95G [00:20<00:01, 480MB/s]\u001b[A\n",
      "Downloading (…)l-00001-of-00002.bin:  92%|█████████▏| 9.20G/9.95G [00:20<00:01, 437MB/s]\u001b[A\n",
      "Downloading (…)l-00001-of-00002.bin:  93%|█████████▎| 9.25G/9.95G [00:20<00:01, 362MB/s]\u001b[A\n",
      "Downloading (…)l-00001-of-00002.bin:  94%|█████████▎| 9.31G/9.95G [00:20<00:01, 399MB/s]\u001b[A\n",
      "Downloading (…)l-00001-of-00002.bin:  94%|█████████▍| 9.36G/9.95G [00:20<00:01, 427MB/s]\u001b[A\n",
      "Downloading (…)l-00001-of-00002.bin:  95%|█████████▍| 9.42G/9.95G [00:21<00:01, 439MB/s]\u001b[A\n",
      "Downloading (…)l-00001-of-00002.bin:  95%|█████████▌| 9.47G/9.95G [00:21<00:01, 460MB/s]\u001b[A\n",
      "Downloading (…)l-00001-of-00002.bin:  96%|█████████▌| 9.52G/9.95G [00:21<00:00, 476MB/s]\u001b[A\n",
      "Downloading (…)l-00001-of-00002.bin:  96%|█████████▋| 9.58G/9.95G [00:21<00:00, 497MB/s]\u001b[A\n",
      "Downloading (…)l-00001-of-00002.bin:  97%|█████████▋| 9.64G/9.95G [00:21<00:00, 491MB/s]\u001b[A\n",
      "Downloading (…)l-00001-of-00002.bin:  97%|█████████▋| 9.69G/9.95G [00:21<00:00, 494MB/s]\u001b[A\n",
      "Downloading (…)l-00001-of-00002.bin:  98%|█████████▊| 9.74G/9.95G [00:21<00:00, 502MB/s]\u001b[A\n",
      "Downloading (…)l-00001-of-00002.bin:  99%|█████████▊| 9.80G/9.95G [00:21<00:00, 505MB/s]\u001b[A\n",
      "Downloading (…)l-00001-of-00002.bin:  99%|█████████▉| 9.87G/9.95G [00:21<00:00, 520MB/s]\u001b[A\n",
      "Downloading (…)l-00001-of-00002.bin: 100%|██████████| 9.95G/9.95G [00:22<00:00, 451MB/s]\u001b[A\n",
      "Downloading shards:  50%|█████     | 1/2 [01:37<01:37, 97.36s/it]\n",
      "Downloading (…)l-00002-of-00002.bin:   0%|          | 0.00/4.48G [00:00<?, ?B/s]\u001b[A\n",
      "Downloading (…)l-00002-of-00002.bin:   0%|          | 10.5M/4.48G [00:00<01:31, 49.0MB/s]\u001b[A\n",
      "Downloading (…)l-00002-of-00002.bin:   2%|▏         | 73.4M/4.48G [00:00<00:16, 262MB/s] \u001b[A\n",
      "Downloading (…)l-00002-of-00002.bin:   3%|▎         | 126M/4.48G [00:00<00:12, 344MB/s] \u001b[A\n",
      "Downloading (…)l-00002-of-00002.bin:   4%|▍         | 178M/4.48G [00:00<00:10, 398MB/s]\u001b[A\n",
      "Downloading (…)l-00002-of-00002.bin:   5%|▌         | 231M/4.48G [00:00<00:10, 414MB/s]\u001b[A\n",
      "Downloading (…)l-00002-of-00002.bin:   6%|▋         | 283M/4.48G [00:00<00:10, 411MB/s]\u001b[A\n",
      "Downloading (…)l-00002-of-00002.bin:   7%|▋         | 336M/4.48G [00:00<00:09, 420MB/s]\u001b[A\n",
      "Downloading (…)l-00002-of-00002.bin:   9%|▊         | 388M/4.48G [00:01<00:09, 438MB/s]\u001b[A\n",
      "Downloading (…)l-00002-of-00002.bin:  10%|▉         | 440M/4.48G [00:01<00:09, 408MB/s]\u001b[A\n",
      "Downloading (…)l-00002-of-00002.bin:  11%|█         | 493M/4.48G [00:01<00:09, 433MB/s]\u001b[A\n",
      "Downloading (…)l-00002-of-00002.bin:  12%|█▏        | 545M/4.48G [00:01<00:08, 446MB/s]\u001b[A\n",
      "Downloading (…)l-00002-of-00002.bin:  13%|█▎        | 598M/4.48G [00:01<00:08, 455MB/s]\u001b[A\n",
      "Downloading (…)l-00002-of-00002.bin:  15%|█▍        | 650M/4.48G [00:01<00:08, 470MB/s]\u001b[A\n",
      "Downloading (…)l-00002-of-00002.bin:  16%|█▌        | 703M/4.48G [00:01<00:07, 484MB/s]\u001b[A\n",
      "Downloading (…)l-00002-of-00002.bin:  17%|█▋        | 755M/4.48G [00:01<00:07, 493MB/s]\u001b[A\n",
      "Downloading (…)l-00002-of-00002.bin:  18%|█▊        | 807M/4.48G [00:01<00:07, 499MB/s]\u001b[A\n",
      "Downloading (…)l-00002-of-00002.bin:  19%|█▉        | 860M/4.48G [00:02<00:07, 486MB/s]\u001b[A\n",
      "Downloading (…)l-00002-of-00002.bin:  20%|██        | 912M/4.48G [00:02<00:07, 450MB/s]\u001b[A\n",
      "Downloading (…)l-00002-of-00002.bin:  22%|██▏       | 965M/4.48G [00:02<00:08, 415MB/s]\u001b[A\n",
      "Downloading (…)l-00002-of-00002.bin:  23%|██▎       | 1.03G/4.48G [00:02<00:07, 449MB/s]\u001b[A\n",
      "Downloading (…)l-00002-of-00002.bin:  24%|██▍       | 1.08G/4.48G [00:02<00:07, 435MB/s]\u001b[A\n",
      "Downloading (…)l-00002-of-00002.bin:  25%|██▌       | 1.13G/4.48G [00:02<00:07, 443MB/s]\u001b[A\n",
      "Downloading (…)l-00002-of-00002.bin:  26%|██▋       | 1.18G/4.48G [00:02<00:07, 450MB/s]\u001b[A\n",
      "Downloading (…)l-00002-of-00002.bin:  28%|██▊       | 1.24G/4.48G [00:02<00:07, 436MB/s]\u001b[A\n",
      "Downloading (…)l-00002-of-00002.bin:  29%|██▉       | 1.29G/4.48G [00:03<00:07, 443MB/s]\u001b[A\n",
      "Downloading (…)l-00002-of-00002.bin:  30%|██▉       | 1.34G/4.48G [00:03<00:07, 443MB/s]\u001b[A\n",
      "Downloading (…)l-00002-of-00002.bin:  31%|███       | 1.39G/4.48G [00:03<00:06, 457MB/s]\u001b[A\n",
      "Downloading (…)l-00002-of-00002.bin:  33%|███▎      | 1.46G/4.48G [00:03<00:06, 484MB/s]\u001b[A\n",
      "Downloading (…)l-00002-of-00002.bin:  34%|███▎      | 1.51G/4.48G [00:03<00:07, 411MB/s]\u001b[A\n",
      "Downloading (…)l-00002-of-00002.bin:  35%|███▍      | 1.56G/4.48G [00:03<00:06, 431MB/s]\u001b[A\n",
      "Downloading (…)l-00002-of-00002.bin:  36%|███▌      | 1.61G/4.48G [00:03<00:06, 431MB/s]\u001b[A\n",
      "Downloading (…)l-00002-of-00002.bin:  37%|███▋      | 1.67G/4.48G [00:03<00:06, 424MB/s]\u001b[A\n",
      "Downloading (…)l-00002-of-00002.bin:  38%|███▊      | 1.72G/4.48G [00:04<00:06, 416MB/s]\u001b[A\n",
      "Downloading (…)l-00002-of-00002.bin:  40%|███▉      | 1.77G/4.48G [00:04<00:07, 383MB/s]\u001b[A\n",
      "Downloading (…)l-00002-of-00002.bin:  41%|████      | 1.82G/4.48G [00:04<00:06, 409MB/s]\u001b[A\n",
      "Downloading (…)l-00002-of-00002.bin:  42%|████▏     | 1.88G/4.48G [00:04<00:06, 411MB/s]\u001b[A\n",
      "Downloading (…)l-00002-of-00002.bin:  43%|████▎     | 1.93G/4.48G [00:04<00:06, 408MB/s]\u001b[A\n",
      "Downloading (…)l-00002-of-00002.bin:  44%|████▍     | 1.97G/4.48G [00:04<00:06, 410MB/s]\u001b[A\n",
      "Downloading (…)l-00002-of-00002.bin:  45%|████▍     | 2.01G/4.48G [00:04<00:05, 412MB/s]\u001b[A\n",
      "Downloading (…)l-00002-of-00002.bin:  46%|████▌     | 2.07G/4.48G [00:04<00:05, 418MB/s]\u001b[A\n",
      "Downloading (…)l-00002-of-00002.bin:  47%|████▋     | 2.12G/4.48G [00:04<00:05, 439MB/s]\u001b[A\n",
      "Downloading (…)l-00002-of-00002.bin:  48%|████▊     | 2.17G/4.48G [00:05<00:05, 442MB/s]\u001b[A\n",
      "Downloading (…)l-00002-of-00002.bin:  50%|████▉     | 2.22G/4.48G [00:05<00:04, 463MB/s]\u001b[A\n",
      "Downloading (…)l-00002-of-00002.bin:  51%|█████     | 2.28G/4.48G [00:05<00:04, 465MB/s]\u001b[A\n",
      "Downloading (…)l-00002-of-00002.bin:  52%|█████▏    | 2.33G/4.48G [00:05<00:05, 421MB/s]\u001b[A\n",
      "Downloading (…)l-00002-of-00002.bin:  53%|█████▎    | 2.38G/4.48G [00:05<00:04, 424MB/s]\u001b[A\n",
      "Downloading (…)l-00002-of-00002.bin:  54%|█████▍    | 2.43G/4.48G [00:05<00:04, 443MB/s]\u001b[A\n",
      "Downloading (…)l-00002-of-00002.bin:  55%|█████▌    | 2.49G/4.48G [00:05<00:04, 457MB/s]\u001b[A\n",
      "Downloading (…)l-00002-of-00002.bin:  57%|█████▋    | 2.54G/4.48G [00:05<00:04, 450MB/s]\u001b[A\n",
      "Downloading (…)l-00002-of-00002.bin:  58%|█████▊    | 2.59G/4.48G [00:06<00:04, 430MB/s]\u001b[A\n",
      "Downloading (…)l-00002-of-00002.bin:  59%|█████▉    | 2.64G/4.48G [00:06<00:04, 438MB/s]\u001b[A\n",
      "Downloading (…)l-00002-of-00002.bin:  60%|██████    | 2.69G/4.48G [00:06<00:03, 451MB/s]\u001b[A\n",
      "Downloading (…)l-00002-of-00002.bin:  62%|██████▏   | 2.76G/4.48G [00:06<00:03, 481MB/s]\u001b[A\n",
      "Downloading (…)l-00002-of-00002.bin:  63%|██████▎   | 2.81G/4.48G [00:06<00:03, 474MB/s]\u001b[A\n",
      "Downloading (…)l-00002-of-00002.bin:  64%|██████▍   | 2.86G/4.48G [00:06<00:03, 458MB/s]\u001b[A\n",
      "Downloading (…)l-00002-of-00002.bin:  65%|██████▌   | 2.92G/4.48G [00:06<00:03, 448MB/s]\u001b[A\n",
      "Downloading (…)l-00002-of-00002.bin:  66%|██████▌   | 2.97G/4.48G [00:06<00:03, 426MB/s]\u001b[A\n",
      "Downloading (…)l-00002-of-00002.bin:  67%|██████▋   | 3.02G/4.48G [00:07<00:03, 413MB/s]\u001b[A\n",
      "Downloading (…)l-00002-of-00002.bin:  68%|██████▊   | 3.06G/4.48G [00:07<00:03, 402MB/s]\u001b[A\n",
      "Downloading (…)l-00002-of-00002.bin:  69%|██████▉   | 3.11G/4.48G [00:07<00:03, 420MB/s]\u001b[A\n",
      "Downloading (…)l-00002-of-00002.bin:  71%|███████   | 3.17G/4.48G [00:07<00:02, 447MB/s]\u001b[A\n",
      "Downloading (…)l-00002-of-00002.bin:  72%|███████▏  | 3.22G/4.48G [00:07<00:02, 453MB/s]\u001b[A\n",
      "Downloading (…)l-00002-of-00002.bin:  73%|███████▎  | 3.27G/4.48G [00:07<00:02, 472MB/s]\u001b[A\n",
      "Downloading (…)l-00002-of-00002.bin:  74%|███████▍  | 3.32G/4.48G [00:07<00:02, 476MB/s]\u001b[A\n",
      "Downloading (…)l-00002-of-00002.bin:  75%|███████▌  | 3.38G/4.48G [00:07<00:02, 472MB/s]\u001b[A\n",
      "Downloading (…)l-00002-of-00002.bin:  77%|███████▋  | 3.44G/4.48G [00:07<00:02, 493MB/s]\u001b[A\n",
      "Downloading (…)l-00002-of-00002.bin:  78%|███████▊  | 3.49G/4.48G [00:08<00:02, 451MB/s]\u001b[A\n",
      "Downloading (…)l-00002-of-00002.bin:  79%|███████▉  | 3.54G/4.48G [00:08<00:02, 430MB/s]\u001b[A\n",
      "Downloading (…)l-00002-of-00002.bin:  80%|████████  | 3.60G/4.48G [00:08<00:02, 437MB/s]\u001b[A\n",
      "Downloading (…)l-00002-of-00002.bin:  81%|████████▏ | 3.65G/4.48G [00:08<00:01, 429MB/s]\u001b[A\n",
      "Downloading (…)l-00002-of-00002.bin:  83%|████████▎ | 3.70G/4.48G [00:08<00:01, 422MB/s]\u001b[A\n",
      "Downloading (…)l-00002-of-00002.bin:  84%|████████▎ | 3.75G/4.48G [00:08<00:01, 423MB/s]\u001b[A\n",
      "Downloading (…)l-00002-of-00002.bin:  85%|████████▍ | 3.81G/4.48G [00:08<00:01, 369MB/s]\u001b[A\n",
      "Downloading (…)l-00002-of-00002.bin:  86%|████████▌ | 3.85G/4.48G [00:08<00:01, 370MB/s]\u001b[A\n",
      "Downloading (…)l-00002-of-00002.bin:  87%|████████▋ | 3.90G/4.48G [00:09<00:01, 400MB/s]\u001b[A\n",
      "Downloading (…)l-00002-of-00002.bin:  88%|████████▊ | 3.94G/4.48G [00:09<00:01, 387MB/s]\u001b[A\n",
      "Downloading (…)l-00002-of-00002.bin:  89%|████████▉ | 3.98G/4.48G [00:09<00:01, 393MB/s]\u001b[A\n",
      "Downloading (…)l-00002-of-00002.bin:  90%|█████████ | 4.04G/4.48G [00:09<00:01, 391MB/s]\u001b[A\n",
      "Downloading (…)l-00002-of-00002.bin:  91%|█████████ | 4.09G/4.48G [00:09<00:00, 412MB/s]\u001b[A\n",
      "Downloading (…)l-00002-of-00002.bin:  92%|█████████▏| 4.13G/4.48G [00:09<00:00, 401MB/s]\u001b[A\n",
      "Downloading (…)l-00002-of-00002.bin:  93%|█████████▎| 4.18G/4.48G [00:09<00:00, 414MB/s]\u001b[A\n",
      "Downloading (…)l-00002-of-00002.bin:  94%|█████████▍| 4.23G/4.48G [00:09<00:00, 415MB/s]\u001b[A\n",
      "Downloading (…)l-00002-of-00002.bin:  95%|█████████▌| 4.28G/4.48G [00:09<00:00, 417MB/s]\u001b[A\n",
      "Downloading (…)l-00002-of-00002.bin:  97%|█████████▋| 4.33G/4.48G [00:10<00:00, 424MB/s]\u001b[A\n",
      "Downloading (…)l-00002-of-00002.bin:  98%|█████████▊| 4.38G/4.48G [00:10<00:00, 418MB/s]\u001b[A\n",
      "Downloading (…)l-00002-of-00002.bin:  99%|█████████▊| 4.42G/4.48G [00:10<00:00, 400MB/s]\u001b[A\n",
      "Downloading (…)l-00002-of-00002.bin: 100%|██████████| 4.48G/4.48G [00:10<00:00, 427MB/s]\u001b[A\n",
      "Downloading shards: 100%|██████████| 2/2 [02:23<00:00, 71.82s/it]\n",
      "Loading checkpoint shards: 100%|██████████| 2/2 [01:01<00:00, 30.61s/it]\n",
      "Downloading (…)neration_config.json: 100%|██████████| 117/117 [00:00<00:00, 559kB/s]\n"
     ]
    }
   ],
   "source": [
    "# model_name = \"ybelkada/falcon-7b-sharded-bf16\"\n",
    "model_name = \"tiiuae/falcon-7b\" \n",
    "\n",
    "bnb_config = BitsAndBytesConfig(\n",
    "    load_in_4bit=True,\n",
    "    bnb_4bit_quant_type=\"nf4\", # normalised float 4 bit\n",
    "    bnb_4bit_compute_dtype=torch.float16,\n",
    ")\n",
    "\n",
    "model = AutoModelForCausalLM.from_pretrained(\n",
    "# model = FalconForCausalLM.from_pretrained(\n",
    "    model_name,\n",
    "    quantization_config=bnb_config,\n",
    "    trust_remote_code=True\n",
    ")\n",
    "model.config.use_cache = False"
   ]
  },
  {
   "cell_type": "code",
   "execution_count": 9,
   "id": "ad0264c6-cc69-4ddb-8435-ad8c37123750",
   "metadata": {
    "tags": []
   },
   "outputs": [],
   "source": [
    "tokenizer = AutoTokenizer.from_pretrained(model_name, trust_remote_code=True)\n",
    "tokenizer.pad_token = tokenizer.eos_token"
   ]
  },
  {
   "cell_type": "code",
   "execution_count": 10,
   "id": "efa9585f-d38b-4a45-9283-19f8aa7c86af",
   "metadata": {
    "tags": []
   },
   "outputs": [],
   "source": [
    "from peft import prepare_model_for_kbit_training\n",
    "\n",
    "model.gradient_checkpointing_enable()\n",
    "model = prepare_model_for_kbit_training(model)"
   ]
  },
  {
   "cell_type": "code",
   "execution_count": 11,
   "id": "28843919-b76c-486b-9f6c-aa68e1910f72",
   "metadata": {
    "tags": []
   },
   "outputs": [],
   "source": [
    "def print_trainable_parameters(model):\n",
    "    \"\"\"\n",
    "    Prints the number of trainable parameters in the model.\n",
    "    \"\"\"\n",
    "    trainable_params = 0\n",
    "    all_param = 0\n",
    "    for _, param in model.named_parameters():\n",
    "        all_param += param.numel()\n",
    "        if param.requires_grad:\n",
    "            trainable_params += param.numel()\n",
    "    print(\n",
    "        f\"trainable params: {trainable_params} || all params: {all_param} || trainable%: {100 * trainable_params / all_param}\"\n",
    "    )"
   ]
  },
  {
   "cell_type": "markdown",
   "id": "2bcf906e-8950-4a78-9b9b-6110afa1ddf6",
   "metadata": {},
   "source": [
    "# Download Dataset"
   ]
  },
  {
   "cell_type": "code",
   "execution_count": 12,
   "id": "ebdf833b-41c7-463f-bab0-80dabe53b404",
   "metadata": {
    "tags": []
   },
   "outputs": [
    {
     "name": "stderr",
     "output_type": "stream",
     "text": [
      "Downloading builder script: 100%|██████████| 3.36k/3.36k [00:00<00:00, 2.03MB/s]\n",
      "Downloading metadata: 100%|██████████| 1.58k/1.58k [00:00<00:00, 1.22MB/s]\n",
      "Downloading readme: 100%|██████████| 7.04k/7.04k [00:00<00:00, 5.29MB/s]\n",
      "Downloading data: 100%|██████████| 2.94M/2.94M [00:00<00:00, 18.5MB/s]\n",
      "Generating train split: 100%|██████████| 14732/14732 [00:00<00:00, 16849.18 examples/s]\n",
      "Generating test split: 100%|██████████| 819/819 [00:00<00:00, 3140.83 examples/s]\n",
      "Generating validation split: 100%|██████████| 818/818 [00:00<00:00, 3158.44 examples/s]"
     ]
    },
    {
     "name": "stdout",
     "output_type": "stream",
     "text": [
      "Train dataset size: 14732\n",
      "Test dataset size: 819\n"
     ]
    },
    {
     "name": "stderr",
     "output_type": "stream",
     "text": [
      "\n"
     ]
    }
   ],
   "source": [
    "from datasets import load_dataset\n",
    "\n",
    "# Load dataset from the hub\n",
    "dataset = load_dataset(\"samsum\")\n",
    "\n",
    "print(f\"Train dataset size: {len(dataset['train'])}\")\n",
    "print(f\"Test dataset size: {len(dataset['test'])}\")"
   ]
  },
  {
   "cell_type": "markdown",
   "id": "28b775a4-8257-4a0b-bab4-12f08ea01456",
   "metadata": {},
   "source": [
    "## Convert data to the prompt template for finetuning"
   ]
  },
  {
   "cell_type": "code",
   "execution_count": 13,
   "id": "24bc7b9d-7f87-44c9-bf4c-b42ee358d398",
   "metadata": {
    "tags": []
   },
   "outputs": [
    {
     "name": "stderr",
     "output_type": "stream",
     "text": [
      "Map: 100%|██████████| 14732/14732 [00:00<00:00, 16376.29 examples/s]"
     ]
    },
    {
     "name": "stdout",
     "output_type": "stream",
     "text": [
      "Summarize the chat dialogue:\n",
      "Tim: Hi, what's up?\n",
      "Kim: Bad mood tbh, I was going to do lots of stuff but ended up procrastinating\n",
      "Tim: What did you plan on doing?\n",
      "Kim: Oh you know, uni stuff and unfucking my room\n",
      "Kim: Maybe tomorrow I'll move my ass and do everything\n",
      "Kim: We were going to defrost a fridge so instead of shopping I'll eat some defrosted veggies\n",
      "Tim: For doing stuff I recommend Pomodoro technique where u use breaks for doing chores\n",
      "Tim: It really helps\n",
      "Kim: thanks, maybe I'll do that\n",
      "Tim: I also like using post-its in kaban style\n",
      "---\n",
      "Summary:\n",
      "Kim may try the pomodoro technique recommended by Tim to get more stuff done.<|endoftext|>\n"
     ]
    },
    {
     "name": "stderr",
     "output_type": "stream",
     "text": [
      "\n"
     ]
    }
   ],
   "source": [
    "from random import randint\n",
    "\n",
    "# custom instruct prompt start\n",
    "prompt_template = f\"Summarize the chat dialogue:\\n{{dialogue}}\\n---\\nSummary:\\n{{summary}}{{eos_token}}\"\n",
    "\n",
    "# template dataset to add prompt to each sample\n",
    "def template_dataset(sample):\n",
    "    sample[\"text\"] = prompt_template.format(dialogue=sample[\"dialogue\"],\n",
    "                                            summary=sample[\"summary\"],\n",
    "                                            eos_token=tokenizer.eos_token)\n",
    "    return sample\n",
    "\n",
    "\n",
    "# apply prompt template per sample\n",
    "train_dataset = dataset[\"train\"].map(template_dataset, remove_columns=list(dataset[\"train\"].features))\n",
    "\n",
    "print(train_dataset[randint(0, len(dataset))][\"text\"])"
   ]
  },
  {
   "cell_type": "markdown",
   "id": "937650fe-0ae7-4e94-b3db-cdbd47574bb4",
   "metadata": {},
   "source": [
    "## Set up PEFT parameters "
   ]
  },
  {
   "cell_type": "code",
   "execution_count": 14,
   "id": "58e983e9-a5a0-4a6b-b2da-6db4b4794b38",
   "metadata": {
    "tags": []
   },
   "outputs": [
    {
     "name": "stdout",
     "output_type": "stream",
     "text": [
      "trainable params: 0 || all params: 3608744832 || trainable%: 0.0\n"
     ]
    }
   ],
   "source": [
    "from peft import LoraConfig, get_peft_model\n",
    "\n",
    "# Alpha parameter for LoRA scaling: The weight matrix is scaled by lora_alpha/lora_r\n",
    "lora_alpha = 16\n",
    "# Dropout probability for LoRA layers\n",
    "lora_dropout = 0.1\n",
    "# LoRA attention dimension:  rank of the update matrices : smaler => faster & fewer params to train\n",
    "lora_r = 64\n",
    "\n",
    "peft_config = LoraConfig(\n",
    "    lora_alpha=lora_alpha,\n",
    "    lora_dropout=lora_dropout,\n",
    "    r=lora_r,\n",
    "    bias=\"none\",\n",
    "    task_type=\"CAUSAL_LM\",\n",
    "    target_modules=[\n",
    "        \"query_key_value\",\n",
    "        \"dense\",\n",
    "        \"dense_h_to_4h\",\n",
    "        \"dense_4h_to_h\",\n",
    "    ]\n",
    ")\n",
    "\n",
    "print_trainable_parameters(model)"
   ]
  },
  {
   "cell_type": "markdown",
   "id": "4ea0efa1-43d5-461b-8546-372d2587ef0b",
   "metadata": {
    "tags": []
   },
   "source": [
    "## Configure the training arguments\n",
    "We are limiting this to 500 steps.   \n",
    "You might want to run the training For longer  "
   ]
  },
  {
   "cell_type": "code",
   "execution_count": 15,
   "id": "5963a086-46d5-45c1-9737-4192ec02fcff",
   "metadata": {
    "tags": []
   },
   "outputs": [],
   "source": [
    "from transformers import TrainingArguments\n",
    "\n",
    "output_dir = \"./results\"\n",
    "per_device_train_batch_size = 4\n",
    "gradient_accumulation_steps = 4\n",
    "optim = \"paged_adamw_32bit\"\n",
    "save_steps = 10\n",
    "logging_steps = 10\n",
    "learning_rate = 2e-4\n",
    "max_grad_norm = 0.3\n",
    "# max_steps = 500 # takes ~ 3 hours for 500 steps\n",
    "max_steps = 50 \n",
    "warmup_ratio = 0.03\n",
    "lr_scheduler_type = \"constant\"\n",
    "\n",
    "training_arguments = TrainingArguments(\n",
    "    output_dir=output_dir,\n",
    "    per_device_train_batch_size=per_device_train_batch_size,\n",
    "    gradient_accumulation_steps=gradient_accumulation_steps,\n",
    "    optim=optim,\n",
    "    save_steps=save_steps,\n",
    "    logging_steps=logging_steps,\n",
    "    learning_rate=learning_rate,\n",
    "    fp16=True,\n",
    "    max_grad_norm=max_grad_norm,\n",
    "    max_steps=max_steps,\n",
    "    warmup_ratio=warmup_ratio,\n",
    "    group_by_length=True,\n",
    "    lr_scheduler_type=lr_scheduler_type,\n",
    ")"
   ]
  },
  {
   "cell_type": "code",
   "execution_count": 16,
   "id": "0ea50f04-b911-40cc-bf89-c0e94a06e56f",
   "metadata": {
    "tags": []
   },
   "outputs": [
    {
     "name": "stderr",
     "output_type": "stream",
     "text": [
      "/opt/conda/lib/python3.10/site-packages/peft/utils/other.py:107: FutureWarning: prepare_model_for_int8_training is deprecated and will be removed in a future version. Use prepare_model_for_kbit_training instead.\n",
      "  warnings.warn(\n",
      "Map: 100%|██████████| 14732/14732 [00:04<00:00, 2995.53 examples/s]\n"
     ]
    }
   ],
   "source": [
    "from trl import SFTTrainer\n",
    "\n",
    "max_seq_length = 512\n",
    "\n",
    "trainer = SFTTrainer(\n",
    "    model=model,\n",
    "    train_dataset=train_dataset,\n",
    "    peft_config=peft_config,\n",
    "    dataset_text_field=\"text\",\n",
    "    max_seq_length=max_seq_length,\n",
    "    tokenizer=tokenizer,\n",
    "    args=training_arguments,\n",
    ")"
   ]
  },
  {
   "cell_type": "code",
   "execution_count": 17,
   "id": "4f71effc-ddfc-4c77-b1d7-b58c5c08b986",
   "metadata": {
    "tags": []
   },
   "outputs": [],
   "source": [
    "for name, module in trainer.model.named_modules():\n",
    "    if \"norm\" in name:\n",
    "        module = module.to(torch.float32)"
   ]
  },
  {
   "cell_type": "code",
   "execution_count": null,
   "id": "539181b0-cf17-4f22-8e47-62df175539f1",
   "metadata": {
    "tags": []
   },
   "outputs": [
    {
     "name": "stderr",
     "output_type": "stream",
     "text": [
      "You are using 8-bit optimizers with a version of `bitsandbytes` < 0.41.1. It is recommended to update your version as a major bug has been fixed in 8-bit optimizers.\n",
      "You're using a PreTrainedTokenizerFast tokenizer. Please note that with a fast tokenizer, using the `__call__` method is faster than using a method to encode the text followed by a call to the `pad` method to get a padded encoding.\n"
     ]
    },
    {
     "data": {
      "text/html": [
       "\n",
       "    <div>\n",
       "      \n",
       "      <progress value='17' max='50' style='width:300px; height:20px; vertical-align: middle;'></progress>\n",
       "      [17/50 04:42 < 10:22, 0.05 it/s, Epoch 0.02/1]\n",
       "    </div>\n",
       "    <table border=\"1\" class=\"dataframe\">\n",
       "  <thead>\n",
       " <tr style=\"text-align: left;\">\n",
       "      <th>Step</th>\n",
       "      <th>Training Loss</th>\n",
       "    </tr>\n",
       "  </thead>\n",
       "  <tbody>\n",
       "    <tr>\n",
       "      <td>10</td>\n",
       "      <td>2.033700</td>\n",
       "    </tr>\n",
       "  </tbody>\n",
       "</table><p>"
      ],
      "text/plain": [
       "<IPython.core.display.HTML object>"
      ]
     },
     "metadata": {},
     "output_type": "display_data"
    }
   ],
   "source": [
    "trainer.train() # ~20 mins"
   ]
  },
  {
   "cell_type": "code",
   "execution_count": null,
   "id": "168ae6c9-6c16-440a-9f5a-9a1af48e72e8",
   "metadata": {
    "tags": []
   },
   "outputs": [],
   "source": [
    "from datetime import timedelta\n",
    "end = time.time()\n",
    "print(timedelta(seconds=end-start))"
   ]
  },
  {
   "cell_type": "code",
   "execution_count": null,
   "id": "2e9bbb1d-f56d-45a7-a766-06cdb98c4d91",
   "metadata": {},
   "outputs": [],
   "source": []
  }
 ],
 "metadata": {
  "availableInstances": [
   {
    "_defaultOrder": 0,
    "_isFastLaunch": true,
    "category": "General purpose",
    "gpuNum": 0,
    "hideHardwareSpecs": false,
    "memoryGiB": 4,
    "name": "ml.t3.medium",
    "vcpuNum": 2
   },
   {
    "_defaultOrder": 1,
    "_isFastLaunch": false,
    "category": "General purpose",
    "gpuNum": 0,
    "hideHardwareSpecs": false,
    "memoryGiB": 8,
    "name": "ml.t3.large",
    "vcpuNum": 2
   },
   {
    "_defaultOrder": 2,
    "_isFastLaunch": false,
    "category": "General purpose",
    "gpuNum": 0,
    "hideHardwareSpecs": false,
    "memoryGiB": 16,
    "name": "ml.t3.xlarge",
    "vcpuNum": 4
   },
   {
    "_defaultOrder": 3,
    "_isFastLaunch": false,
    "category": "General purpose",
    "gpuNum": 0,
    "hideHardwareSpecs": false,
    "memoryGiB": 32,
    "name": "ml.t3.2xlarge",
    "vcpuNum": 8
   },
   {
    "_defaultOrder": 4,
    "_isFastLaunch": true,
    "category": "General purpose",
    "gpuNum": 0,
    "hideHardwareSpecs": false,
    "memoryGiB": 8,
    "name": "ml.m5.large",
    "vcpuNum": 2
   },
   {
    "_defaultOrder": 5,
    "_isFastLaunch": false,
    "category": "General purpose",
    "gpuNum": 0,
    "hideHardwareSpecs": false,
    "memoryGiB": 16,
    "name": "ml.m5.xlarge",
    "vcpuNum": 4
   },
   {
    "_defaultOrder": 6,
    "_isFastLaunch": false,
    "category": "General purpose",
    "gpuNum": 0,
    "hideHardwareSpecs": false,
    "memoryGiB": 32,
    "name": "ml.m5.2xlarge",
    "vcpuNum": 8
   },
   {
    "_defaultOrder": 7,
    "_isFastLaunch": false,
    "category": "General purpose",
    "gpuNum": 0,
    "hideHardwareSpecs": false,
    "memoryGiB": 64,
    "name": "ml.m5.4xlarge",
    "vcpuNum": 16
   },
   {
    "_defaultOrder": 8,
    "_isFastLaunch": false,
    "category": "General purpose",
    "gpuNum": 0,
    "hideHardwareSpecs": false,
    "memoryGiB": 128,
    "name": "ml.m5.8xlarge",
    "vcpuNum": 32
   },
   {
    "_defaultOrder": 9,
    "_isFastLaunch": false,
    "category": "General purpose",
    "gpuNum": 0,
    "hideHardwareSpecs": false,
    "memoryGiB": 192,
    "name": "ml.m5.12xlarge",
    "vcpuNum": 48
   },
   {
    "_defaultOrder": 10,
    "_isFastLaunch": false,
    "category": "General purpose",
    "gpuNum": 0,
    "hideHardwareSpecs": false,
    "memoryGiB": 256,
    "name": "ml.m5.16xlarge",
    "vcpuNum": 64
   },
   {
    "_defaultOrder": 11,
    "_isFastLaunch": false,
    "category": "General purpose",
    "gpuNum": 0,
    "hideHardwareSpecs": false,
    "memoryGiB": 384,
    "name": "ml.m5.24xlarge",
    "vcpuNum": 96
   },
   {
    "_defaultOrder": 12,
    "_isFastLaunch": false,
    "category": "General purpose",
    "gpuNum": 0,
    "hideHardwareSpecs": false,
    "memoryGiB": 8,
    "name": "ml.m5d.large",
    "vcpuNum": 2
   },
   {
    "_defaultOrder": 13,
    "_isFastLaunch": false,
    "category": "General purpose",
    "gpuNum": 0,
    "hideHardwareSpecs": false,
    "memoryGiB": 16,
    "name": "ml.m5d.xlarge",
    "vcpuNum": 4
   },
   {
    "_defaultOrder": 14,
    "_isFastLaunch": false,
    "category": "General purpose",
    "gpuNum": 0,
    "hideHardwareSpecs": false,
    "memoryGiB": 32,
    "name": "ml.m5d.2xlarge",
    "vcpuNum": 8
   },
   {
    "_defaultOrder": 15,
    "_isFastLaunch": false,
    "category": "General purpose",
    "gpuNum": 0,
    "hideHardwareSpecs": false,
    "memoryGiB": 64,
    "name": "ml.m5d.4xlarge",
    "vcpuNum": 16
   },
   {
    "_defaultOrder": 16,
    "_isFastLaunch": false,
    "category": "General purpose",
    "gpuNum": 0,
    "hideHardwareSpecs": false,
    "memoryGiB": 128,
    "name": "ml.m5d.8xlarge",
    "vcpuNum": 32
   },
   {
    "_defaultOrder": 17,
    "_isFastLaunch": false,
    "category": "General purpose",
    "gpuNum": 0,
    "hideHardwareSpecs": false,
    "memoryGiB": 192,
    "name": "ml.m5d.12xlarge",
    "vcpuNum": 48
   },
   {
    "_defaultOrder": 18,
    "_isFastLaunch": false,
    "category": "General purpose",
    "gpuNum": 0,
    "hideHardwareSpecs": false,
    "memoryGiB": 256,
    "name": "ml.m5d.16xlarge",
    "vcpuNum": 64
   },
   {
    "_defaultOrder": 19,
    "_isFastLaunch": false,
    "category": "General purpose",
    "gpuNum": 0,
    "hideHardwareSpecs": false,
    "memoryGiB": 384,
    "name": "ml.m5d.24xlarge",
    "vcpuNum": 96
   },
   {
    "_defaultOrder": 20,
    "_isFastLaunch": false,
    "category": "General purpose",
    "gpuNum": 0,
    "hideHardwareSpecs": true,
    "memoryGiB": 0,
    "name": "ml.geospatial.interactive",
    "supportedImageNames": [
     "sagemaker-geospatial-v1-0"
    ],
    "vcpuNum": 0
   },
   {
    "_defaultOrder": 21,
    "_isFastLaunch": true,
    "category": "Compute optimized",
    "gpuNum": 0,
    "hideHardwareSpecs": false,
    "memoryGiB": 4,
    "name": "ml.c5.large",
    "vcpuNum": 2
   },
   {
    "_defaultOrder": 22,
    "_isFastLaunch": false,
    "category": "Compute optimized",
    "gpuNum": 0,
    "hideHardwareSpecs": false,
    "memoryGiB": 8,
    "name": "ml.c5.xlarge",
    "vcpuNum": 4
   },
   {
    "_defaultOrder": 23,
    "_isFastLaunch": false,
    "category": "Compute optimized",
    "gpuNum": 0,
    "hideHardwareSpecs": false,
    "memoryGiB": 16,
    "name": "ml.c5.2xlarge",
    "vcpuNum": 8
   },
   {
    "_defaultOrder": 24,
    "_isFastLaunch": false,
    "category": "Compute optimized",
    "gpuNum": 0,
    "hideHardwareSpecs": false,
    "memoryGiB": 32,
    "name": "ml.c5.4xlarge",
    "vcpuNum": 16
   },
   {
    "_defaultOrder": 25,
    "_isFastLaunch": false,
    "category": "Compute optimized",
    "gpuNum": 0,
    "hideHardwareSpecs": false,
    "memoryGiB": 72,
    "name": "ml.c5.9xlarge",
    "vcpuNum": 36
   },
   {
    "_defaultOrder": 26,
    "_isFastLaunch": false,
    "category": "Compute optimized",
    "gpuNum": 0,
    "hideHardwareSpecs": false,
    "memoryGiB": 96,
    "name": "ml.c5.12xlarge",
    "vcpuNum": 48
   },
   {
    "_defaultOrder": 27,
    "_isFastLaunch": false,
    "category": "Compute optimized",
    "gpuNum": 0,
    "hideHardwareSpecs": false,
    "memoryGiB": 144,
    "name": "ml.c5.18xlarge",
    "vcpuNum": 72
   },
   {
    "_defaultOrder": 28,
    "_isFastLaunch": false,
    "category": "Compute optimized",
    "gpuNum": 0,
    "hideHardwareSpecs": false,
    "memoryGiB": 192,
    "name": "ml.c5.24xlarge",
    "vcpuNum": 96
   },
   {
    "_defaultOrder": 29,
    "_isFastLaunch": true,
    "category": "Accelerated computing",
    "gpuNum": 1,
    "hideHardwareSpecs": false,
    "memoryGiB": 16,
    "name": "ml.g4dn.xlarge",
    "vcpuNum": 4
   },
   {
    "_defaultOrder": 30,
    "_isFastLaunch": false,
    "category": "Accelerated computing",
    "gpuNum": 1,
    "hideHardwareSpecs": false,
    "memoryGiB": 32,
    "name": "ml.g4dn.2xlarge",
    "vcpuNum": 8
   },
   {
    "_defaultOrder": 31,
    "_isFastLaunch": false,
    "category": "Accelerated computing",
    "gpuNum": 1,
    "hideHardwareSpecs": false,
    "memoryGiB": 64,
    "name": "ml.g4dn.4xlarge",
    "vcpuNum": 16
   },
   {
    "_defaultOrder": 32,
    "_isFastLaunch": false,
    "category": "Accelerated computing",
    "gpuNum": 1,
    "hideHardwareSpecs": false,
    "memoryGiB": 128,
    "name": "ml.g4dn.8xlarge",
    "vcpuNum": 32
   },
   {
    "_defaultOrder": 33,
    "_isFastLaunch": false,
    "category": "Accelerated computing",
    "gpuNum": 4,
    "hideHardwareSpecs": false,
    "memoryGiB": 192,
    "name": "ml.g4dn.12xlarge",
    "vcpuNum": 48
   },
   {
    "_defaultOrder": 34,
    "_isFastLaunch": false,
    "category": "Accelerated computing",
    "gpuNum": 1,
    "hideHardwareSpecs": false,
    "memoryGiB": 256,
    "name": "ml.g4dn.16xlarge",
    "vcpuNum": 64
   },
   {
    "_defaultOrder": 35,
    "_isFastLaunch": false,
    "category": "Accelerated computing",
    "gpuNum": 1,
    "hideHardwareSpecs": false,
    "memoryGiB": 61,
    "name": "ml.p3.2xlarge",
    "vcpuNum": 8
   },
   {
    "_defaultOrder": 36,
    "_isFastLaunch": false,
    "category": "Accelerated computing",
    "gpuNum": 4,
    "hideHardwareSpecs": false,
    "memoryGiB": 244,
    "name": "ml.p3.8xlarge",
    "vcpuNum": 32
   },
   {
    "_defaultOrder": 37,
    "_isFastLaunch": false,
    "category": "Accelerated computing",
    "gpuNum": 8,
    "hideHardwareSpecs": false,
    "memoryGiB": 488,
    "name": "ml.p3.16xlarge",
    "vcpuNum": 64
   },
   {
    "_defaultOrder": 38,
    "_isFastLaunch": false,
    "category": "Accelerated computing",
    "gpuNum": 8,
    "hideHardwareSpecs": false,
    "memoryGiB": 768,
    "name": "ml.p3dn.24xlarge",
    "vcpuNum": 96
   },
   {
    "_defaultOrder": 39,
    "_isFastLaunch": false,
    "category": "Memory Optimized",
    "gpuNum": 0,
    "hideHardwareSpecs": false,
    "memoryGiB": 16,
    "name": "ml.r5.large",
    "vcpuNum": 2
   },
   {
    "_defaultOrder": 40,
    "_isFastLaunch": false,
    "category": "Memory Optimized",
    "gpuNum": 0,
    "hideHardwareSpecs": false,
    "memoryGiB": 32,
    "name": "ml.r5.xlarge",
    "vcpuNum": 4
   },
   {
    "_defaultOrder": 41,
    "_isFastLaunch": false,
    "category": "Memory Optimized",
    "gpuNum": 0,
    "hideHardwareSpecs": false,
    "memoryGiB": 64,
    "name": "ml.r5.2xlarge",
    "vcpuNum": 8
   },
   {
    "_defaultOrder": 42,
    "_isFastLaunch": false,
    "category": "Memory Optimized",
    "gpuNum": 0,
    "hideHardwareSpecs": false,
    "memoryGiB": 128,
    "name": "ml.r5.4xlarge",
    "vcpuNum": 16
   },
   {
    "_defaultOrder": 43,
    "_isFastLaunch": false,
    "category": "Memory Optimized",
    "gpuNum": 0,
    "hideHardwareSpecs": false,
    "memoryGiB": 256,
    "name": "ml.r5.8xlarge",
    "vcpuNum": 32
   },
   {
    "_defaultOrder": 44,
    "_isFastLaunch": false,
    "category": "Memory Optimized",
    "gpuNum": 0,
    "hideHardwareSpecs": false,
    "memoryGiB": 384,
    "name": "ml.r5.12xlarge",
    "vcpuNum": 48
   },
   {
    "_defaultOrder": 45,
    "_isFastLaunch": false,
    "category": "Memory Optimized",
    "gpuNum": 0,
    "hideHardwareSpecs": false,
    "memoryGiB": 512,
    "name": "ml.r5.16xlarge",
    "vcpuNum": 64
   },
   {
    "_defaultOrder": 46,
    "_isFastLaunch": false,
    "category": "Memory Optimized",
    "gpuNum": 0,
    "hideHardwareSpecs": false,
    "memoryGiB": 768,
    "name": "ml.r5.24xlarge",
    "vcpuNum": 96
   },
   {
    "_defaultOrder": 47,
    "_isFastLaunch": false,
    "category": "Accelerated computing",
    "gpuNum": 1,
    "hideHardwareSpecs": false,
    "memoryGiB": 16,
    "name": "ml.g5.xlarge",
    "vcpuNum": 4
   },
   {
    "_defaultOrder": 48,
    "_isFastLaunch": false,
    "category": "Accelerated computing",
    "gpuNum": 1,
    "hideHardwareSpecs": false,
    "memoryGiB": 32,
    "name": "ml.g5.2xlarge",
    "vcpuNum": 8
   },
   {
    "_defaultOrder": 49,
    "_isFastLaunch": false,
    "category": "Accelerated computing",
    "gpuNum": 1,
    "hideHardwareSpecs": false,
    "memoryGiB": 64,
    "name": "ml.g5.4xlarge",
    "vcpuNum": 16
   },
   {
    "_defaultOrder": 50,
    "_isFastLaunch": false,
    "category": "Accelerated computing",
    "gpuNum": 1,
    "hideHardwareSpecs": false,
    "memoryGiB": 128,
    "name": "ml.g5.8xlarge",
    "vcpuNum": 32
   },
   {
    "_defaultOrder": 51,
    "_isFastLaunch": false,
    "category": "Accelerated computing",
    "gpuNum": 1,
    "hideHardwareSpecs": false,
    "memoryGiB": 256,
    "name": "ml.g5.16xlarge",
    "vcpuNum": 64
   },
   {
    "_defaultOrder": 52,
    "_isFastLaunch": false,
    "category": "Accelerated computing",
    "gpuNum": 4,
    "hideHardwareSpecs": false,
    "memoryGiB": 192,
    "name": "ml.g5.12xlarge",
    "vcpuNum": 48
   },
   {
    "_defaultOrder": 53,
    "_isFastLaunch": false,
    "category": "Accelerated computing",
    "gpuNum": 4,
    "hideHardwareSpecs": false,
    "memoryGiB": 384,
    "name": "ml.g5.24xlarge",
    "vcpuNum": 96
   },
   {
    "_defaultOrder": 54,
    "_isFastLaunch": false,
    "category": "Accelerated computing",
    "gpuNum": 8,
    "hideHardwareSpecs": false,
    "memoryGiB": 768,
    "name": "ml.g5.48xlarge",
    "vcpuNum": 192
   },
   {
    "_defaultOrder": 55,
    "_isFastLaunch": false,
    "category": "Accelerated computing",
    "gpuNum": 8,
    "hideHardwareSpecs": false,
    "memoryGiB": 1152,
    "name": "ml.p4d.24xlarge",
    "vcpuNum": 96
   },
   {
    "_defaultOrder": 56,
    "_isFastLaunch": false,
    "category": "Accelerated computing",
    "gpuNum": 8,
    "hideHardwareSpecs": false,
    "memoryGiB": 1152,
    "name": "ml.p4de.24xlarge",
    "vcpuNum": 96
   }
  ],
  "instance_type": "ml.g4dn.xlarge",
  "kernelspec": {
   "display_name": "Python 3 (PyTorch 2.0.0 Python 3.10 GPU Optimized)",
   "language": "python",
   "name": "python3__SAGEMAKER_INTERNAL__arn:aws:sagemaker:us-east-1:081325390199:image/pytorch-2.0.0-gpu-py310"
  },
  "language_info": {
   "codemirror_mode": {
    "name": "ipython",
    "version": 3
   },
   "file_extension": ".py",
   "mimetype": "text/x-python",
   "name": "python",
   "nbconvert_exporter": "python",
   "pygments_lexer": "ipython3",
   "version": "3.10.8"
  },
  "widgets": {
   "application/vnd.jupyter.widget-state+json": {
    "state": {
     "0a46f6df98a04759bcfebd4a49a12fc3": {
      "model_module": "@jupyter-widgets/base",
      "model_module_version": "1.2.0",
      "model_name": "LayoutModel",
      "state": {}
     },
     "568bca82806b44988172e5b90bb9538c": {
      "model_module": "@jupyter-widgets/controls",
      "model_module_version": "1.5.0",
      "model_name": "DescriptionStyleModel",
      "state": {
       "description_width": ""
      }
     },
     "5a448718dd134fcc923ebb138f24949b": {
      "model_module": "@jupyter-widgets/controls",
      "model_module_version": "1.5.0",
      "model_name": "DescriptionStyleModel",
      "state": {
       "description_width": ""
      }
     },
     "5aef6a468493417da97b7480aa886676": {
      "model_module": "@jupyter-widgets/controls",
      "model_module_version": "1.5.0",
      "model_name": "FloatProgressModel",
      "state": {
       "bar_style": "danger",
       "layout": "IPY_MODEL_0a46f6df98a04759bcfebd4a49a12fc3",
       "max": 14732,
       "style": "IPY_MODEL_f46af6d0c8304463b58e6655c69a32f1"
      }
     },
     "62613e377a7e4d0999d6c0d463fed8c8": {
      "model_module": "@jupyter-widgets/base",
      "model_module_version": "1.2.0",
      "model_name": "LayoutModel",
      "state": {}
     },
     "91c600cf59e04b5685cbe1d88cf4f0e3": {
      "model_module": "@jupyter-widgets/controls",
      "model_module_version": "1.5.0",
      "model_name": "HBoxModel",
      "state": {
       "children": [
        "IPY_MODEL_bcba1e8a47524c968ed81d6d60152389",
        "IPY_MODEL_5aef6a468493417da97b7480aa886676",
        "IPY_MODEL_c935388b5de44a8a9cca744497c4d1dd"
       ],
       "layout": "IPY_MODEL_bf2201bbc4c94ffa986712e0af10404f"
      }
     },
     "bcba1e8a47524c968ed81d6d60152389": {
      "model_module": "@jupyter-widgets/controls",
      "model_module_version": "1.5.0",
      "model_name": "HTMLModel",
      "state": {
       "layout": "IPY_MODEL_62613e377a7e4d0999d6c0d463fed8c8",
       "style": "IPY_MODEL_568bca82806b44988172e5b90bb9538c",
       "value": "Map:   0%"
      }
     },
     "bf2201bbc4c94ffa986712e0af10404f": {
      "model_module": "@jupyter-widgets/base",
      "model_module_version": "1.2.0",
      "model_name": "LayoutModel",
      "state": {}
     },
     "c935388b5de44a8a9cca744497c4d1dd": {
      "model_module": "@jupyter-widgets/controls",
      "model_module_version": "1.5.0",
      "model_name": "HTMLModel",
      "state": {
       "layout": "IPY_MODEL_d9f9ddfb08ff48c1b05b6233a1b967fa",
       "style": "IPY_MODEL_5a448718dd134fcc923ebb138f24949b",
       "value": " 0/14732 [00:00&lt;?, ? examples/s]"
      }
     },
     "d9f9ddfb08ff48c1b05b6233a1b967fa": {
      "model_module": "@jupyter-widgets/base",
      "model_module_version": "1.2.0",
      "model_name": "LayoutModel",
      "state": {}
     },
     "f46af6d0c8304463b58e6655c69a32f1": {
      "model_module": "@jupyter-widgets/controls",
      "model_module_version": "1.5.0",
      "model_name": "ProgressStyleModel",
      "state": {
       "description_width": ""
      }
     }
    },
    "version_major": 2,
    "version_minor": 0
   }
  }
 },
 "nbformat": 4,
 "nbformat_minor": 5
}
