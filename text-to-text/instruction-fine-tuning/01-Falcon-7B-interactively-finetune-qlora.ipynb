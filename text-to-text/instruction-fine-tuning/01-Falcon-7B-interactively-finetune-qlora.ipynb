{
 "cells": [
  {
   "cell_type": "markdown",
   "id": "d1cc0684-cf26-447b-b27b-d6030563818f",
   "metadata": {
    "tags": []
   },
   "source": [
    "# Check instances before proceeding\n",
    "\n",
    "Click on upper right corner\n",
    "\n",
    "### Image Pytorch 2.0.0 python 3.10 GPU optimised\n",
    "### Kernel Python 3\n",
    "### Instance ml g4dn xlarge\n",
    "\n",
    "* If you stop the training midway.. and attempt to restart the training you'll run into a CUDA OOM error\n",
    "* Restart the kernel and run all if you land up in the above situation"
   ]
  },
  {
   "cell_type": "code",
   "execution_count": 2,
   "id": "4008d47e-f4be-494f-bfe1-cd58b26177cd",
   "metadata": {
    "tags": []
   },
   "outputs": [
    {
     "name": "stdout",
     "output_type": "stream",
     "text": [
      "Sun Sep 24 06:06:27 2023       \n",
      "+-----------------------------------------------------------------------------+\n",
      "| NVIDIA-SMI 470.57.02    Driver Version: 470.57.02    CUDA Version: 11.8     |\n",
      "|-------------------------------+----------------------+----------------------+\n",
      "| GPU  Name        Persistence-M| Bus-Id        Disp.A | Volatile Uncorr. ECC |\n",
      "| Fan  Temp  Perf  Pwr:Usage/Cap|         Memory-Usage | GPU-Util  Compute M. |\n",
      "|                               |                      |               MIG M. |\n",
      "|===============================+======================+======================|\n",
      "|   0  Tesla T4            Off  | 00000000:00:1E.0 Off |                    0 |\n",
      "| N/A   35C    P0    25W /  70W |      0MiB / 15109MiB |      0%      Default |\n",
      "|                               |                      |                  N/A |\n",
      "+-------------------------------+----------------------+----------------------+\n",
      "                                                                               \n",
      "+-----------------------------------------------------------------------------+\n",
      "| Processes:                                                                  |\n",
      "|  GPU   GI   CI        PID   Type   Process name                  GPU Memory |\n",
      "|        ID   ID                                                   Usage      |\n",
      "|=============================================================================|\n",
      "|  No running processes found                                                 |\n",
      "+-----------------------------------------------------------------------------+\n"
     ]
    }
   ],
   "source": [
    "!nvidia-smi"
   ]
  },
  {
   "cell_type": "code",
   "execution_count": 3,
   "id": "076c11f3-914e-46a4-8b8d-8694a90bff62",
   "metadata": {
    "tags": []
   },
   "outputs": [
    {
     "name": "stdout",
     "output_type": "stream",
     "text": [
      "15G\n"
     ]
    }
   ],
   "source": [
    "!free -h --si | awk '/Mem:/ {print $2}'"
   ]
  },
  {
   "cell_type": "markdown",
   "id": "035cb87d-2edc-4cb6-8351-3fa99ec61950",
   "metadata": {},
   "source": [
    "## Change the kernel and image by Menu bar -> kernel -> change kernel\n",
    "### Use image pytorch 2.0.0 and python 3.10 GPU optimised  \n",
    "### Instance ml.g4dn.xlarge"
   ]
  },
  {
   "cell_type": "code",
   "execution_count": 4,
   "id": "128f8604-ac40-498d-85b0-94f754aa1c88",
   "metadata": {
    "tags": []
   },
   "outputs": [],
   "source": [
    "# export 'PYTORCH_CUDA_ALLOC_CONF=max_split_size_mb:512'"
   ]
  },
  {
   "cell_type": "markdown",
   "id": "37d7b0c9-f6a7-4ce9-858b-e730aa796fe3",
   "metadata": {},
   "source": [
    "# Install required libraries"
   ]
  },
  {
   "cell_type": "code",
   "execution_count": 5,
   "id": "6c0b8978-428a-4186-86e2-3e603650c210",
   "metadata": {
    "tags": []
   },
   "outputs": [
    {
     "name": "stdout",
     "output_type": "stream",
     "text": [
      "\u001b[33mWARNING: Running pip as the 'root' user can result in broken permissions and conflicting behaviour with the system package manager. It is recommended to use a virtual environment instead: https://pip.pypa.io/warnings/venv\u001b[0m\u001b[33m\n",
      "\u001b[0m\n",
      "\u001b[1m[\u001b[0m\u001b[34;49mnotice\u001b[0m\u001b[1;39;49m]\u001b[0m\u001b[39;49m A new release of pip is available: \u001b[0m\u001b[31;49m23.1.2\u001b[0m\u001b[39;49m -> \u001b[0m\u001b[32;49m23.2.1\u001b[0m\n",
      "\u001b[1m[\u001b[0m\u001b[34;49mnotice\u001b[0m\u001b[1;39;49m]\u001b[0m\u001b[39;49m To update, run: \u001b[0m\u001b[32;49mpip install --upgrade pip\u001b[0m\n",
      "\u001b[33mWARNING: Running pip as the 'root' user can result in broken permissions and conflicting behaviour with the system package manager. It is recommended to use a virtual environment instead: https://pip.pypa.io/warnings/venv\u001b[0m\u001b[33m\n",
      "\u001b[0m\n",
      "\u001b[1m[\u001b[0m\u001b[34;49mnotice\u001b[0m\u001b[1;39;49m]\u001b[0m\u001b[39;49m A new release of pip is available: \u001b[0m\u001b[31;49m23.1.2\u001b[0m\u001b[39;49m -> \u001b[0m\u001b[32;49m23.2.1\u001b[0m\n",
      "\u001b[1m[\u001b[0m\u001b[34;49mnotice\u001b[0m\u001b[1;39;49m]\u001b[0m\u001b[39;49m To update, run: \u001b[0m\u001b[32;49mpip install --upgrade pip\u001b[0m\n",
      "\u001b[33mWARNING: Running pip as the 'root' user can result in broken permissions and conflicting behaviour with the system package manager. It is recommended to use a virtual environment instead: https://pip.pypa.io/warnings/venv\u001b[0m\u001b[33m\n",
      "\u001b[0m\n",
      "\u001b[1m[\u001b[0m\u001b[34;49mnotice\u001b[0m\u001b[1;39;49m]\u001b[0m\u001b[39;49m A new release of pip is available: \u001b[0m\u001b[31;49m23.1.2\u001b[0m\u001b[39;49m -> \u001b[0m\u001b[32;49m23.2.1\u001b[0m\n",
      "\u001b[1m[\u001b[0m\u001b[34;49mnotice\u001b[0m\u001b[1;39;49m]\u001b[0m\u001b[39;49m To update, run: \u001b[0m\u001b[32;49mpip install --upgrade pip\u001b[0m\n"
     ]
    }
   ],
   "source": [
    "!pip install -q -U trl transformers accelerate git+https://github.com/huggingface/peft.git\n",
    "!pip install -q datasets bitsandbytes einops py7zr tensorboardX\n",
    "!pip install -q -U torch==2.0.1 bitsandbytes==0.40.2\n",
    "# !pip install -q wandb"
   ]
  },
  {
   "cell_type": "markdown",
   "id": "a6b3e73c-7b7a-4592-8797-a247f8e57e6c",
   "metadata": {
    "tags": []
   },
   "source": [
    "# Download the model"
   ]
  },
  {
   "cell_type": "code",
   "execution_count": 6,
   "id": "735f964a-b5fc-424c-81b7-c3a823d3e937",
   "metadata": {},
   "outputs": [
    {
     "name": "stderr",
     "output_type": "stream",
     "text": [
      "/opt/conda/lib/python3.10/site-packages/tqdm/auto.py:21: TqdmWarning: IProgress not found. Please update jupyter and ipywidgets. See https://ipywidgets.readthedocs.io/en/stable/user_install.html\n",
      "  from .autonotebook import tqdm as notebook_tqdm\n"
     ]
    }
   ],
   "source": [
    "import torch, time\n",
    "from transformers import AutoModelForCausalLM, AutoTokenizer, BitsAndBytesConfig, AutoTokenizer\n",
    "\n",
    "start = time.time()"
   ]
  },
  {
   "cell_type": "code",
   "execution_count": null,
   "id": "3947370d-0a31-41d8-abba-35a0f5921118",
   "metadata": {
    "tags": []
   },
   "outputs": [
    {
     "name": "stderr",
     "output_type": "stream",
     "text": [
      "Downloading (…)lve/main/config.json: 100%|██████████| 1.10k/1.10k [00:00<00:00, 5.19MB/s]\n",
      "Downloading (…)/configuration_RW.py: 100%|██████████| 2.61k/2.61k [00:00<00:00, 18.4MB/s]\n",
      "A new version of the following files was downloaded from https://huggingface.co/tiiuae/falcon-7b:\n",
      "- configuration_RW.py\n",
      ". Make sure to double-check they do not contain any added malicious code. To avoid downloading new versions of the code file, you can pin a revision.\n",
      "Downloading (…)main/modelling_RW.py: 100%|██████████| 47.6k/47.6k [00:00<00:00, 131MB/s]\n",
      "A new version of the following files was downloaded from https://huggingface.co/tiiuae/falcon-7b:\n",
      "- modelling_RW.py\n",
      ". Make sure to double-check they do not contain any added malicious code. To avoid downloading new versions of the code file, you can pin a revision.\n",
      "Downloading (…)model.bin.index.json: 100%|██████████| 16.9k/16.9k [00:00<00:00, 78.3MB/s]\n",
      "Downloading shards:   0%|          | 0/8 [00:00<?, ?it/s]\n",
      "Downloading (…)l-00001-of-00008.bin:   0%|          | 0.00/1.92G [00:00<?, ?B/s]\u001b[A\n",
      "Downloading (…)l-00001-of-00008.bin:   3%|▎         | 52.4M/1.92G [00:00<00:04, 437MB/s]\u001b[A\n",
      "Downloading (…)l-00001-of-00008.bin:   5%|▌         | 105M/1.92G [00:00<00:04, 448MB/s] \u001b[A\n",
      "Downloading (…)l-00001-of-00008.bin:   8%|▊         | 157M/1.92G [00:00<00:03, 455MB/s]\u001b[A\n",
      "Downloading (…)l-00001-of-00008.bin:  11%|█         | 210M/1.92G [00:00<00:03, 457MB/s]\u001b[A\n",
      "Downloading (…)l-00001-of-00008.bin:  14%|█▎        | 262M/1.92G [00:00<00:03, 457MB/s]\u001b[A\n",
      "Downloading (…)l-00001-of-00008.bin:  16%|█▋        | 315M/1.92G [00:00<00:03, 443MB/s]\u001b[A\n",
      "Downloading (…)l-00001-of-00008.bin:  19%|█▉        | 367M/1.92G [00:00<00:03, 451MB/s]\u001b[A\n",
      "Downloading (…)l-00001-of-00008.bin:  22%|██▏       | 419M/1.92G [00:00<00:03, 454MB/s]\u001b[A\n",
      "Downloading (…)l-00001-of-00008.bin:  25%|██▍       | 472M/1.92G [00:01<00:03, 457MB/s]\u001b[A\n",
      "Downloading (…)l-00001-of-00008.bin:  27%|██▋       | 524M/1.92G [00:01<00:03, 457MB/s]\u001b[A\n",
      "Downloading (…)l-00001-of-00008.bin:  30%|███       | 577M/1.92G [00:01<00:02, 461MB/s]\u001b[A\n",
      "Downloading (…)l-00001-of-00008.bin:  33%|███▎      | 629M/1.92G [00:01<00:02, 462MB/s]\u001b[A\n",
      "Downloading (…)l-00001-of-00008.bin:  36%|███▌      | 682M/1.92G [00:01<00:02, 462MB/s]\u001b[A\n",
      "Downloading (…)l-00001-of-00008.bin:  38%|███▊      | 734M/1.92G [00:01<00:02, 461MB/s]\u001b[A\n",
      "Downloading (…)l-00001-of-00008.bin:  41%|████      | 786M/1.92G [00:01<00:02, 461MB/s]\u001b[A\n",
      "Downloading (…)l-00001-of-00008.bin:  44%|████▍     | 839M/1.92G [00:01<00:02, 462MB/s]\u001b[A\n",
      "Downloading (…)l-00001-of-00008.bin:  46%|████▋     | 891M/1.92G [00:01<00:02, 465MB/s]\u001b[A\n",
      "Downloading (…)l-00001-of-00008.bin:  49%|████▉     | 944M/1.92G [00:02<00:02, 466MB/s]\u001b[A\n",
      "Downloading (…)l-00001-of-00008.bin:  52%|█████▏    | 996M/1.92G [00:02<00:01, 463MB/s]\u001b[A\n",
      "Downloading (…)l-00001-of-00008.bin:  55%|█████▍    | 1.05G/1.92G [00:02<00:01, 457MB/s]\u001b[A\n",
      "Downloading (…)l-00001-of-00008.bin:  57%|█████▋    | 1.10G/1.92G [00:02<00:01, 463MB/s]\u001b[A\n",
      "Downloading (…)l-00001-of-00008.bin:  60%|██████    | 1.15G/1.92G [00:02<00:01, 457MB/s]\u001b[A\n",
      "Downloading (…)l-00001-of-00008.bin:  63%|██████▎   | 1.21G/1.92G [00:02<00:01, 455MB/s]\u001b[A\n",
      "Downloading (…)l-00001-of-00008.bin:  66%|██████▌   | 1.26G/1.92G [00:02<00:01, 451MB/s]\u001b[A\n",
      "Downloading (…)l-00001-of-00008.bin:  68%|██████▊   | 1.31G/1.92G [00:02<00:01, 432MB/s]\u001b[A\n",
      "Downloading (…)l-00001-of-00008.bin:  71%|███████   | 1.36G/1.92G [00:03<00:01, 432MB/s]\u001b[A\n",
      "Downloading (…)l-00001-of-00008.bin:  74%|███████▍  | 1.42G/1.92G [00:03<00:01, 437MB/s]\u001b[A\n",
      "Downloading (…)l-00001-of-00008.bin:  77%|███████▋  | 1.47G/1.92G [00:03<00:01, 439MB/s]\u001b[A\n",
      "Downloading (…)l-00001-of-00008.bin:  79%|███████▉  | 1.52G/1.92G [00:03<00:00, 439MB/s]\u001b[A\n",
      "Downloading (…)l-00001-of-00008.bin:  82%|████████▏ | 1.57G/1.92G [00:03<00:00, 438MB/s]\u001b[A\n",
      "Downloading (…)l-00001-of-00008.bin:  85%|████████▍ | 1.63G/1.92G [00:03<00:00, 440MB/s]\u001b[A\n",
      "Downloading (…)l-00001-of-00008.bin:  88%|████████▊ | 1.68G/1.92G [00:03<00:00, 400MB/s]\u001b[A\n",
      "Downloading (…)l-00001-of-00008.bin:  90%|█████████ | 1.73G/1.92G [00:03<00:00, 407MB/s]\u001b[A\n",
      "Downloading (…)l-00001-of-00008.bin:  93%|█████████▎| 1.78G/1.92G [00:04<00:00, 416MB/s]\u001b[A\n",
      "Downloading (…)l-00001-of-00008.bin:  96%|█████████▌| 1.84G/1.92G [00:04<00:00, 423MB/s]\u001b[A\n",
      "Downloading (…)l-00001-of-00008.bin: 100%|██████████| 1.92G/1.92G [00:04<00:00, 445MB/s]\u001b[A\n",
      "Downloading shards:  12%|█▎        | 1/8 [00:20<02:22, 20.42s/it]\n",
      "Downloading (…)l-00002-of-00008.bin:   0%|          | 0.00/1.99G [00:00<?, ?B/s]\u001b[A\n",
      "Downloading (…)l-00002-of-00008.bin:   1%|          | 10.5M/1.99G [00:00<00:41, 47.4MB/s]\u001b[A\n",
      "Downloading (…)l-00002-of-00008.bin:   3%|▎         | 62.9M/1.99G [00:00<00:08, 217MB/s] \u001b[A\n",
      "Downloading (…)l-00002-of-00008.bin:   6%|▌         | 115M/1.99G [00:00<00:06, 304MB/s] \u001b[A\n",
      "Downloading (…)l-00002-of-00008.bin:   8%|▊         | 168M/1.99G [00:00<00:05, 354MB/s]\u001b[A\n",
      "Downloading (…)l-00002-of-00008.bin:  11%|█         | 220M/1.99G [00:00<00:04, 387MB/s]\u001b[A\n",
      "Downloading (…)l-00002-of-00008.bin:  14%|█▎        | 273M/1.99G [00:00<00:04, 410MB/s]\u001b[A\n",
      "Downloading (…)l-00002-of-00008.bin:  16%|█▋        | 325M/1.99G [00:00<00:03, 427MB/s]\u001b[A\n",
      "Downloading (…)l-00002-of-00008.bin:  19%|█▉        | 377M/1.99G [00:01<00:03, 439MB/s]\u001b[A\n",
      "Downloading (…)l-00002-of-00008.bin:  22%|██▏       | 430M/1.99G [00:01<00:03, 447MB/s]\u001b[A\n",
      "Downloading (…)l-00002-of-00008.bin:  24%|██▍       | 482M/1.99G [00:01<00:03, 452MB/s]\u001b[A\n",
      "Downloading (…)l-00002-of-00008.bin:  27%|██▋       | 535M/1.99G [00:01<00:03, 453MB/s]\u001b[A\n",
      "Downloading (…)l-00002-of-00008.bin:  30%|██▉       | 587M/1.99G [00:01<00:03, 454MB/s]\u001b[A\n",
      "Downloading (…)l-00002-of-00008.bin:  32%|███▏      | 640M/1.99G [00:01<00:02, 456MB/s]\u001b[A\n",
      "Downloading (…)l-00002-of-00008.bin:  35%|███▍      | 692M/1.99G [00:01<00:02, 458MB/s]\u001b[A\n",
      "Downloading (…)l-00002-of-00008.bin:  37%|███▋      | 744M/1.99G [00:01<00:02, 459MB/s]\u001b[A\n",
      "Downloading (…)l-00002-of-00008.bin:  40%|████      | 797M/1.99G [00:01<00:02, 458MB/s]\u001b[A\n",
      "Downloading (…)l-00002-of-00008.bin:  43%|████▎     | 849M/1.99G [00:02<00:02, 461MB/s]\u001b[A\n",
      "Downloading (…)l-00002-of-00008.bin:  45%|████▌     | 902M/1.99G [00:02<00:02, 422MB/s]\u001b[A\n",
      "Downloading (…)l-00002-of-00008.bin:  48%|████▊     | 954M/1.99G [00:02<00:02, 381MB/s]\u001b[A\n",
      "Downloading (…)l-00002-of-00008.bin:  50%|█████     | 996M/1.99G [00:02<00:02, 388MB/s]\u001b[A\n",
      "Downloading (…)l-00002-of-00008.bin:  53%|█████▎    | 1.05G/1.99G [00:02<00:02, 409MB/s]\u001b[A\n",
      "Downloading (…)l-00002-of-00008.bin:  55%|█████▌    | 1.10G/1.99G [00:02<00:02, 424MB/s]\u001b[A\n",
      "Downloading (…)l-00002-of-00008.bin:  58%|█████▊    | 1.15G/1.99G [00:02<00:01, 435MB/s]\u001b[A\n",
      "Downloading (…)l-00002-of-00008.bin:  61%|██████    | 1.21G/1.99G [00:02<00:01, 442MB/s]\u001b[A\n",
      "Downloading (…)l-00002-of-00008.bin:  63%|██████▎   | 1.26G/1.99G [00:03<00:01, 438MB/s]\u001b[A\n",
      "Downloading (…)l-00002-of-00008.bin:  66%|██████▌   | 1.31G/1.99G [00:03<00:01, 437MB/s]\u001b[A\n",
      "Downloading (…)l-00002-of-00008.bin:  69%|██████▊   | 1.36G/1.99G [00:03<00:01, 439MB/s]\u001b[A\n",
      "Downloading (…)l-00002-of-00008.bin:  71%|███████   | 1.42G/1.99G [00:03<00:01, 444MB/s]\u001b[A\n",
      "Downloading (…)l-00002-of-00008.bin:  74%|███████▍  | 1.47G/1.99G [00:03<00:01, 448MB/s]\u001b[A\n",
      "Downloading (…)l-00002-of-00008.bin:  77%|███████▋  | 1.52G/1.99G [00:03<00:01, 449MB/s]\u001b[A\n",
      "Downloading (…)l-00002-of-00008.bin:  79%|███████▉  | 1.57G/1.99G [00:03<00:00, 446MB/s]\u001b[A\n",
      "Downloading (…)l-00002-of-00008.bin:  82%|████████▏ | 1.63G/1.99G [00:03<00:00, 447MB/s]\u001b[A\n",
      "Downloading (…)l-00002-of-00008.bin:  84%|████████▍ | 1.68G/1.99G [00:03<00:00, 454MB/s]\u001b[A\n",
      "Downloading (…)l-00002-of-00008.bin:  87%|████████▋ | 1.73G/1.99G [00:04<00:00, 449MB/s]\u001b[A\n",
      "Downloading (…)l-00002-of-00008.bin:  90%|████████▉ | 1.78G/1.99G [00:04<00:00, 450MB/s]\u001b[A\n",
      "Downloading (…)l-00002-of-00008.bin:  92%|█████████▏| 1.84G/1.99G [00:04<00:00, 452MB/s]\u001b[A\n",
      "Downloading (…)l-00002-of-00008.bin:  95%|█████████▍| 1.89G/1.99G [00:04<00:00, 450MB/s]\u001b[A\n",
      "Downloading (…)l-00002-of-00008.bin:  98%|█████████▊| 1.94G/1.99G [00:04<00:00, 449MB/s]\u001b[A\n",
      "Downloading (…)l-00002-of-00008.bin: 100%|██████████| 1.99G/1.99G [00:04<00:00, 424MB/s]\u001b[A\n",
      "Downloading shards:  25%|██▌       | 2/8 [00:42<02:09, 21.66s/it]\n",
      "Downloading (…)l-00003-of-00008.bin:   0%|          | 0.00/1.91G [00:00<?, ?B/s]\u001b[A\n",
      "Downloading (…)l-00003-of-00008.bin:   1%|          | 10.5M/1.91G [00:00<00:40, 46.9MB/s]\u001b[A\n",
      "Downloading (…)l-00003-of-00008.bin:   3%|▎         | 62.9M/1.91G [00:00<00:08, 219MB/s] \u001b[A\n",
      "Downloading (…)l-00003-of-00008.bin:   6%|▌         | 115M/1.91G [00:00<00:05, 310MB/s] \u001b[A\n",
      "Downloading (…)l-00003-of-00008.bin:   9%|▉         | 168M/1.91G [00:00<00:04, 363MB/s]\u001b[A\n",
      "Downloading (…)l-00003-of-00008.bin:  12%|█▏        | 220M/1.91G [00:00<00:04, 390MB/s]\u001b[A\n",
      "Downloading (…)l-00003-of-00008.bin:  14%|█▍        | 273M/1.91G [00:00<00:03, 417MB/s]\u001b[A\n",
      "Downloading (…)l-00003-of-00008.bin:  17%|█▋        | 325M/1.91G [00:00<00:03, 428MB/s]\u001b[A\n",
      "Downloading (…)l-00003-of-00008.bin:  20%|█▉        | 377M/1.91G [00:01<00:03, 434MB/s]\u001b[A\n",
      "Downloading (…)l-00003-of-00008.bin:  23%|██▎       | 430M/1.91G [00:01<00:03, 442MB/s]\u001b[A\n",
      "Downloading (…)l-00003-of-00008.bin:  25%|██▌       | 482M/1.91G [00:01<00:03, 448MB/s]\u001b[A\n",
      "Downloading (…)l-00003-of-00008.bin:  28%|██▊       | 535M/1.91G [00:01<00:03, 452MB/s]\u001b[A\n",
      "Downloading (…)l-00003-of-00008.bin:  31%|███       | 587M/1.91G [00:01<00:02, 456MB/s]\u001b[A\n",
      "Downloading (…)l-00003-of-00008.bin:  34%|███▎      | 640M/1.91G [00:01<00:02, 455MB/s]\u001b[A\n",
      "Downloading (…)l-00003-of-00008.bin:  36%|███▋      | 692M/1.91G [00:01<00:02, 455MB/s]\u001b[A\n",
      "Downloading (…)l-00003-of-00008.bin:  39%|███▉      | 744M/1.91G [00:01<00:02, 452MB/s]\u001b[A\n",
      "Downloading (…)l-00003-of-00008.bin:  42%|████▏     | 797M/1.91G [00:01<00:02, 448MB/s]\u001b[A\n",
      "Downloading (…)l-00003-of-00008.bin:  45%|████▍     | 849M/1.91G [00:02<00:02, 454MB/s]\u001b[A\n",
      "Downloading (…)l-00003-of-00008.bin:  47%|████▋     | 902M/1.91G [00:02<00:02, 450MB/s]\u001b[A\n",
      "Downloading (…)l-00003-of-00008.bin:  50%|█████     | 954M/1.91G [00:02<00:02, 451MB/s]\u001b[A\n",
      "Downloading (…)l-00003-of-00008.bin:  53%|█████▎    | 1.01G/1.91G [00:02<00:01, 451MB/s]\u001b[A\n",
      "Downloading (…)l-00003-of-00008.bin:  56%|█████▌    | 1.06G/1.91G [00:02<00:01, 449MB/s]\u001b[A\n",
      "Downloading (…)l-00003-of-00008.bin:  58%|█████▊    | 1.11G/1.91G [00:02<00:01, 452MB/s]\u001b[A\n",
      "Downloading (…)l-00003-of-00008.bin:  61%|██████    | 1.16G/1.91G [00:02<00:01, 451MB/s]\u001b[A\n",
      "Downloading (…)l-00003-of-00008.bin:  64%|██████▍   | 1.22G/1.91G [00:02<00:01, 450MB/s]\u001b[A\n",
      "Downloading (…)l-00003-of-00008.bin:  67%|██████▋   | 1.27G/1.91G [00:03<00:01, 445MB/s]\u001b[A\n",
      "Downloading (…)l-00003-of-00008.bin:  69%|██████▉   | 1.32G/1.91G [00:03<00:01, 440MB/s]\u001b[A\n",
      "Downloading (…)l-00003-of-00008.bin:  72%|███████▏  | 1.37G/1.91G [00:03<00:01, 438MB/s]\u001b[A\n",
      "Downloading (…)l-00003-of-00008.bin:  75%|███████▍  | 1.43G/1.91G [00:03<00:01, 431MB/s]\u001b[A\n",
      "Downloading (…)l-00003-of-00008.bin:  78%|███████▊  | 1.48G/1.91G [00:03<00:01, 426MB/s]\u001b[A\n",
      "Downloading (…)l-00003-of-00008.bin:  80%|████████  | 1.53G/1.91G [00:03<00:00, 420MB/s]\u001b[A\n",
      "Downloading (…)l-00003-of-00008.bin:  83%|████████▎ | 1.58G/1.91G [00:03<00:00, 415MB/s]\u001b[A\n",
      "Downloading (…)l-00003-of-00008.bin:  86%|████████▌ | 1.64G/1.91G [00:03<00:00, 421MB/s]\u001b[A\n",
      "Downloading (…)l-00003-of-00008.bin:  89%|████████▊ | 1.69G/1.91G [00:04<00:00, 420MB/s]\u001b[A\n",
      "Downloading (…)l-00003-of-00008.bin:  91%|█████████▏| 1.74G/1.91G [00:04<00:00, 423MB/s]\u001b[A\n",
      "Downloading (…)l-00003-of-00008.bin:  94%|█████████▍| 1.79G/1.91G [00:04<00:00, 422MB/s]\u001b[A\n",
      "Downloading (…)l-00003-of-00008.bin:  97%|█████████▋| 1.85G/1.91G [00:04<00:00, 424MB/s]\u001b[A\n",
      "Downloading (…)l-00003-of-00008.bin: 100%|██████████| 1.91G/1.91G [00:04<00:00, 422MB/s]\u001b[A\n",
      "Downloading shards:  38%|███▊      | 3/8 [01:04<01:48, 21.69s/it]\n",
      "Downloading (…)l-00004-of-00008.bin:   0%|          | 0.00/1.91G [00:00<?, ?B/s]\u001b[A\n",
      "Downloading (…)l-00004-of-00008.bin:   1%|          | 10.5M/1.91G [00:00<00:40, 47.3MB/s]\u001b[A\n",
      "Downloading (…)l-00004-of-00008.bin:   3%|▎         | 62.9M/1.91G [00:00<00:08, 216MB/s] \u001b[A\n",
      "Downloading (…)l-00004-of-00008.bin:   6%|▌         | 115M/1.91G [00:00<00:05, 302MB/s] \u001b[A\n",
      "Downloading (…)l-00004-of-00008.bin:   9%|▉         | 168M/1.91G [00:00<00:04, 351MB/s]\u001b[A\n",
      "Downloading (…)l-00004-of-00008.bin:  12%|█▏        | 220M/1.91G [00:00<00:04, 384MB/s]\u001b[A\n",
      "Downloading (…)l-00004-of-00008.bin:  14%|█▍        | 273M/1.91G [00:00<00:04, 402MB/s]\u001b[A\n",
      "Downloading (…)l-00004-of-00008.bin:  17%|█▋        | 325M/1.91G [00:00<00:03, 413MB/s]\u001b[A\n",
      "Downloading (…)l-00004-of-00008.bin:  20%|█▉        | 377M/1.91G [00:01<00:03, 430MB/s]\u001b[A\n",
      "Downloading (…)l-00004-of-00008.bin:  23%|██▎       | 430M/1.91G [00:01<00:03, 434MB/s]\u001b[A\n",
      "Downloading (…)l-00004-of-00008.bin:  25%|██▌       | 482M/1.91G [00:01<00:03, 444MB/s]\u001b[A\n",
      "Downloading (…)l-00004-of-00008.bin:  28%|██▊       | 535M/1.91G [00:01<00:03, 446MB/s]\u001b[A\n",
      "Downloading (…)l-00004-of-00008.bin:  31%|███       | 587M/1.91G [00:01<00:02, 443MB/s]\u001b[A\n",
      "Downloading (…)l-00004-of-00008.bin:  34%|███▎      | 640M/1.91G [00:01<00:02, 444MB/s]\u001b[A\n",
      "Downloading (…)l-00004-of-00008.bin:  36%|███▋      | 692M/1.91G [00:01<00:02, 441MB/s]\u001b[A\n",
      "Downloading (…)l-00004-of-00008.bin:  39%|███▉      | 744M/1.91G [00:01<00:02, 439MB/s]\u001b[A\n",
      "Downloading (…)l-00004-of-00008.bin:  42%|████▏     | 797M/1.91G [00:01<00:02, 439MB/s]\u001b[A\n",
      "Downloading (…)l-00004-of-00008.bin:  45%|████▍     | 849M/1.91G [00:02<00:02, 443MB/s]\u001b[A\n",
      "Downloading (…)l-00004-of-00008.bin:  47%|████▋     | 902M/1.91G [00:02<00:02, 441MB/s]\u001b[A\n",
      "Downloading (…)l-00004-of-00008.bin:  50%|█████     | 954M/1.91G [00:02<00:02, 440MB/s]\u001b[A\n",
      "Downloading (…)l-00004-of-00008.bin:  53%|█████▎    | 1.01G/1.91G [00:02<00:02, 437MB/s]\u001b[A\n",
      "Downloading (…)l-00004-of-00008.bin:  56%|█████▌    | 1.06G/1.91G [00:02<00:01, 434MB/s]\u001b[A\n",
      "Downloading (…)l-00004-of-00008.bin:  58%|█████▊    | 1.11G/1.91G [00:02<00:01, 434MB/s]\u001b[A\n",
      "Downloading (…)l-00004-of-00008.bin:  61%|██████    | 1.16G/1.91G [00:02<00:01, 431MB/s]\u001b[A\n",
      "Downloading (…)l-00004-of-00008.bin:  64%|██████▍   | 1.22G/1.91G [00:02<00:01, 431MB/s]\u001b[A\n",
      "Downloading (…)l-00004-of-00008.bin:  67%|██████▋   | 1.27G/1.91G [00:03<00:01, 433MB/s]\u001b[A\n",
      "Downloading (…)l-00004-of-00008.bin:  69%|██████▉   | 1.32G/1.91G [00:03<00:01, 433MB/s]\u001b[A\n",
      "Downloading (…)l-00004-of-00008.bin:  72%|███████▏  | 1.37G/1.91G [00:03<00:01, 434MB/s]\u001b[A\n",
      "Downloading (…)l-00004-of-00008.bin:  75%|███████▍  | 1.43G/1.91G [00:03<00:01, 437MB/s]\u001b[A\n",
      "Downloading (…)l-00004-of-00008.bin:  78%|███████▊  | 1.48G/1.91G [00:03<00:00, 440MB/s]\u001b[A\n",
      "Downloading (…)l-00004-of-00008.bin:  80%|████████  | 1.53G/1.91G [00:03<00:00, 411MB/s]\u001b[A\n",
      "Downloading (…)l-00004-of-00008.bin:  83%|████████▎ | 1.57G/1.91G [00:03<00:00, 399MB/s]\u001b[A\n",
      "Downloading (…)l-00004-of-00008.bin:  85%|████████▍ | 1.61G/1.91G [00:03<00:00, 403MB/s]\u001b[A\n",
      "Downloading (…)l-00004-of-00008.bin:  87%|████████▋ | 1.67G/1.91G [00:04<00:00, 416MB/s]\u001b[A\n",
      "Downloading (…)l-00004-of-00008.bin:  90%|█████████ | 1.72G/1.91G [00:04<00:00, 423MB/s]\u001b[A\n",
      "Downloading (…)l-00004-of-00008.bin:  93%|█████████▎| 1.77G/1.91G [00:04<00:00, 428MB/s]\u001b[A\n",
      "Downloading (…)l-00004-of-00008.bin:  96%|█████████▌| 1.82G/1.91G [00:04<00:00, 429MB/s]\u001b[A\n",
      "Downloading (…)l-00004-of-00008.bin: 100%|██████████| 1.91G/1.91G [00:04<00:00, 414MB/s]\u001b[A\n",
      "Downloading shards:  50%|█████     | 4/8 [01:26<01:26, 21.70s/it]\n",
      "Downloading (…)l-00005-of-00008.bin:   0%|          | 0.00/1.99G [00:00<?, ?B/s]\u001b[A\n",
      "Downloading (…)l-00005-of-00008.bin:   1%|          | 10.5M/1.99G [00:00<00:41, 47.5MB/s]\u001b[A\n",
      "Downloading (…)l-00005-of-00008.bin:   3%|▎         | 62.9M/1.99G [00:00<00:08, 218MB/s] \u001b[A\n",
      "Downloading (…)l-00005-of-00008.bin:   6%|▌         | 115M/1.99G [00:00<00:06, 309MB/s] \u001b[A\n",
      "Downloading (…)l-00005-of-00008.bin:   8%|▊         | 168M/1.99G [00:00<00:05, 359MB/s]\u001b[A\n",
      "Downloading (…)l-00005-of-00008.bin:  11%|█         | 220M/1.99G [00:00<00:04, 391MB/s]\u001b[A\n",
      "Downloading (…)l-00005-of-00008.bin:  14%|█▎        | 273M/1.99G [00:00<00:04, 411MB/s]\u001b[A\n",
      "Downloading (…)l-00005-of-00008.bin:  16%|█▋        | 325M/1.99G [00:00<00:03, 426MB/s]\u001b[A\n",
      "Downloading (…)l-00005-of-00008.bin:  19%|█▉        | 377M/1.99G [00:01<00:03, 435MB/s]\u001b[A\n",
      "Downloading (…)l-00005-of-00008.bin:  22%|██▏       | 430M/1.99G [00:01<00:03, 439MB/s]\u001b[A\n",
      "Downloading (…)l-00005-of-00008.bin:  24%|██▍       | 482M/1.99G [00:01<00:03, 444MB/s]\u001b[A\n",
      "Downloading (…)l-00005-of-00008.bin:  27%|██▋       | 535M/1.99G [00:01<00:03, 450MB/s]\u001b[A\n",
      "Downloading (…)l-00005-of-00008.bin:  30%|██▉       | 587M/1.99G [00:01<00:03, 453MB/s]\u001b[A\n",
      "Downloading (…)l-00005-of-00008.bin:  32%|███▏      | 640M/1.99G [00:01<00:02, 454MB/s]\u001b[A\n",
      "Downloading (…)l-00005-of-00008.bin:  35%|███▍      | 692M/1.99G [00:01<00:02, 456MB/s]\u001b[A\n",
      "Downloading (…)l-00005-of-00008.bin:  37%|███▋      | 744M/1.99G [00:01<00:02, 458MB/s]\u001b[A\n",
      "Downloading (…)l-00005-of-00008.bin:  40%|████      | 797M/1.99G [00:01<00:02, 456MB/s]\u001b[A\n",
      "Downloading (…)l-00005-of-00008.bin:  43%|████▎     | 849M/1.99G [00:02<00:02, 455MB/s]\u001b[A\n",
      "Downloading (…)l-00005-of-00008.bin:  45%|████▌     | 902M/1.99G [00:02<00:02, 454MB/s]\u001b[A\n",
      "Downloading (…)l-00005-of-00008.bin:  48%|████▊     | 954M/1.99G [00:02<00:02, 449MB/s]\u001b[A\n",
      "Downloading (…)l-00005-of-00008.bin:  51%|█████     | 1.01G/1.99G [00:02<00:02, 444MB/s]\u001b[A\n",
      "Downloading (…)l-00005-of-00008.bin:  53%|█████▎    | 1.06G/1.99G [00:02<00:02, 436MB/s]\u001b[A\n",
      "Downloading (…)l-00005-of-00008.bin:  56%|█████▌    | 1.11G/1.99G [00:02<00:01, 440MB/s]\u001b[A\n",
      "Downloading (…)l-00005-of-00008.bin:  59%|█████▊    | 1.16G/1.99G [00:02<00:01, 445MB/s]\u001b[A\n",
      "Downloading (…)l-00005-of-00008.bin:  61%|██████    | 1.22G/1.99G [00:02<00:01, 446MB/s]\u001b[A\n",
      "Downloading (…)l-00005-of-00008.bin:  64%|██████▍   | 1.27G/1.99G [00:03<00:01, 450MB/s]\u001b[A\n",
      "Downloading (…)l-00005-of-00008.bin:  66%|██████▋   | 1.32G/1.99G [00:03<00:01, 454MB/s]\u001b[A\n",
      "Downloading (…)l-00005-of-00008.bin:  69%|██████▉   | 1.37G/1.99G [00:03<00:01, 449MB/s]\u001b[A\n",
      "Downloading (…)l-00005-of-00008.bin:  72%|███████▏  | 1.43G/1.99G [00:03<00:01, 445MB/s]\u001b[A\n",
      "Downloading (…)l-00005-of-00008.bin:  74%|███████▍  | 1.48G/1.99G [00:03<00:01, 443MB/s]\u001b[A\n",
      "Downloading (…)l-00005-of-00008.bin:  77%|███████▋  | 1.53G/1.99G [00:03<00:01, 411MB/s]\u001b[A\n",
      "Downloading (…)l-00005-of-00008.bin:  79%|███████▉  | 1.57G/1.99G [00:03<00:01, 402MB/s]\u001b[A\n",
      "Downloading (…)l-00005-of-00008.bin:  82%|████████▏ | 1.63G/1.99G [00:03<00:00, 408MB/s]\u001b[A\n",
      "Downloading (…)l-00005-of-00008.bin:  84%|████████▍ | 1.68G/1.99G [00:03<00:00, 416MB/s]\u001b[A\n",
      "Downloading (…)l-00005-of-00008.bin:  87%|████████▋ | 1.73G/1.99G [00:04<00:00, 418MB/s]\u001b[A\n",
      "Downloading (…)l-00005-of-00008.bin:  89%|████████▉ | 1.77G/1.99G [00:04<00:00, 416MB/s]\u001b[A\n",
      "Downloading (…)l-00005-of-00008.bin:  92%|█████████▏| 1.82G/1.99G [00:04<00:00, 419MB/s]\u001b[A\n",
      "Downloading (…)l-00005-of-00008.bin:  94%|█████████▍| 1.87G/1.99G [00:04<00:00, 419MB/s]\u001b[A\n",
      "Downloading (…)l-00005-of-00008.bin:  96%|█████████▌| 1.91G/1.99G [00:04<00:00, 418MB/s]\u001b[A\n",
      "Downloading (…)l-00005-of-00008.bin: 100%|██████████| 1.99G/1.99G [00:04<00:00, 419MB/s]\u001b[A\n",
      "Downloading shards:  62%|██████▎   | 5/8 [01:48<01:05, 21.97s/it]\n",
      "Downloading (…)l-00006-of-00008.bin:   0%|          | 0.00/1.91G [00:00<?, ?B/s]\u001b[A\n",
      "Downloading (…)l-00006-of-00008.bin:   1%|          | 10.5M/1.91G [00:00<00:40, 47.4MB/s]\u001b[A\n",
      "Downloading (…)l-00006-of-00008.bin:   3%|▎         | 62.9M/1.91G [00:00<00:08, 218MB/s] \u001b[A\n",
      "Downloading (…)l-00006-of-00008.bin:   6%|▌         | 115M/1.91G [00:00<00:05, 300MB/s] \u001b[A\n",
      "Downloading (…)l-00006-of-00008.bin:   9%|▉         | 168M/1.91G [00:00<00:04, 353MB/s]\u001b[A\n",
      "Downloading (…)l-00006-of-00008.bin:  12%|█▏        | 220M/1.91G [00:00<00:04, 387MB/s]\u001b[A\n",
      "Downloading (…)l-00006-of-00008.bin:  14%|█▍        | 273M/1.91G [00:00<00:03, 410MB/s]\u001b[A\n",
      "Downloading (…)l-00006-of-00008.bin:  17%|█▋        | 325M/1.91G [00:00<00:03, 424MB/s]\u001b[A\n",
      "Downloading (…)l-00006-of-00008.bin:  20%|█▉        | 377M/1.91G [00:01<00:03, 436MB/s]\u001b[A\n",
      "Downloading (…)l-00006-of-00008.bin:  23%|██▎       | 430M/1.91G [00:01<00:03, 445MB/s]\u001b[A\n",
      "Downloading (…)l-00006-of-00008.bin:  25%|██▌       | 482M/1.91G [00:01<00:03, 447MB/s]\u001b[A\n",
      "Downloading (…)l-00006-of-00008.bin:  28%|██▊       | 535M/1.91G [00:01<00:03, 447MB/s]\u001b[A\n",
      "Downloading (…)l-00006-of-00008.bin:  31%|███       | 587M/1.91G [00:01<00:02, 450MB/s]\u001b[A\n",
      "Downloading (…)l-00006-of-00008.bin:  34%|███▎      | 640M/1.91G [00:01<00:02, 453MB/s]\u001b[A\n",
      "Downloading (…)l-00006-of-00008.bin:  36%|███▋      | 692M/1.91G [00:01<00:02, 450MB/s]\u001b[A\n",
      "Downloading (…)l-00006-of-00008.bin:  39%|███▉      | 744M/1.91G [00:01<00:02, 445MB/s]\u001b[A\n",
      "Downloading (…)l-00006-of-00008.bin:  42%|████▏     | 797M/1.91G [00:01<00:02, 444MB/s]\u001b[A\n",
      "Downloading (…)l-00006-of-00008.bin:  45%|████▍     | 849M/1.91G [00:02<00:02, 447MB/s]\u001b[A\n",
      "Downloading (…)l-00006-of-00008.bin:  47%|████▋     | 902M/1.91G [00:02<00:02, 452MB/s]\u001b[A\n",
      "Downloading (…)l-00006-of-00008.bin:  50%|█████     | 954M/1.91G [00:02<00:02, 456MB/s]\u001b[A\n",
      "Downloading (…)l-00006-of-00008.bin:  53%|█████▎    | 1.01G/1.91G [00:02<00:01, 452MB/s]\u001b[A\n",
      "Downloading (…)l-00006-of-00008.bin:  56%|█████▌    | 1.06G/1.91G [00:02<00:01, 448MB/s]\u001b[A\n",
      "Downloading (…)l-00006-of-00008.bin:  58%|█████▊    | 1.11G/1.91G [00:02<00:01, 448MB/s]\u001b[A\n",
      "Downloading (…)l-00006-of-00008.bin:  61%|██████    | 1.16G/1.91G [00:02<00:01, 442MB/s]\u001b[A\n",
      "Downloading (…)l-00006-of-00008.bin:  64%|██████▍   | 1.22G/1.91G [00:02<00:01, 443MB/s]\u001b[A\n",
      "Downloading (…)l-00006-of-00008.bin:  67%|██████▋   | 1.27G/1.91G [00:03<00:01, 440MB/s]\u001b[A\n",
      "Downloading (…)l-00006-of-00008.bin:  69%|██████▉   | 1.32G/1.91G [00:03<00:01, 440MB/s]\u001b[A\n",
      "Downloading (…)l-00006-of-00008.bin:  72%|███████▏  | 1.37G/1.91G [00:03<00:01, 442MB/s]\u001b[A\n",
      "Downloading (…)l-00006-of-00008.bin:  75%|███████▍  | 1.43G/1.91G [00:03<00:01, 438MB/s]\u001b[A\n",
      "Downloading (…)l-00006-of-00008.bin:  78%|███████▊  | 1.48G/1.91G [00:03<00:00, 434MB/s]\u001b[A\n",
      "Downloading (…)l-00006-of-00008.bin:  80%|████████  | 1.53G/1.91G [00:03<00:00, 426MB/s]\u001b[A\n",
      "Downloading (…)l-00006-of-00008.bin:  83%|████████▎ | 1.58G/1.91G [00:03<00:00, 425MB/s]\u001b[A\n",
      "Downloading (…)l-00006-of-00008.bin:  86%|████████▌ | 1.64G/1.91G [00:03<00:00, 425MB/s]\u001b[A\n",
      "Downloading (…)l-00006-of-00008.bin:  89%|████████▊ | 1.69G/1.91G [00:04<00:00, 427MB/s]\u001b[A\n",
      "Downloading (…)l-00006-of-00008.bin:  91%|█████████▏| 1.74G/1.91G [00:04<00:00, 423MB/s]\u001b[A\n",
      "Downloading (…)l-00006-of-00008.bin:  94%|█████████▍| 1.79G/1.91G [00:04<00:00, 421MB/s]\u001b[A\n",
      "Downloading (…)l-00006-of-00008.bin:  97%|█████████▋| 1.85G/1.91G [00:04<00:00, 421MB/s]\u001b[A\n",
      "Downloading (…)l-00006-of-00008.bin: 100%|██████████| 1.91G/1.91G [00:04<00:00, 421MB/s]\u001b[A\n"
     ]
    }
   ],
   "source": [
    "\n",
    "model_name = \"ybelkada/falcon-7b-sharded-bf16\"\n",
    "# model_name = \"tiiuae/falcon-40b\"\n",
    "\n",
    "bnb_config = BitsAndBytesConfig(\n",
    "    load_in_4bit=True,\n",
    "    bnb_4bit_quant_type=\"nf4\", # normalised float 4 bit\n",
    "    bnb_4bit_compute_dtype=torch.float16,\n",
    ")\n",
    "\n",
    "model = AutoModelForCausalLM.from_pretrained(\n",
    "    model_name,\n",
    "    quantization_config=bnb_config,\n",
    "    trust_remote_code=True\n",
    ")\n",
    "model.config.use_cache = False"
   ]
  },
  {
   "cell_type": "code",
   "execution_count": null,
   "id": "ad0264c6-cc69-4ddb-8435-ad8c37123750",
   "metadata": {
    "tags": []
   },
   "outputs": [],
   "source": [
    "tokenizer = AutoTokenizer.from_pretrained(model_name, trust_remote_code=True)\n",
    "tokenizer.pad_token = tokenizer.eos_token"
   ]
  },
  {
   "cell_type": "code",
   "execution_count": null,
   "id": "efa9585f-d38b-4a45-9283-19f8aa7c86af",
   "metadata": {
    "tags": []
   },
   "outputs": [],
   "source": [
    "from peft import prepare_model_for_kbit_training\n",
    "\n",
    "model.gradient_checkpointing_enable()\n",
    "model = prepare_model_for_kbit_training(model)"
   ]
  },
  {
   "cell_type": "code",
   "execution_count": null,
   "id": "28843919-b76c-486b-9f6c-aa68e1910f72",
   "metadata": {},
   "outputs": [],
   "source": [
    "def print_trainable_parameters(model):\n",
    "    \"\"\"\n",
    "    Prints the number of trainable parameters in the model.\n",
    "    \"\"\"\n",
    "    trainable_params = 0\n",
    "    all_param = 0\n",
    "    for _, param in model.named_parameters():\n",
    "        all_param += param.numel()\n",
    "        if param.requires_grad:\n",
    "            trainable_params += param.numel()\n",
    "    print(\n",
    "        f\"trainable params: {trainable_params} || all params: {all_param} || trainable%: {100 * trainable_params / all_param}\"\n",
    "    )"
   ]
  },
  {
   "cell_type": "markdown",
   "id": "2bcf906e-8950-4a78-9b9b-6110afa1ddf6",
   "metadata": {},
   "source": [
    "# Download Dataset"
   ]
  },
  {
   "cell_type": "code",
   "execution_count": null,
   "id": "ebdf833b-41c7-463f-bab0-80dabe53b404",
   "metadata": {
    "tags": []
   },
   "outputs": [],
   "source": [
    "from datasets import load_dataset\n",
    "\n",
    "# Load dataset from the hub\n",
    "dataset = load_dataset(\"samsum\")\n",
    "\n",
    "print(f\"Train dataset size: {len(dataset['train'])}\")\n",
    "print(f\"Test dataset size: {len(dataset['test'])}\")"
   ]
  },
  {
   "cell_type": "markdown",
   "id": "28b775a4-8257-4a0b-bab4-12f08ea01456",
   "metadata": {},
   "source": [
    "## Convert data to the prompt template for finetuning"
   ]
  },
  {
   "cell_type": "code",
   "execution_count": null,
   "id": "24bc7b9d-7f87-44c9-bf4c-b42ee358d398",
   "metadata": {
    "tags": []
   },
   "outputs": [],
   "source": [
    "from random import randint\n",
    "\n",
    "# custom instruct prompt start\n",
    "prompt_template = f\"Summarize the chat dialogue:\\n{{dialogue}}\\n---\\nSummary:\\n{{summary}}{{eos_token}}\"\n",
    "\n",
    "# template dataset to add prompt to each sample\n",
    "def template_dataset(sample):\n",
    "    sample[\"text\"] = prompt_template.format(dialogue=sample[\"dialogue\"],\n",
    "                                            summary=sample[\"summary\"],\n",
    "                                            eos_token=tokenizer.eos_token)\n",
    "    return sample\n",
    "\n",
    "\n",
    "# apply prompt template per sample\n",
    "train_dataset = dataset[\"train\"].map(template_dataset, remove_columns=list(dataset[\"train\"].features))\n",
    "\n",
    "print(train_dataset[randint(0, len(dataset))][\"text\"])"
   ]
  },
  {
   "cell_type": "markdown",
   "id": "937650fe-0ae7-4e94-b3db-cdbd47574bb4",
   "metadata": {},
   "source": [
    "## Set up PEFT parameters "
   ]
  },
  {
   "cell_type": "code",
   "execution_count": null,
   "id": "58e983e9-a5a0-4a6b-b2da-6db4b4794b38",
   "metadata": {
    "tags": []
   },
   "outputs": [],
   "source": [
    "from peft import LoraConfig, get_peft_model\n",
    "\n",
    "# Alpha parameter for LoRA scaling: The weight matrix is scaled by lora_alpha/lora_r\n",
    "lora_alpha = 16\n",
    "# Dropout probability for LoRA layers\n",
    "lora_dropout = 0.1\n",
    "# LoRA attention dimension:  rank of the update matrices : smaler => faster & fewer params to train\n",
    "lora_r = 64\n",
    "\n",
    "peft_config = LoraConfig(\n",
    "    lora_alpha=lora_alpha,\n",
    "    lora_dropout=lora_dropout,\n",
    "    r=lora_r,\n",
    "    bias=\"none\",\n",
    "    task_type=\"CAUSAL_LM\",\n",
    "    target_modules=[\n",
    "        \"query_key_value\",\n",
    "        \"dense\",\n",
    "        \"dense_h_to_4h\",\n",
    "        \"dense_4h_to_h\",\n",
    "    ]\n",
    ")\n",
    "\n",
    "print_trainable_parameters(model)"
   ]
  },
  {
   "cell_type": "markdown",
   "id": "4ea0efa1-43d5-461b-8546-372d2587ef0b",
   "metadata": {
    "tags": []
   },
   "source": [
    "## Configure the training arguments\n",
    "We are limiting this to 500 steps.   \n",
    "You might want to run the training For longer  "
   ]
  },
  {
   "cell_type": "code",
   "execution_count": null,
   "id": "5963a086-46d5-45c1-9737-4192ec02fcff",
   "metadata": {
    "tags": []
   },
   "outputs": [],
   "source": [
    "from transformers import TrainingArguments\n",
    "\n",
    "output_dir = \"./results\"\n",
    "per_device_train_batch_size = 4\n",
    "gradient_accumulation_steps = 4\n",
    "optim = \"paged_adamw_32bit\"\n",
    "save_steps = 10\n",
    "logging_steps = 10\n",
    "learning_rate = 2e-4\n",
    "max_grad_norm = 0.3\n",
    "# max_steps = 500 # takes ~ 3 hours for 500 steps\n",
    "max_steps = 50 \n",
    "warmup_ratio = 0.03\n",
    "lr_scheduler_type = \"constant\"\n",
    "\n",
    "training_arguments = TrainingArguments(\n",
    "    output_dir=output_dir,\n",
    "    per_device_train_batch_size=per_device_train_batch_size,\n",
    "    gradient_accumulation_steps=gradient_accumulation_steps,\n",
    "    optim=optim,\n",
    "    save_steps=save_steps,\n",
    "    logging_steps=logging_steps,\n",
    "    learning_rate=learning_rate,\n",
    "    fp16=True,\n",
    "    max_grad_norm=max_grad_norm,\n",
    "    max_steps=max_steps,\n",
    "    warmup_ratio=warmup_ratio,\n",
    "    group_by_length=True,\n",
    "    lr_scheduler_type=lr_scheduler_type,\n",
    ")"
   ]
  },
  {
   "cell_type": "code",
   "execution_count": null,
   "id": "0ea50f04-b911-40cc-bf89-c0e94a06e56f",
   "metadata": {
    "tags": []
   },
   "outputs": [],
   "source": [
    "from trl import SFTTrainer\n",
    "\n",
    "max_seq_length = 512\n",
    "\n",
    "trainer = SFTTrainer(\n",
    "    model=model,\n",
    "    train_dataset=train_dataset,\n",
    "    peft_config=peft_config,\n",
    "    dataset_text_field=\"text\",\n",
    "    max_seq_length=max_seq_length,\n",
    "    tokenizer=tokenizer,\n",
    "    args=training_arguments,\n",
    ")"
   ]
  },
  {
   "cell_type": "code",
   "execution_count": null,
   "id": "4f71effc-ddfc-4c77-b1d7-b58c5c08b986",
   "metadata": {
    "tags": []
   },
   "outputs": [],
   "source": [
    "for name, module in trainer.model.named_modules():\n",
    "    if \"norm\" in name:\n",
    "        module = module.to(torch.float32)"
   ]
  },
  {
   "cell_type": "code",
   "execution_count": null,
   "id": "539181b0-cf17-4f22-8e47-62df175539f1",
   "metadata": {
    "tags": []
   },
   "outputs": [],
   "source": [
    "trainer.train()"
   ]
  },
  {
   "cell_type": "code",
   "execution_count": null,
   "id": "168ae6c9-6c16-440a-9f5a-9a1af48e72e8",
   "metadata": {},
   "outputs": [],
   "source": [
    "from datetime import timedelta\n",
    "end = time.time()\n",
    "print(timedelta(seconds=end-start))"
   ]
  },
  {
   "cell_type": "code",
   "execution_count": null,
   "id": "2e9bbb1d-f56d-45a7-a766-06cdb98c4d91",
   "metadata": {},
   "outputs": [],
   "source": []
  }
 ],
 "metadata": {
  "availableInstances": [
   {
    "_defaultOrder": 0,
    "_isFastLaunch": true,
    "category": "General purpose",
    "gpuNum": 0,
    "hideHardwareSpecs": false,
    "memoryGiB": 4,
    "name": "ml.t3.medium",
    "vcpuNum": 2
   },
   {
    "_defaultOrder": 1,
    "_isFastLaunch": false,
    "category": "General purpose",
    "gpuNum": 0,
    "hideHardwareSpecs": false,
    "memoryGiB": 8,
    "name": "ml.t3.large",
    "vcpuNum": 2
   },
   {
    "_defaultOrder": 2,
    "_isFastLaunch": false,
    "category": "General purpose",
    "gpuNum": 0,
    "hideHardwareSpecs": false,
    "memoryGiB": 16,
    "name": "ml.t3.xlarge",
    "vcpuNum": 4
   },
   {
    "_defaultOrder": 3,
    "_isFastLaunch": false,
    "category": "General purpose",
    "gpuNum": 0,
    "hideHardwareSpecs": false,
    "memoryGiB": 32,
    "name": "ml.t3.2xlarge",
    "vcpuNum": 8
   },
   {
    "_defaultOrder": 4,
    "_isFastLaunch": true,
    "category": "General purpose",
    "gpuNum": 0,
    "hideHardwareSpecs": false,
    "memoryGiB": 8,
    "name": "ml.m5.large",
    "vcpuNum": 2
   },
   {
    "_defaultOrder": 5,
    "_isFastLaunch": false,
    "category": "General purpose",
    "gpuNum": 0,
    "hideHardwareSpecs": false,
    "memoryGiB": 16,
    "name": "ml.m5.xlarge",
    "vcpuNum": 4
   },
   {
    "_defaultOrder": 6,
    "_isFastLaunch": false,
    "category": "General purpose",
    "gpuNum": 0,
    "hideHardwareSpecs": false,
    "memoryGiB": 32,
    "name": "ml.m5.2xlarge",
    "vcpuNum": 8
   },
   {
    "_defaultOrder": 7,
    "_isFastLaunch": false,
    "category": "General purpose",
    "gpuNum": 0,
    "hideHardwareSpecs": false,
    "memoryGiB": 64,
    "name": "ml.m5.4xlarge",
    "vcpuNum": 16
   },
   {
    "_defaultOrder": 8,
    "_isFastLaunch": false,
    "category": "General purpose",
    "gpuNum": 0,
    "hideHardwareSpecs": false,
    "memoryGiB": 128,
    "name": "ml.m5.8xlarge",
    "vcpuNum": 32
   },
   {
    "_defaultOrder": 9,
    "_isFastLaunch": false,
    "category": "General purpose",
    "gpuNum": 0,
    "hideHardwareSpecs": false,
    "memoryGiB": 192,
    "name": "ml.m5.12xlarge",
    "vcpuNum": 48
   },
   {
    "_defaultOrder": 10,
    "_isFastLaunch": false,
    "category": "General purpose",
    "gpuNum": 0,
    "hideHardwareSpecs": false,
    "memoryGiB": 256,
    "name": "ml.m5.16xlarge",
    "vcpuNum": 64
   },
   {
    "_defaultOrder": 11,
    "_isFastLaunch": false,
    "category": "General purpose",
    "gpuNum": 0,
    "hideHardwareSpecs": false,
    "memoryGiB": 384,
    "name": "ml.m5.24xlarge",
    "vcpuNum": 96
   },
   {
    "_defaultOrder": 12,
    "_isFastLaunch": false,
    "category": "General purpose",
    "gpuNum": 0,
    "hideHardwareSpecs": false,
    "memoryGiB": 8,
    "name": "ml.m5d.large",
    "vcpuNum": 2
   },
   {
    "_defaultOrder": 13,
    "_isFastLaunch": false,
    "category": "General purpose",
    "gpuNum": 0,
    "hideHardwareSpecs": false,
    "memoryGiB": 16,
    "name": "ml.m5d.xlarge",
    "vcpuNum": 4
   },
   {
    "_defaultOrder": 14,
    "_isFastLaunch": false,
    "category": "General purpose",
    "gpuNum": 0,
    "hideHardwareSpecs": false,
    "memoryGiB": 32,
    "name": "ml.m5d.2xlarge",
    "vcpuNum": 8
   },
   {
    "_defaultOrder": 15,
    "_isFastLaunch": false,
    "category": "General purpose",
    "gpuNum": 0,
    "hideHardwareSpecs": false,
    "memoryGiB": 64,
    "name": "ml.m5d.4xlarge",
    "vcpuNum": 16
   },
   {
    "_defaultOrder": 16,
    "_isFastLaunch": false,
    "category": "General purpose",
    "gpuNum": 0,
    "hideHardwareSpecs": false,
    "memoryGiB": 128,
    "name": "ml.m5d.8xlarge",
    "vcpuNum": 32
   },
   {
    "_defaultOrder": 17,
    "_isFastLaunch": false,
    "category": "General purpose",
    "gpuNum": 0,
    "hideHardwareSpecs": false,
    "memoryGiB": 192,
    "name": "ml.m5d.12xlarge",
    "vcpuNum": 48
   },
   {
    "_defaultOrder": 18,
    "_isFastLaunch": false,
    "category": "General purpose",
    "gpuNum": 0,
    "hideHardwareSpecs": false,
    "memoryGiB": 256,
    "name": "ml.m5d.16xlarge",
    "vcpuNum": 64
   },
   {
    "_defaultOrder": 19,
    "_isFastLaunch": false,
    "category": "General purpose",
    "gpuNum": 0,
    "hideHardwareSpecs": false,
    "memoryGiB": 384,
    "name": "ml.m5d.24xlarge",
    "vcpuNum": 96
   },
   {
    "_defaultOrder": 20,
    "_isFastLaunch": false,
    "category": "General purpose",
    "gpuNum": 0,
    "hideHardwareSpecs": true,
    "memoryGiB": 0,
    "name": "ml.geospatial.interactive",
    "supportedImageNames": [
     "sagemaker-geospatial-v1-0"
    ],
    "vcpuNum": 0
   },
   {
    "_defaultOrder": 21,
    "_isFastLaunch": true,
    "category": "Compute optimized",
    "gpuNum": 0,
    "hideHardwareSpecs": false,
    "memoryGiB": 4,
    "name": "ml.c5.large",
    "vcpuNum": 2
   },
   {
    "_defaultOrder": 22,
    "_isFastLaunch": false,
    "category": "Compute optimized",
    "gpuNum": 0,
    "hideHardwareSpecs": false,
    "memoryGiB": 8,
    "name": "ml.c5.xlarge",
    "vcpuNum": 4
   },
   {
    "_defaultOrder": 23,
    "_isFastLaunch": false,
    "category": "Compute optimized",
    "gpuNum": 0,
    "hideHardwareSpecs": false,
    "memoryGiB": 16,
    "name": "ml.c5.2xlarge",
    "vcpuNum": 8
   },
   {
    "_defaultOrder": 24,
    "_isFastLaunch": false,
    "category": "Compute optimized",
    "gpuNum": 0,
    "hideHardwareSpecs": false,
    "memoryGiB": 32,
    "name": "ml.c5.4xlarge",
    "vcpuNum": 16
   },
   {
    "_defaultOrder": 25,
    "_isFastLaunch": false,
    "category": "Compute optimized",
    "gpuNum": 0,
    "hideHardwareSpecs": false,
    "memoryGiB": 72,
    "name": "ml.c5.9xlarge",
    "vcpuNum": 36
   },
   {
    "_defaultOrder": 26,
    "_isFastLaunch": false,
    "category": "Compute optimized",
    "gpuNum": 0,
    "hideHardwareSpecs": false,
    "memoryGiB": 96,
    "name": "ml.c5.12xlarge",
    "vcpuNum": 48
   },
   {
    "_defaultOrder": 27,
    "_isFastLaunch": false,
    "category": "Compute optimized",
    "gpuNum": 0,
    "hideHardwareSpecs": false,
    "memoryGiB": 144,
    "name": "ml.c5.18xlarge",
    "vcpuNum": 72
   },
   {
    "_defaultOrder": 28,
    "_isFastLaunch": false,
    "category": "Compute optimized",
    "gpuNum": 0,
    "hideHardwareSpecs": false,
    "memoryGiB": 192,
    "name": "ml.c5.24xlarge",
    "vcpuNum": 96
   },
   {
    "_defaultOrder": 29,
    "_isFastLaunch": true,
    "category": "Accelerated computing",
    "gpuNum": 1,
    "hideHardwareSpecs": false,
    "memoryGiB": 16,
    "name": "ml.g4dn.xlarge",
    "vcpuNum": 4
   },
   {
    "_defaultOrder": 30,
    "_isFastLaunch": false,
    "category": "Accelerated computing",
    "gpuNum": 1,
    "hideHardwareSpecs": false,
    "memoryGiB": 32,
    "name": "ml.g4dn.2xlarge",
    "vcpuNum": 8
   },
   {
    "_defaultOrder": 31,
    "_isFastLaunch": false,
    "category": "Accelerated computing",
    "gpuNum": 1,
    "hideHardwareSpecs": false,
    "memoryGiB": 64,
    "name": "ml.g4dn.4xlarge",
    "vcpuNum": 16
   },
   {
    "_defaultOrder": 32,
    "_isFastLaunch": false,
    "category": "Accelerated computing",
    "gpuNum": 1,
    "hideHardwareSpecs": false,
    "memoryGiB": 128,
    "name": "ml.g4dn.8xlarge",
    "vcpuNum": 32
   },
   {
    "_defaultOrder": 33,
    "_isFastLaunch": false,
    "category": "Accelerated computing",
    "gpuNum": 4,
    "hideHardwareSpecs": false,
    "memoryGiB": 192,
    "name": "ml.g4dn.12xlarge",
    "vcpuNum": 48
   },
   {
    "_defaultOrder": 34,
    "_isFastLaunch": false,
    "category": "Accelerated computing",
    "gpuNum": 1,
    "hideHardwareSpecs": false,
    "memoryGiB": 256,
    "name": "ml.g4dn.16xlarge",
    "vcpuNum": 64
   },
   {
    "_defaultOrder": 35,
    "_isFastLaunch": false,
    "category": "Accelerated computing",
    "gpuNum": 1,
    "hideHardwareSpecs": false,
    "memoryGiB": 61,
    "name": "ml.p3.2xlarge",
    "vcpuNum": 8
   },
   {
    "_defaultOrder": 36,
    "_isFastLaunch": false,
    "category": "Accelerated computing",
    "gpuNum": 4,
    "hideHardwareSpecs": false,
    "memoryGiB": 244,
    "name": "ml.p3.8xlarge",
    "vcpuNum": 32
   },
   {
    "_defaultOrder": 37,
    "_isFastLaunch": false,
    "category": "Accelerated computing",
    "gpuNum": 8,
    "hideHardwareSpecs": false,
    "memoryGiB": 488,
    "name": "ml.p3.16xlarge",
    "vcpuNum": 64
   },
   {
    "_defaultOrder": 38,
    "_isFastLaunch": false,
    "category": "Accelerated computing",
    "gpuNum": 8,
    "hideHardwareSpecs": false,
    "memoryGiB": 768,
    "name": "ml.p3dn.24xlarge",
    "vcpuNum": 96
   },
   {
    "_defaultOrder": 39,
    "_isFastLaunch": false,
    "category": "Memory Optimized",
    "gpuNum": 0,
    "hideHardwareSpecs": false,
    "memoryGiB": 16,
    "name": "ml.r5.large",
    "vcpuNum": 2
   },
   {
    "_defaultOrder": 40,
    "_isFastLaunch": false,
    "category": "Memory Optimized",
    "gpuNum": 0,
    "hideHardwareSpecs": false,
    "memoryGiB": 32,
    "name": "ml.r5.xlarge",
    "vcpuNum": 4
   },
   {
    "_defaultOrder": 41,
    "_isFastLaunch": false,
    "category": "Memory Optimized",
    "gpuNum": 0,
    "hideHardwareSpecs": false,
    "memoryGiB": 64,
    "name": "ml.r5.2xlarge",
    "vcpuNum": 8
   },
   {
    "_defaultOrder": 42,
    "_isFastLaunch": false,
    "category": "Memory Optimized",
    "gpuNum": 0,
    "hideHardwareSpecs": false,
    "memoryGiB": 128,
    "name": "ml.r5.4xlarge",
    "vcpuNum": 16
   },
   {
    "_defaultOrder": 43,
    "_isFastLaunch": false,
    "category": "Memory Optimized",
    "gpuNum": 0,
    "hideHardwareSpecs": false,
    "memoryGiB": 256,
    "name": "ml.r5.8xlarge",
    "vcpuNum": 32
   },
   {
    "_defaultOrder": 44,
    "_isFastLaunch": false,
    "category": "Memory Optimized",
    "gpuNum": 0,
    "hideHardwareSpecs": false,
    "memoryGiB": 384,
    "name": "ml.r5.12xlarge",
    "vcpuNum": 48
   },
   {
    "_defaultOrder": 45,
    "_isFastLaunch": false,
    "category": "Memory Optimized",
    "gpuNum": 0,
    "hideHardwareSpecs": false,
    "memoryGiB": 512,
    "name": "ml.r5.16xlarge",
    "vcpuNum": 64
   },
   {
    "_defaultOrder": 46,
    "_isFastLaunch": false,
    "category": "Memory Optimized",
    "gpuNum": 0,
    "hideHardwareSpecs": false,
    "memoryGiB": 768,
    "name": "ml.r5.24xlarge",
    "vcpuNum": 96
   },
   {
    "_defaultOrder": 47,
    "_isFastLaunch": false,
    "category": "Accelerated computing",
    "gpuNum": 1,
    "hideHardwareSpecs": false,
    "memoryGiB": 16,
    "name": "ml.g5.xlarge",
    "vcpuNum": 4
   },
   {
    "_defaultOrder": 48,
    "_isFastLaunch": false,
    "category": "Accelerated computing",
    "gpuNum": 1,
    "hideHardwareSpecs": false,
    "memoryGiB": 32,
    "name": "ml.g5.2xlarge",
    "vcpuNum": 8
   },
   {
    "_defaultOrder": 49,
    "_isFastLaunch": false,
    "category": "Accelerated computing",
    "gpuNum": 1,
    "hideHardwareSpecs": false,
    "memoryGiB": 64,
    "name": "ml.g5.4xlarge",
    "vcpuNum": 16
   },
   {
    "_defaultOrder": 50,
    "_isFastLaunch": false,
    "category": "Accelerated computing",
    "gpuNum": 1,
    "hideHardwareSpecs": false,
    "memoryGiB": 128,
    "name": "ml.g5.8xlarge",
    "vcpuNum": 32
   },
   {
    "_defaultOrder": 51,
    "_isFastLaunch": false,
    "category": "Accelerated computing",
    "gpuNum": 1,
    "hideHardwareSpecs": false,
    "memoryGiB": 256,
    "name": "ml.g5.16xlarge",
    "vcpuNum": 64
   },
   {
    "_defaultOrder": 52,
    "_isFastLaunch": false,
    "category": "Accelerated computing",
    "gpuNum": 4,
    "hideHardwareSpecs": false,
    "memoryGiB": 192,
    "name": "ml.g5.12xlarge",
    "vcpuNum": 48
   },
   {
    "_defaultOrder": 53,
    "_isFastLaunch": false,
    "category": "Accelerated computing",
    "gpuNum": 4,
    "hideHardwareSpecs": false,
    "memoryGiB": 384,
    "name": "ml.g5.24xlarge",
    "vcpuNum": 96
   },
   {
    "_defaultOrder": 54,
    "_isFastLaunch": false,
    "category": "Accelerated computing",
    "gpuNum": 8,
    "hideHardwareSpecs": false,
    "memoryGiB": 768,
    "name": "ml.g5.48xlarge",
    "vcpuNum": 192
   },
   {
    "_defaultOrder": 55,
    "_isFastLaunch": false,
    "category": "Accelerated computing",
    "gpuNum": 8,
    "hideHardwareSpecs": false,
    "memoryGiB": 1152,
    "name": "ml.p4d.24xlarge",
    "vcpuNum": 96
   },
   {
    "_defaultOrder": 56,
    "_isFastLaunch": false,
    "category": "Accelerated computing",
    "gpuNum": 8,
    "hideHardwareSpecs": false,
    "memoryGiB": 1152,
    "name": "ml.p4de.24xlarge",
    "vcpuNum": 96
   }
  ],
  "instance_type": "ml.g4dn.xlarge",
  "kernelspec": {
   "display_name": "Python 3 (PyTorch 2.0.0 Python 3.10 GPU Optimized)",
   "language": "python",
   "name": "python3__SAGEMAKER_INTERNAL__arn:aws:sagemaker:us-east-1:081325390199:image/pytorch-2.0.0-gpu-py310"
  },
  "language_info": {
   "codemirror_mode": {
    "name": "ipython",
    "version": 3
   },
   "file_extension": ".py",
   "mimetype": "text/x-python",
   "name": "python",
   "nbconvert_exporter": "python",
   "pygments_lexer": "ipython3",
   "version": "3.10.8"
  },
  "widgets": {
   "application/vnd.jupyter.widget-state+json": {
    "state": {
     "0a46f6df98a04759bcfebd4a49a12fc3": {
      "model_module": "@jupyter-widgets/base",
      "model_module_version": "1.2.0",
      "model_name": "LayoutModel",
      "state": {}
     },
     "568bca82806b44988172e5b90bb9538c": {
      "model_module": "@jupyter-widgets/controls",
      "model_module_version": "1.5.0",
      "model_name": "DescriptionStyleModel",
      "state": {
       "description_width": ""
      }
     },
     "5a448718dd134fcc923ebb138f24949b": {
      "model_module": "@jupyter-widgets/controls",
      "model_module_version": "1.5.0",
      "model_name": "DescriptionStyleModel",
      "state": {
       "description_width": ""
      }
     },
     "5aef6a468493417da97b7480aa886676": {
      "model_module": "@jupyter-widgets/controls",
      "model_module_version": "1.5.0",
      "model_name": "FloatProgressModel",
      "state": {
       "bar_style": "danger",
       "layout": "IPY_MODEL_0a46f6df98a04759bcfebd4a49a12fc3",
       "max": 14732,
       "style": "IPY_MODEL_f46af6d0c8304463b58e6655c69a32f1"
      }
     },
     "62613e377a7e4d0999d6c0d463fed8c8": {
      "model_module": "@jupyter-widgets/base",
      "model_module_version": "1.2.0",
      "model_name": "LayoutModel",
      "state": {}
     },
     "91c600cf59e04b5685cbe1d88cf4f0e3": {
      "model_module": "@jupyter-widgets/controls",
      "model_module_version": "1.5.0",
      "model_name": "HBoxModel",
      "state": {
       "children": [
        "IPY_MODEL_bcba1e8a47524c968ed81d6d60152389",
        "IPY_MODEL_5aef6a468493417da97b7480aa886676",
        "IPY_MODEL_c935388b5de44a8a9cca744497c4d1dd"
       ],
       "layout": "IPY_MODEL_bf2201bbc4c94ffa986712e0af10404f"
      }
     },
     "bcba1e8a47524c968ed81d6d60152389": {
      "model_module": "@jupyter-widgets/controls",
      "model_module_version": "1.5.0",
      "model_name": "HTMLModel",
      "state": {
       "layout": "IPY_MODEL_62613e377a7e4d0999d6c0d463fed8c8",
       "style": "IPY_MODEL_568bca82806b44988172e5b90bb9538c",
       "value": "Map:   0%"
      }
     },
     "bf2201bbc4c94ffa986712e0af10404f": {
      "model_module": "@jupyter-widgets/base",
      "model_module_version": "1.2.0",
      "model_name": "LayoutModel",
      "state": {}
     },
     "c935388b5de44a8a9cca744497c4d1dd": {
      "model_module": "@jupyter-widgets/controls",
      "model_module_version": "1.5.0",
      "model_name": "HTMLModel",
      "state": {
       "layout": "IPY_MODEL_d9f9ddfb08ff48c1b05b6233a1b967fa",
       "style": "IPY_MODEL_5a448718dd134fcc923ebb138f24949b",
       "value": " 0/14732 [00:00&lt;?, ? examples/s]"
      }
     },
     "d9f9ddfb08ff48c1b05b6233a1b967fa": {
      "model_module": "@jupyter-widgets/base",
      "model_module_version": "1.2.0",
      "model_name": "LayoutModel",
      "state": {}
     },
     "f46af6d0c8304463b58e6655c69a32f1": {
      "model_module": "@jupyter-widgets/controls",
      "model_module_version": "1.5.0",
      "model_name": "ProgressStyleModel",
      "state": {
       "description_width": ""
      }
     }
    },
    "version_major": 2,
    "version_minor": 0
   }
  }
 },
 "nbformat": 4,
 "nbformat_minor": 5
}
