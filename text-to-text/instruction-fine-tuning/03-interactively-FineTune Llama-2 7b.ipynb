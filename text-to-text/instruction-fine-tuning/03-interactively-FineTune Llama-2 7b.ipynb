{
 "cells": [
  {
   "cell_type": "markdown",
   "id": "4ac0cb3b-bd08-4bc7-b843-db223455778d",
   "metadata": {
    "tags": []
   },
   "source": [
    "# Install Dependencies"
   ]
  },
  {
   "cell_type": "code",
   "execution_count": 2,
   "id": "9d34128e-4d16-48c7-bd80-daa5e11b5cae",
   "metadata": {
    "tags": []
   },
   "outputs": [
    {
     "name": "stdout",
     "output_type": "stream",
     "text": [
      "\u001b[33mWARNING: Running pip as the 'root' user can result in broken permissions and conflicting behaviour with the system package manager. It is recommended to use a virtual environment instead: https://pip.pypa.io/warnings/venv\u001b[0m\u001b[33m\n",
      "\u001b[0m\n",
      "\u001b[1m[\u001b[0m\u001b[34;49mnotice\u001b[0m\u001b[1;39;49m]\u001b[0m\u001b[39;49m A new release of pip is available: \u001b[0m\u001b[31;49m23.1.2\u001b[0m\u001b[39;49m -> \u001b[0m\u001b[32;49m23.2.1\u001b[0m\n",
      "\u001b[1m[\u001b[0m\u001b[34;49mnotice\u001b[0m\u001b[1;39;49m]\u001b[0m\u001b[39;49m To update, run: \u001b[0m\u001b[32;49mpip install --upgrade pip\u001b[0m\n"
     ]
    }
   ],
   "source": [
    "!pip install -q accelerate==0.21.0 peft==0.4.0 bitsandbytes==0.40.2 transformers==4.31.0 trl==0.4.7"
   ]
  },
  {
   "cell_type": "markdown",
   "id": "37d49bb7-cb01-4138-91c1-403b7324cdb4",
   "metadata": {},
   "source": [
    "# GPU Check\n",
    "* If the first number is not close to 0 MiB : kill the kernel\n",
    "* eg. 12369MiB / 15109MiB : this is a lot of memory already used up, one cannot run the notebook, with the little memory thats left"
   ]
  },
  {
   "cell_type": "code",
   "execution_count": 3,
   "id": "bc5227eb-1763-4561-a6ba-86870437a7e2",
   "metadata": {},
   "outputs": [
    {
     "name": "stdout",
     "output_type": "stream",
     "text": [
      "Tue Sep 26 16:18:32 2023       \n",
      "+-----------------------------------------------------------------------------+\n",
      "| NVIDIA-SMI 470.57.02    Driver Version: 470.57.02    CUDA Version: 11.8     |\n",
      "|-------------------------------+----------------------+----------------------+\n",
      "| GPU  Name        Persistence-M| Bus-Id        Disp.A | Volatile Uncorr. ECC |\n",
      "| Fan  Temp  Perf  Pwr:Usage/Cap|         Memory-Usage | GPU-Util  Compute M. |\n",
      "|                               |                      |               MIG M. |\n",
      "|===============================+======================+======================|\n",
      "|   0  Tesla T4            Off  | 00000000:00:1E.0 Off |                    0 |\n",
      "| N/A   35C    P0    26W /  70W |      0MiB / 15109MiB |      0%      Default |\n",
      "|                               |                      |                  N/A |\n",
      "+-------------------------------+----------------------+----------------------+\n",
      "                                                                               \n",
      "+-----------------------------------------------------------------------------+\n",
      "| Processes:                                                                  |\n",
      "|  GPU   GI   CI        PID   Type   Process name                  GPU Memory |\n",
      "|        ID   ID                                                   Usage      |\n",
      "|=============================================================================|\n",
      "|  No running processes found                                                 |\n",
      "+-----------------------------------------------------------------------------+\n"
     ]
    }
   ],
   "source": [
    "!nvidia-smi"
   ]
  },
  {
   "cell_type": "code",
   "execution_count": 4,
   "id": "8b8b68cf-141f-4817-a81a-1fa1c7fe1167",
   "metadata": {
    "tags": []
   },
   "outputs": [
    {
     "name": "stderr",
     "output_type": "stream",
     "text": [
      "/opt/conda/lib/python3.10/site-packages/tqdm/auto.py:21: TqdmWarning: IProgress not found. Please update jupyter and ipywidgets. See https://ipywidgets.readthedocs.io/en/stable/user_install.html\n",
      "  from .autonotebook import tqdm as notebook_tqdm\n"
     ]
    }
   ],
   "source": [
    "import os\n",
    "import torch\n",
    "from datasets import load_dataset\n",
    "from transformers import (\n",
    "    AutoModelForCausalLM,\n",
    "    AutoTokenizer,\n",
    "    BitsAndBytesConfig,\n",
    "    HfArgumentParser,\n",
    "    TrainingArguments,\n",
    "    pipeline,\n",
    "    logging,\n",
    ")\n",
    "from peft import LoraConfig, PeftModel\n",
    "from trl import SFTTrainer"
   ]
  },
  {
   "cell_type": "code",
   "execution_count": 5,
   "id": "c7106ff3-6721-449f-aa27-0790d7e9ced7",
   "metadata": {},
   "outputs": [],
   "source": [
    "# Base Model to use\n",
    "model_name = \"NousResearch/llama-2-7b-chat-hf\"\n",
    "\n",
    "# Instruction dataset : or your own\n",
    "dataset_name = \"mlabonne/guanaco-llama2-1k\"\n",
    "\n",
    "# Fine-tuned model name\n",
    "new_model = \"llama-2-7b-peft-finetuned-guanaco-llama2-1k\""
   ]
  },
  {
   "cell_type": "markdown",
   "id": "bbd095e2-91fd-4cce-b6d1-444cc4c261eb",
   "metadata": {},
   "source": [
    "## QLoRA parameters"
   ]
  },
  {
   "cell_type": "code",
   "execution_count": 6,
   "id": "733e71ce-be5c-4c6c-848d-01ec50490f58",
   "metadata": {
    "tags": []
   },
   "outputs": [],
   "source": [
    "# LoRA attention dimension:  rank of the update matrices : smaler => faster & fewer params to train\n",
    "lora_r = 64\n",
    "\n",
    "# Alpha parameter for LoRA scaling: The weight matrix is scaled by lora_alpha/lora_r\n",
    "lora_alpha = 16\n",
    "\n",
    "# Dropout probability for LoRA layers\n",
    "lora_dropout = 0.1"
   ]
  },
  {
   "cell_type": "markdown",
   "id": "c7432f7e-8747-4074-8372-26a95fbb6380",
   "metadata": {},
   "source": [
    "### bitsandbytes parameters"
   ]
  },
  {
   "cell_type": "code",
   "execution_count": 7,
   "id": "83f5c7a3-5755-4b81-b76b-b47895dc5122",
   "metadata": {},
   "outputs": [],
   "source": [
    "# Activate 4-bit precision base model loading\n",
    "use_4bit = True\n",
    "\n",
    "# Compute dtype for 4-bit base models\n",
    "bnb_4bit_compute_dtype = \"float16\"\n",
    "\n",
    "# Quantization type (fp4 or nf4)\n",
    "bnb_4bit_quant_type = \"nf4\"\n",
    "\n",
    "# Activate nested quantization for 4-bit base models (double quantization)\n",
    "use_nested_quant = False\n"
   ]
  },
  {
   "cell_type": "markdown",
   "id": "702e3a13-733d-471e-9f99-580c2bec80b8",
   "metadata": {},
   "source": [
    "### TrainingArguments parameters"
   ]
  },
  {
   "cell_type": "code",
   "execution_count": 8,
   "id": "9b5d9469-b604-472e-a5c6-b186a3cd5db1",
   "metadata": {},
   "outputs": [],
   "source": [
    "# Output dir for model predictions and checkpoints \n",
    "output_dir = \"./results\"\n",
    "\n",
    "# Number of training epochs, shoudl be adjsuted for max convergence\n",
    "num_train_epochs = 1\n",
    "\n",
    "# Enable fp16/bf16 training (set bf16 to True with an A100)\n",
    "fp16 = False\n",
    "bf16 = False\n",
    "\n",
    "# Batch size BS\n",
    "per_device_train_batch_size = 4\n",
    "per_device_eval_batch_size = 4\n",
    "\n",
    "# Number of update steps to accumulate the gradients \n",
    "# multiple small batches before performing a weight update\n",
    "# done when the BS that fits in the memory is small\n",
    "gradient_accumulation_steps = 1\n",
    "gradient_checkpointing = True \n",
    "# Enable gradient checkpointing : technique to reduce memory usage by clearing activations of certain layers \n",
    "# & recomputing them during a backward pass; trades extra computation time for reduced memory usage\n",
    "\n",
    "\n",
    "max_grad_norm = 0.3 # Maximum gradient normal for gradient clipping\n",
    "\n",
    "learning_rate = 2e-4 # Initial LR (AdamW optimizer)\n",
    "weight_decay = 0.001 # Weight decay to apply to all layers except bias/LayerNorm weights\n",
    "\n",
    "optim = \"paged_adamw_32bit\" # The optimizer to use\n",
    "lr_scheduler_type = \"constant\" # LR schedule (EMpericaly constant a bit better than cosine: try variations though)\n",
    "\n",
    "\n",
    "max_steps = -1 # Number of training steps (if set: overrides num_train_epochs)\n",
    "warmup_ratio = 0.03 # rampup from 0 to LR vs LR to min\n",
    "\n",
    "# Group sequences into batches with same length\n",
    "# Saves memory and speeds up training considerably\n",
    "group_by_length = True\n",
    "save_steps = 25 # checkpointing\n",
    "logging_steps = 25\n"
   ]
  },
  {
   "cell_type": "markdown",
   "id": "a16a9796-79e3-41bf-966f-ed4940636a9a",
   "metadata": {},
   "source": [
    "### SFT parameters"
   ]
  },
  {
   "cell_type": "code",
   "execution_count": 9,
   "id": "4ea8b7b0-4461-4bf1-b3d0-3895a7eaa9c2",
   "metadata": {},
   "outputs": [],
   "source": [
    "# Maximum sequence length to use\n",
    "max_seq_length = None\n",
    "\n",
    "# Pack multiple short examples in the same input sequence to increase efficiency\n",
    "packing = False\n",
    "\n",
    "# Load the entire model on the GPU 0\n",
    "device_map = {\"\": 0}"
   ]
  },
  {
   "cell_type": "markdown",
   "id": "2f0b7ced-18b9-43a8-b2fe-3fe0ad9f77e6",
   "metadata": {},
   "source": [
    "## Load dataset \n",
    "any additional preprocessing steps go here.."
   ]
  },
  {
   "cell_type": "code",
   "execution_count": 10,
   "id": "29d544ad-ad64-4e78-82cf-75ebd6d9daaa",
   "metadata": {},
   "outputs": [
    {
     "name": "stderr",
     "output_type": "stream",
     "text": [
      "Downloading readme: 100%|██████████| 1.02k/1.02k [00:00<00:00, 1.50MB/s]\n",
      "Downloading data files:   0%|          | 0/1 [00:00<?, ?it/s]\n",
      "Downloading data: 100%|██████████| 967k/967k [00:00<00:00, 12.1MB/s]\n",
      "Downloading data files: 100%|██████████| 1/1 [00:00<00:00,  8.42it/s]\n",
      "Extracting data files: 100%|██████████| 1/1 [00:00<00:00, 49.65it/s]\n",
      "Generating train split: 100%|██████████| 1000/1000 [00:00<00:00, 19684.91 examples/s]\n"
     ]
    }
   ],
   "source": [
    "dataset = load_dataset(dataset_name, split=\"train\")"
   ]
  },
  {
   "cell_type": "code",
   "execution_count": 11,
   "id": "3abbc4bf-fe18-4aad-afc4-69676721f337",
   "metadata": {},
   "outputs": [],
   "source": [
    "# Load tokenizer and model with QLoRA configuration\n",
    "compute_dtype = getattr(torch, bnb_4bit_compute_dtype)\n",
    "\n",
    "bnb_config = BitsAndBytesConfig(\n",
    "    load_in_4bit=use_4bit,\n",
    "    bnb_4bit_quant_type=bnb_4bit_quant_type,\n",
    "    bnb_4bit_compute_dtype=compute_dtype,\n",
    "    bnb_4bit_use_double_quant=use_nested_quant,\n",
    ")"
   ]
  },
  {
   "cell_type": "markdown",
   "id": "a564f107-cf72-4d43-8e29-9603e10b0e06",
   "metadata": {},
   "source": [
    "### Check GPU compatibility with bfloat16"
   ]
  },
  {
   "cell_type": "code",
   "execution_count": 12,
   "id": "19ea672c-76b2-44d3-a3f6-5e6620e96e1c",
   "metadata": {},
   "outputs": [],
   "source": [
    "if compute_dtype == torch.float16 and use_4bit:\n",
    "    major, _ = torch.cuda.get_device_capability()\n",
    "    if major >= 8:\n",
    "        print(\"=\" * 80)\n",
    "        print(\"Your GPU supports bfloat16: accelerate training with bf16=True\")\n",
    "        print(\"=\" * 80)"
   ]
  },
  {
   "cell_type": "markdown",
   "id": "aaeb2318-8eb9-4974-9d9c-7ebd7d232622",
   "metadata": {},
   "source": [
    "### Load base model"
   ]
  },
  {
   "cell_type": "code",
   "execution_count": 13,
   "id": "d2816b54-1125-4efc-adb8-96744c48c55d",
   "metadata": {
    "collapsed": true,
    "jupyter": {
     "outputs_hidden": true
    },
    "tags": []
   },
   "outputs": [
    {
     "name": "stderr",
     "output_type": "stream",
     "text": [
      "Downloading (…)lve/main/config.json: 100%|██████████| 583/583 [00:00<00:00, 3.62MB/s]\n",
      "Downloading (…)fetensors.index.json: 100%|██████████| 26.8k/26.8k [00:00<00:00, 58.1MB/s]\n",
      "Downloading shards:   0%|          | 0/2 [00:00<?, ?it/s]\n",
      "Downloading (…)of-00002.safetensors:   0%|          | 0.00/9.98G [00:00<?, ?B/s]\u001b[A\n",
      "Downloading (…)of-00002.safetensors:   0%|          | 41.9M/9.98G [00:00<00:25, 384MB/s]\u001b[A\n",
      "Downloading (…)of-00002.safetensors:   1%|          | 83.9M/9.98G [00:00<00:25, 386MB/s]\u001b[A\n",
      "Downloading (…)of-00002.safetensors:   1%|▏         | 126M/9.98G [00:00<00:26, 375MB/s] \u001b[A\n",
      "Downloading (…)of-00002.safetensors:   2%|▏         | 168M/9.98G [00:00<00:26, 368MB/s]\u001b[A\n",
      "Downloading (…)of-00002.safetensors:   2%|▏         | 210M/9.98G [00:00<00:26, 369MB/s]\u001b[A\n",
      "Downloading (…)of-00002.safetensors:   3%|▎         | 262M/9.98G [00:00<00:25, 381MB/s]\u001b[A\n",
      "Downloading (…)of-00002.safetensors:   3%|▎         | 304M/9.98G [00:00<00:25, 375MB/s]\u001b[A\n",
      "Downloading (…)of-00002.safetensors:   3%|▎         | 346M/9.98G [00:00<00:25, 375MB/s]\u001b[A\n",
      "Downloading (…)of-00002.safetensors:   4%|▍         | 388M/9.98G [00:01<00:25, 379MB/s]\u001b[A\n",
      "Downloading (…)of-00002.safetensors:   4%|▍         | 430M/9.98G [00:01<00:25, 372MB/s]\u001b[A\n",
      "Downloading (…)of-00002.safetensors:   5%|▍         | 472M/9.98G [00:01<00:25, 368MB/s]\u001b[A\n",
      "Downloading (…)of-00002.safetensors:   5%|▌         | 514M/9.98G [00:01<00:26, 358MB/s]\u001b[A\n",
      "Downloading (…)of-00002.safetensors:   6%|▌         | 556M/9.98G [00:01<00:26, 356MB/s]\u001b[A\n",
      "Downloading (…)of-00002.safetensors:   6%|▌         | 598M/9.98G [00:01<00:25, 371MB/s]\u001b[A\n",
      "Downloading (…)of-00002.safetensors:   6%|▋         | 640M/9.98G [00:01<00:25, 371MB/s]\u001b[A\n",
      "Downloading (…)of-00002.safetensors:   7%|▋         | 682M/9.98G [00:01<00:24, 373MB/s]\u001b[A\n",
      "Downloading (…)of-00002.safetensors:   7%|▋         | 724M/9.98G [00:01<00:25, 358MB/s]\u001b[A\n",
      "Downloading (…)of-00002.safetensors:   8%|▊         | 765M/9.98G [00:02<00:26, 352MB/s]\u001b[A\n",
      "Downloading (…)of-00002.safetensors:   8%|▊         | 807M/9.98G [00:02<00:25, 354MB/s]\u001b[A\n",
      "Downloading (…)of-00002.safetensors:   9%|▊         | 849M/9.98G [00:02<00:26, 349MB/s]\u001b[A\n",
      "Downloading (…)of-00002.safetensors:   9%|▉         | 891M/9.98G [00:02<00:25, 354MB/s]\u001b[A\n",
      "Downloading (…)of-00002.safetensors:   9%|▉         | 933M/9.98G [00:02<00:27, 331MB/s]\u001b[A\n",
      "Downloading (…)of-00002.safetensors:  10%|▉         | 975M/9.98G [00:02<00:26, 341MB/s]\u001b[A\n",
      "Downloading (…)of-00002.safetensors:  10%|█         | 1.02G/9.98G [00:02<00:26, 337MB/s]\u001b[A\n",
      "Downloading (…)of-00002.safetensors:  11%|█         | 1.06G/9.98G [00:02<00:26, 334MB/s]\u001b[A\n",
      "Downloading (…)of-00002.safetensors:  11%|█         | 1.10G/9.98G [00:03<00:26, 333MB/s]\u001b[A\n",
      "Downloading (…)of-00002.safetensors:  11%|█▏        | 1.14G/9.98G [00:03<00:26, 329MB/s]\u001b[A\n",
      "Downloading (…)of-00002.safetensors:  12%|█▏        | 1.18G/9.98G [00:03<00:25, 339MB/s]\u001b[A\n",
      "Downloading (…)of-00002.safetensors:  12%|█▏        | 1.23G/9.98G [00:03<00:25, 338MB/s]\u001b[A\n",
      "Downloading (…)of-00002.safetensors:  13%|█▎        | 1.27G/9.98G [00:03<00:26, 333MB/s]\u001b[A\n",
      "Downloading (…)of-00002.safetensors:  13%|█▎        | 1.31G/9.98G [00:03<00:25, 339MB/s]\u001b[A\n",
      "Downloading (…)of-00002.safetensors:  14%|█▎        | 1.35G/9.98G [00:03<00:25, 341MB/s]\u001b[A\n",
      "Downloading (…)of-00002.safetensors:  14%|█▍        | 1.39G/9.98G [00:03<00:25, 337MB/s]\u001b[A\n",
      "Downloading (…)of-00002.safetensors:  14%|█▍        | 1.44G/9.98G [00:04<00:24, 342MB/s]\u001b[A\n",
      "Downloading (…)of-00002.safetensors:  15%|█▍        | 1.48G/9.98G [00:04<00:24, 352MB/s]\u001b[A\n",
      "Downloading (…)of-00002.safetensors:  15%|█▌        | 1.52G/9.98G [00:04<00:24, 342MB/s]\u001b[A\n",
      "Downloading (…)of-00002.safetensors:  16%|█▌        | 1.56G/9.98G [00:04<00:23, 355MB/s]\u001b[A\n",
      "Downloading (…)of-00002.safetensors:  16%|█▌        | 1.60G/9.98G [00:04<00:24, 340MB/s]\u001b[A\n",
      "Downloading (…)of-00002.safetensors:  17%|█▋        | 1.65G/9.98G [00:04<00:24, 342MB/s]\u001b[A\n",
      "Downloading (…)of-00002.safetensors:  17%|█▋        | 1.69G/9.98G [00:04<00:24, 337MB/s]\u001b[A\n",
      "Downloading (…)of-00002.safetensors:  17%|█▋        | 1.73G/9.98G [00:04<00:24, 342MB/s]\u001b[A\n",
      "Downloading (…)of-00002.safetensors:  18%|█▊        | 1.77G/9.98G [00:05<00:24, 335MB/s]\u001b[A\n",
      "Downloading (…)of-00002.safetensors:  18%|█▊        | 1.81G/9.98G [00:05<00:23, 347MB/s]\u001b[A\n",
      "Downloading (…)of-00002.safetensors:  19%|█▊        | 1.86G/9.98G [00:05<00:23, 342MB/s]\u001b[A\n",
      "Downloading (…)of-00002.safetensors:  19%|█▉        | 1.90G/9.98G [00:05<00:23, 350MB/s]\u001b[A\n",
      "Downloading (…)of-00002.safetensors:  19%|█▉        | 1.94G/9.98G [00:05<00:22, 359MB/s]\u001b[A\n",
      "Downloading (…)of-00002.safetensors:  20%|█▉        | 1.98G/9.98G [00:05<00:23, 348MB/s]\u001b[A\n",
      "Downloading (…)of-00002.safetensors:  20%|██        | 2.02G/9.98G [00:05<00:22, 357MB/s]\u001b[A\n",
      "Downloading (…)of-00002.safetensors:  21%|██        | 2.07G/9.98G [00:05<00:21, 367MB/s]\u001b[A\n",
      "Downloading (…)of-00002.safetensors:  21%|██        | 2.11G/9.98G [00:05<00:22, 348MB/s]\u001b[A\n",
      "Downloading (…)of-00002.safetensors:  22%|██▏       | 2.15G/9.98G [00:06<00:22, 355MB/s]\u001b[A\n",
      "Downloading (…)of-00002.safetensors:  22%|██▏       | 2.19G/9.98G [00:06<00:21, 358MB/s]\u001b[A\n",
      "Downloading (…)of-00002.safetensors:  22%|██▏       | 2.23G/9.98G [00:06<00:22, 345MB/s]\u001b[A\n",
      "Downloading (…)of-00002.safetensors:  23%|██▎       | 2.28G/9.98G [00:06<00:21, 361MB/s]\u001b[A\n",
      "Downloading (…)of-00002.safetensors:  23%|██▎       | 2.32G/9.98G [00:06<00:22, 339MB/s]\u001b[A\n",
      "Downloading (…)of-00002.safetensors:  24%|██▎       | 2.36G/9.98G [00:06<00:22, 340MB/s]\u001b[A\n",
      "Downloading (…)of-00002.safetensors:  24%|██▍       | 2.40G/9.98G [00:06<00:22, 332MB/s]\u001b[A\n",
      "Downloading (…)of-00002.safetensors:  24%|██▍       | 2.44G/9.98G [00:06<00:22, 338MB/s]\u001b[A\n",
      "Downloading (…)of-00002.safetensors:  25%|██▍       | 2.49G/9.98G [00:07<00:21, 355MB/s]\u001b[A\n",
      "Downloading (…)of-00002.safetensors:  25%|██▌       | 2.53G/9.98G [00:07<00:21, 351MB/s]\u001b[A\n",
      "Downloading (…)of-00002.safetensors:  26%|██▌       | 2.57G/9.98G [00:07<00:20, 355MB/s]\u001b[A\n",
      "Downloading (…)of-00002.safetensors:  26%|██▌       | 2.61G/9.98G [00:07<00:21, 343MB/s]\u001b[A\n",
      "Downloading (…)of-00002.safetensors:  27%|██▋       | 2.65G/9.98G [00:07<00:21, 341MB/s]\u001b[A\n",
      "Downloading (…)of-00002.safetensors:  27%|██▋       | 2.69G/9.98G [00:07<00:21, 341MB/s]\u001b[A\n",
      "Downloading (…)of-00002.safetensors:  27%|██▋       | 2.74G/9.98G [00:07<00:21, 332MB/s]\u001b[A\n",
      "Downloading (…)of-00002.safetensors:  28%|██▊       | 2.78G/9.98G [00:07<00:21, 337MB/s]\u001b[A\n",
      "Downloading (…)of-00002.safetensors:  28%|██▊       | 2.82G/9.98G [00:08<00:21, 336MB/s]\u001b[A\n",
      "Downloading (…)of-00002.safetensors:  29%|██▊       | 2.86G/9.98G [00:08<00:21, 337MB/s]\u001b[A\n",
      "Downloading (…)of-00002.safetensors:  29%|██▉       | 2.90G/9.98G [00:08<00:20, 345MB/s]\u001b[A\n",
      "Downloading (…)of-00002.safetensors:  30%|██▉       | 2.95G/9.98G [00:08<00:21, 322MB/s]\u001b[A\n",
      "Downloading (…)of-00002.safetensors:  30%|██▉       | 2.99G/9.98G [00:08<00:20, 333MB/s]\u001b[A\n",
      "Downloading (…)of-00002.safetensors:  30%|███       | 3.03G/9.98G [00:08<00:21, 328MB/s]\u001b[A\n",
      "Downloading (…)of-00002.safetensors:  31%|███       | 3.07G/9.98G [00:08<00:20, 341MB/s]\u001b[A\n",
      "Downloading (…)of-00002.safetensors:  31%|███       | 3.11G/9.98G [00:08<00:20, 336MB/s]\u001b[A\n",
      "Downloading (…)of-00002.safetensors:  32%|███▏      | 3.16G/9.98G [00:09<00:20, 336MB/s]\u001b[A\n",
      "Downloading (…)of-00002.safetensors:  32%|███▏      | 3.20G/9.98G [00:09<00:29, 231MB/s]\u001b[A\n",
      "Downloading (…)of-00002.safetensors:  32%|███▏      | 3.24G/9.98G [00:09<00:26, 252MB/s]\u001b[A\n",
      "Downloading (…)of-00002.safetensors:  33%|███▎      | 3.28G/9.98G [00:09<00:23, 279MB/s]\u001b[A\n",
      "Downloading (…)of-00002.safetensors:  33%|███▎      | 3.31G/9.98G [00:09<00:23, 287MB/s]\u001b[A\n",
      "Downloading (…)of-00002.safetensors:  34%|███▎      | 3.36G/9.98G [00:09<00:21, 313MB/s]\u001b[A\n",
      "Downloading (…)of-00002.safetensors:  34%|███▍      | 3.40G/9.98G [00:09<00:20, 321MB/s]\u001b[A\n",
      "Downloading (…)of-00002.safetensors:  34%|███▍      | 3.44G/9.98G [00:10<00:19, 342MB/s]\u001b[A\n",
      "Downloading (…)of-00002.safetensors:  35%|███▍      | 3.48G/9.98G [00:10<00:20, 323MB/s]\u001b[A\n",
      "Downloading (…)of-00002.safetensors:  35%|███▌      | 3.52G/9.98G [00:10<00:18, 343MB/s]\u001b[A\n",
      "Downloading (…)of-00002.safetensors:  36%|███▌      | 3.57G/9.98G [00:10<00:19, 325MB/s]\u001b[A\n",
      "Downloading (…)of-00002.safetensors:  36%|███▌      | 3.61G/9.98G [00:10<00:20, 305MB/s]\u001b[A\n",
      "Downloading (…)of-00002.safetensors:  37%|███▋      | 3.65G/9.98G [00:10<00:19, 318MB/s]\u001b[A\n",
      "Downloading (…)of-00002.safetensors:  37%|███▋      | 3.69G/9.98G [00:10<00:19, 316MB/s]\u001b[A\n",
      "Downloading (…)of-00002.safetensors:  37%|███▋      | 3.73G/9.98G [00:11<00:19, 319MB/s]\u001b[A\n",
      "Downloading (…)of-00002.safetensors:  38%|███▊      | 3.77G/9.98G [00:11<00:19, 314MB/s]\u001b[A\n",
      "Downloading (…)of-00002.safetensors:  38%|███▊      | 3.82G/9.98G [00:11<00:18, 326MB/s]\u001b[A\n",
      "Downloading (…)of-00002.safetensors:  39%|███▊      | 3.86G/9.98G [00:11<00:21, 281MB/s]\u001b[A\n",
      "Downloading (…)of-00002.safetensors:  39%|███▉      | 3.89G/9.98G [00:11<00:21, 280MB/s]\u001b[A\n",
      "Downloading (…)of-00002.safetensors:  39%|███▉      | 3.93G/9.98G [00:11<00:19, 305MB/s]\u001b[A\n",
      "Downloading (…)of-00002.safetensors:  40%|███▉      | 3.97G/9.98G [00:11<00:19, 308MB/s]\u001b[A\n",
      "Downloading (…)of-00002.safetensors:  40%|████      | 4.02G/9.98G [00:11<00:18, 322MB/s]\u001b[A\n",
      "Downloading (…)of-00002.safetensors:  41%|████      | 4.06G/9.98G [00:12<00:18, 324MB/s]\u001b[A\n",
      "Downloading (…)of-00002.safetensors:  41%|████      | 4.10G/9.98G [00:12<00:17, 335MB/s]\u001b[A\n",
      "Downloading (…)of-00002.safetensors:  42%|████▏     | 4.14G/9.98G [00:12<00:17, 333MB/s]\u001b[A\n",
      "Downloading (…)of-00002.safetensors:  42%|████▏     | 4.18G/9.98G [00:12<00:17, 332MB/s]\u001b[A\n",
      "Downloading (…)of-00002.safetensors:  42%|████▏     | 4.23G/9.98G [00:12<00:17, 338MB/s]\u001b[A\n",
      "Downloading (…)of-00002.safetensors:  43%|████▎     | 4.27G/9.98G [00:12<00:16, 352MB/s]\u001b[A\n",
      "Downloading (…)of-00002.safetensors:  43%|████▎     | 4.31G/9.98G [00:12<00:16, 346MB/s]\u001b[A\n",
      "Downloading (…)of-00002.safetensors:  44%|████▎     | 4.35G/9.98G [00:12<00:16, 349MB/s]\u001b[A\n",
      "Downloading (…)of-00002.safetensors:  44%|████▍     | 4.39G/9.98G [00:13<00:15, 358MB/s]\u001b[A\n",
      "Downloading (…)of-00002.safetensors:  44%|████▍     | 4.44G/9.98G [00:13<00:14, 369MB/s]\u001b[A\n",
      "Downloading (…)of-00002.safetensors:  45%|████▍     | 4.48G/9.98G [00:13<00:15, 360MB/s]\u001b[A\n",
      "Downloading (…)of-00002.safetensors:  45%|████▌     | 4.52G/9.98G [00:13<00:14, 365MB/s]\u001b[A\n",
      "Downloading (…)of-00002.safetensors:  46%|████▌     | 4.56G/9.98G [00:13<00:14, 366MB/s]\u001b[A\n",
      "Downloading (…)of-00002.safetensors:  46%|████▌     | 4.60G/9.98G [00:13<00:14, 368MB/s]\u001b[A\n",
      "Downloading (…)of-00002.safetensors:  47%|████▋     | 4.65G/9.98G [00:13<00:14, 367MB/s]\u001b[A\n",
      "Downloading (…)of-00002.safetensors:  47%|████▋     | 4.69G/9.98G [00:13<00:14, 374MB/s]\u001b[A\n",
      "Downloading (…)of-00002.safetensors:  47%|████▋     | 4.73G/9.98G [00:13<00:13, 375MB/s]\u001b[A\n",
      "Downloading (…)of-00002.safetensors:  48%|████▊     | 4.77G/9.98G [00:14<00:14, 364MB/s]\u001b[A\n",
      "Downloading (…)of-00002.safetensors:  48%|████▊     | 4.81G/9.98G [00:14<00:14, 364MB/s]\u001b[A\n",
      "Downloading (…)of-00002.safetensors:  49%|████▊     | 4.85G/9.98G [00:14<00:14, 350MB/s]\u001b[A\n",
      "Downloading (…)of-00002.safetensors:  49%|████▉     | 4.90G/9.98G [00:14<00:14, 352MB/s]\u001b[A\n",
      "Downloading (…)of-00002.safetensors:  50%|████▉     | 4.94G/9.98G [00:14<00:13, 363MB/s]\u001b[A\n",
      "Downloading (…)of-00002.safetensors:  50%|████▉     | 4.98G/9.98G [00:14<00:13, 373MB/s]\u001b[A\n",
      "Downloading (…)of-00002.safetensors:  50%|█████     | 5.02G/9.98G [00:14<00:13, 367MB/s]\u001b[A\n",
      "Downloading (…)of-00002.safetensors:  51%|█████     | 5.06G/9.98G [00:14<00:13, 368MB/s]\u001b[A\n",
      "Downloading (…)of-00002.safetensors:  51%|█████     | 5.11G/9.98G [00:14<00:13, 364MB/s]\u001b[A\n",
      "Downloading (…)of-00002.safetensors:  52%|█████▏    | 5.15G/9.98G [00:15<00:13, 369MB/s]\u001b[A\n",
      "Downloading (…)of-00002.safetensors:  52%|█████▏    | 5.19G/9.98G [00:15<00:13, 365MB/s]\u001b[A\n",
      "Downloading (…)of-00002.safetensors:  52%|█████▏    | 5.23G/9.98G [00:15<00:12, 369MB/s]\u001b[A\n",
      "Downloading (…)of-00002.safetensors:  53%|█████▎    | 5.27G/9.98G [00:15<00:12, 366MB/s]\u001b[A\n",
      "Downloading (…)of-00002.safetensors:  53%|█████▎    | 5.32G/9.98G [00:15<00:12, 363MB/s]\u001b[A\n",
      "Downloading (…)of-00002.safetensors:  54%|█████▎    | 5.36G/9.98G [00:15<00:12, 361MB/s]\u001b[A\n",
      "Downloading (…)of-00002.safetensors:  54%|█████▍    | 5.40G/9.98G [00:15<00:12, 362MB/s]\u001b[A\n",
      "Downloading (…)of-00002.safetensors:  55%|█████▍    | 5.44G/9.98G [00:15<00:12, 367MB/s]\u001b[A\n",
      "Downloading (…)of-00002.safetensors:  55%|█████▍    | 5.48G/9.98G [00:15<00:12, 370MB/s]\u001b[A\n",
      "Downloading (…)of-00002.safetensors:  55%|█████▌    | 5.53G/9.98G [00:16<00:12, 368MB/s]\u001b[A\n",
      "Downloading (…)of-00002.safetensors:  56%|█████▌    | 5.57G/9.98G [00:16<00:11, 369MB/s]\u001b[A\n",
      "Downloading (…)of-00002.safetensors:  56%|█████▌    | 5.61G/9.98G [00:16<00:12, 360MB/s]\u001b[A\n",
      "Downloading (…)of-00002.safetensors:  57%|█████▋    | 5.65G/9.98G [00:16<00:11, 367MB/s]\u001b[A\n",
      "Downloading (…)of-00002.safetensors:  57%|█████▋    | 5.69G/9.98G [00:16<00:12, 356MB/s]\u001b[A\n",
      "Downloading (…)of-00002.safetensors:  57%|█████▋    | 5.74G/9.98G [00:16<00:12, 350MB/s]\u001b[A\n",
      "Downloading (…)of-00002.safetensors:  58%|█████▊    | 5.78G/9.98G [00:16<00:11, 350MB/s]\u001b[A\n",
      "Downloading (…)of-00002.safetensors:  58%|█████▊    | 5.82G/9.98G [00:16<00:11, 353MB/s]\u001b[A\n",
      "Downloading (…)of-00002.safetensors:  59%|█████▉    | 5.86G/9.98G [00:17<00:11, 353MB/s]\u001b[A\n",
      "Downloading (…)of-00002.safetensors:  59%|█████▉    | 5.90G/9.98G [00:17<00:11, 357MB/s]\u001b[A\n",
      "Downloading (…)of-00002.safetensors:  60%|█████▉    | 5.95G/9.98G [00:17<00:11, 358MB/s]\u001b[A\n",
      "Downloading (…)of-00002.safetensors:  60%|██████    | 5.99G/9.98G [00:17<00:10, 366MB/s]\u001b[A\n",
      "Downloading (…)of-00002.safetensors:  60%|██████    | 6.03G/9.98G [00:17<00:10, 360MB/s]\u001b[A\n",
      "Downloading (…)of-00002.safetensors:  61%|██████    | 6.07G/9.98G [00:17<00:11, 343MB/s]\u001b[A\n",
      "Downloading (…)of-00002.safetensors:  61%|██████▏   | 6.11G/9.98G [00:17<00:10, 352MB/s]\u001b[A\n",
      "Downloading (…)of-00002.safetensors:  62%|██████▏   | 6.16G/9.98G [00:17<00:11, 340MB/s]\u001b[A\n",
      "Downloading (…)of-00002.safetensors:  62%|██████▏   | 6.20G/9.98G [00:18<00:10, 349MB/s]\u001b[A\n",
      "Downloading (…)of-00002.safetensors:  63%|██████▎   | 6.24G/9.98G [00:18<00:10, 343MB/s]\u001b[A\n",
      "Downloading (…)of-00002.safetensors:  63%|██████▎   | 6.28G/9.98G [00:18<00:10, 339MB/s]\u001b[A\n",
      "Downloading (…)of-00002.safetensors:  63%|██████▎   | 6.32G/9.98G [00:18<00:10, 345MB/s]\u001b[A\n",
      "Downloading (…)of-00002.safetensors:  64%|██████▍   | 6.36G/9.98G [00:18<00:10, 344MB/s]\u001b[A\n",
      "Downloading (…)of-00002.safetensors:  64%|██████▍   | 6.41G/9.98G [00:18<00:10, 325MB/s]\u001b[A\n",
      "Downloading (…)of-00002.safetensors:  65%|██████▍   | 6.45G/9.98G [00:18<00:10, 331MB/s]\u001b[A\n",
      "Downloading (…)of-00002.safetensors:  65%|██████▌   | 6.49G/9.98G [00:18<00:10, 326MB/s]\u001b[A\n",
      "Downloading (…)of-00002.safetensors:  65%|██████▌   | 6.53G/9.98G [00:19<00:10, 331MB/s]\u001b[A\n",
      "Downloading (…)of-00002.safetensors:  66%|██████▌   | 6.57G/9.98G [00:19<00:10, 316MB/s]\u001b[A\n",
      "Downloading (…)of-00002.safetensors:  66%|██████▋   | 6.62G/9.98G [00:19<00:10, 323MB/s]\u001b[A\n",
      "Downloading (…)of-00002.safetensors:  67%|██████▋   | 6.66G/9.98G [00:19<00:14, 225MB/s]\u001b[A\n",
      "Downloading (…)of-00002.safetensors:  67%|██████▋   | 6.69G/9.98G [00:19<00:13, 239MB/s]\u001b[A\n",
      "Downloading (…)of-00002.safetensors:  67%|██████▋   | 6.72G/9.98G [00:19<00:12, 254MB/s]\u001b[A\n",
      "Downloading (…)of-00002.safetensors:  68%|██████▊   | 6.75G/9.98G [00:19<00:12, 268MB/s]\u001b[A\n",
      "Downloading (…)of-00002.safetensors:  68%|██████▊   | 6.79G/9.98G [00:20<00:11, 284MB/s]\u001b[A\n",
      "Downloading (…)of-00002.safetensors:  68%|██████▊   | 6.83G/9.98G [00:20<00:11, 286MB/s]\u001b[A\n",
      "Downloading (…)of-00002.safetensors:  69%|██████▊   | 6.86G/9.98G [00:20<00:10, 288MB/s]\u001b[A\n",
      "Downloading (…)of-00002.safetensors:  69%|██████▉   | 6.89G/9.98G [00:20<00:10, 295MB/s]\u001b[A\n",
      "Downloading (…)of-00002.safetensors:  69%|██████▉   | 6.93G/9.98G [00:20<00:09, 312MB/s]\u001b[A\n",
      "Downloading (…)of-00002.safetensors:  70%|██████▉   | 6.97G/9.98G [00:20<00:10, 299MB/s]\u001b[A\n",
      "Downloading (…)of-00002.safetensors:  70%|███████   | 7.00G/9.98G [00:20<00:09, 302MB/s]\u001b[A\n",
      "Downloading (…)of-00002.safetensors:  71%|███████   | 7.04G/9.98G [00:20<00:09, 304MB/s]\u001b[A\n",
      "Downloading (…)of-00002.safetensors:  71%|███████   | 7.08G/9.98G [00:20<00:09, 313MB/s]\u001b[A\n",
      "Downloading (…)of-00002.safetensors:  71%|███████▏  | 7.12G/9.98G [00:21<00:09, 317MB/s]\u001b[A\n",
      "Downloading (…)of-00002.safetensors:  72%|███████▏  | 7.16G/9.98G [00:21<00:08, 318MB/s]\u001b[A\n",
      "Downloading (…)of-00002.safetensors:  72%|███████▏  | 7.20G/9.98G [00:21<00:08, 329MB/s]\u001b[A\n",
      "Downloading (…)of-00002.safetensors:  73%|███████▎  | 7.25G/9.98G [00:21<00:08, 318MB/s]\u001b[A\n",
      "Downloading (…)of-00002.safetensors:  73%|███████▎  | 7.29G/9.98G [00:21<00:09, 279MB/s]\u001b[A\n",
      "Downloading (…)of-00002.safetensors:  73%|███████▎  | 7.32G/9.98G [00:21<00:09, 276MB/s]\u001b[A\n",
      "Downloading (…)of-00002.safetensors:  74%|███████▎  | 7.35G/9.98G [00:21<00:09, 284MB/s]\u001b[A\n",
      "Downloading (…)of-00002.safetensors:  74%|███████▍  | 7.38G/9.98G [00:22<00:09, 281MB/s]\u001b[A\n",
      "Downloading (…)of-00002.safetensors:  74%|███████▍  | 7.41G/9.98G [00:22<00:08, 287MB/s]\u001b[A\n",
      "Downloading (…)of-00002.safetensors:  75%|███████▍  | 7.44G/9.98G [00:22<00:08, 285MB/s]\u001b[A\n",
      "Downloading (…)of-00002.safetensors:  75%|███████▌  | 7.49G/9.98G [00:22<00:08, 302MB/s]\u001b[A\n",
      "Downloading (…)of-00002.safetensors:  75%|███████▌  | 7.52G/9.98G [00:22<00:08, 289MB/s]\u001b[A\n",
      "Downloading (…)of-00002.safetensors:  76%|███████▌  | 7.56G/9.98G [00:22<00:08, 297MB/s]\u001b[A\n",
      "Downloading (…)of-00002.safetensors:  76%|███████▌  | 7.59G/9.98G [00:22<00:07, 301MB/s]\u001b[A\n",
      "Downloading (…)of-00002.safetensors:  76%|███████▋  | 7.62G/9.98G [00:22<00:08, 294MB/s]\u001b[A\n",
      "Downloading (…)of-00002.safetensors:  77%|███████▋  | 7.65G/9.98G [00:22<00:07, 296MB/s]\u001b[A\n",
      "Downloading (…)of-00002.safetensors:  77%|███████▋  | 7.69G/9.98G [00:23<00:07, 296MB/s]\u001b[A\n",
      "Downloading (…)of-00002.safetensors:  77%|███████▋  | 7.73G/9.98G [00:23<00:07, 305MB/s]\u001b[A\n",
      "Downloading (…)of-00002.safetensors:  78%|███████▊  | 7.76G/9.98G [00:23<00:07, 292MB/s]\u001b[A\n",
      "Downloading (…)of-00002.safetensors:  78%|███████▊  | 7.79G/9.98G [00:23<00:07, 286MB/s]\u001b[A\n",
      "Downloading (…)of-00002.safetensors:  78%|███████▊  | 7.82G/9.98G [00:23<00:07, 284MB/s]\u001b[A\n",
      "Downloading (…)of-00002.safetensors:  79%|███████▊  | 7.85G/9.98G [00:23<00:07, 284MB/s]\u001b[A\n",
      "Downloading (…)of-00002.safetensors:  79%|███████▉  | 7.89G/9.98G [00:23<00:07, 285MB/s]\u001b[A\n",
      "Downloading (…)of-00002.safetensors:  79%|███████▉  | 7.92G/9.98G [00:23<00:07, 289MB/s]\u001b[A\n",
      "Downloading (…)of-00002.safetensors:  80%|███████▉  | 7.95G/9.98G [00:23<00:06, 293MB/s]\u001b[A\n",
      "Downloading (…)of-00002.safetensors:  80%|███████▉  | 7.98G/9.98G [00:24<00:06, 298MB/s]\u001b[A\n",
      "Downloading (…)of-00002.safetensors:  80%|████████  | 8.01G/9.98G [00:24<00:06, 293MB/s]\u001b[A\n",
      "Downloading (…)of-00002.safetensors:  81%|████████  | 8.05G/9.98G [00:24<00:06, 295MB/s]\u001b[A\n",
      "Downloading (…)of-00002.safetensors:  81%|████████  | 8.08G/9.98G [00:24<00:06, 289MB/s]\u001b[A\n",
      "Downloading (…)of-00002.safetensors:  81%|████████▏ | 8.13G/9.98G [00:24<00:06, 305MB/s]\u001b[A\n",
      "Downloading (…)of-00002.safetensors:  82%|████████▏ | 8.17G/9.98G [00:24<00:05, 332MB/s]\u001b[A\n",
      "Downloading (…)of-00002.safetensors:  82%|████████▏ | 8.21G/9.98G [00:24<00:05, 338MB/s]\u001b[A\n",
      "Downloading (…)of-00002.safetensors:  83%|████████▎ | 8.25G/9.98G [00:24<00:05, 332MB/s]\u001b[A\n",
      "Downloading (…)of-00002.safetensors:  83%|████████▎ | 8.29G/9.98G [00:25<00:04, 341MB/s]\u001b[A\n",
      "Downloading (…)of-00002.safetensors:  84%|████████▎ | 8.34G/9.98G [00:25<00:04, 353MB/s]\u001b[A\n",
      "Downloading (…)of-00002.safetensors:  84%|████████▍ | 8.38G/9.98G [00:25<00:04, 344MB/s]\u001b[A\n",
      "Downloading (…)of-00002.safetensors:  84%|████████▍ | 8.42G/9.98G [00:25<00:04, 343MB/s]\u001b[A\n",
      "Downloading (…)of-00002.safetensors:  85%|████████▍ | 8.46G/9.98G [00:25<00:04, 331MB/s]\u001b[A\n",
      "Downloading (…)of-00002.safetensors:  85%|████████▌ | 8.50G/9.98G [00:25<00:04, 322MB/s]\u001b[A\n",
      "Downloading (…)of-00002.safetensors:  86%|████████▌ | 8.55G/9.98G [00:25<00:04, 311MB/s]\u001b[A\n",
      "Downloading (…)of-00002.safetensors:  86%|████████▌ | 8.58G/9.98G [00:25<00:04, 311MB/s]\u001b[A\n",
      "Downloading (…)of-00002.safetensors:  86%|████████▋ | 8.62G/9.98G [00:26<00:04, 312MB/s]\u001b[A\n",
      "Downloading (…)of-00002.safetensors:  87%|████████▋ | 8.65G/9.98G [00:26<00:04, 306MB/s]\u001b[A\n",
      "Downloading (…)of-00002.safetensors:  87%|████████▋ | 8.69G/9.98G [00:26<00:04, 311MB/s]\u001b[A\n",
      "Downloading (…)of-00002.safetensors:  88%|████████▊ | 8.73G/9.98G [00:26<00:03, 328MB/s]\u001b[A\n",
      "Downloading (…)of-00002.safetensors:  88%|████████▊ | 8.78G/9.98G [00:26<00:03, 335MB/s]\u001b[A\n",
      "Downloading (…)of-00002.safetensors:  88%|████████▊ | 8.82G/9.98G [00:26<00:03, 333MB/s]\u001b[A\n",
      "Downloading (…)of-00002.safetensors:  89%|████████▉ | 8.86G/9.98G [00:26<00:03, 340MB/s]\u001b[A\n",
      "Downloading (…)of-00002.safetensors:  89%|████████▉ | 8.90G/9.98G [00:26<00:03, 343MB/s]\u001b[A\n",
      "Downloading (…)of-00002.safetensors:  90%|████████▉ | 8.94G/9.98G [00:26<00:03, 343MB/s]\u001b[A\n",
      "Downloading (…)of-00002.safetensors:  90%|█████████ | 8.99G/9.98G [00:27<00:02, 348MB/s]\u001b[A\n",
      "Downloading (…)of-00002.safetensors:  90%|█████████ | 9.03G/9.98G [00:27<00:02, 351MB/s]\u001b[A\n",
      "Downloading (…)of-00002.safetensors:  91%|█████████ | 9.07G/9.98G [00:27<00:02, 352MB/s]\u001b[A\n",
      "Downloading (…)of-00002.safetensors:  91%|█████████▏| 9.11G/9.98G [00:27<00:02, 348MB/s]\u001b[A\n",
      "Downloading (…)of-00002.safetensors:  92%|█████████▏| 9.15G/9.98G [00:27<00:02, 353MB/s]\u001b[A\n",
      "Downloading (…)of-00002.safetensors:  92%|█████████▏| 9.20G/9.98G [00:27<00:02, 356MB/s]\u001b[A\n",
      "Downloading (…)of-00002.safetensors:  93%|█████████▎| 9.24G/9.98G [00:27<00:02, 349MB/s]\u001b[A\n",
      "Downloading (…)of-00002.safetensors:  93%|█████████▎| 9.28G/9.98G [00:27<00:02, 346MB/s]\u001b[A\n",
      "Downloading (…)of-00002.safetensors:  93%|█████████▎| 9.32G/9.98G [00:28<00:01, 347MB/s]\u001b[A\n",
      "Downloading (…)of-00002.safetensors:  94%|█████████▍| 9.36G/9.98G [00:28<00:01, 355MB/s]\u001b[A\n",
      "Downloading (…)of-00002.safetensors:  94%|█████████▍| 9.41G/9.98G [00:28<00:01, 347MB/s]\u001b[A\n",
      "Downloading (…)of-00002.safetensors:  95%|█████████▍| 9.45G/9.98G [00:28<00:01, 350MB/s]\u001b[A\n",
      "Downloading (…)of-00002.safetensors:  95%|█████████▌| 9.49G/9.98G [00:28<00:01, 367MB/s]\u001b[A\n",
      "Downloading (…)of-00002.safetensors:  96%|█████████▌| 9.53G/9.98G [00:28<00:01, 371MB/s]\u001b[A\n",
      "Downloading (…)of-00002.safetensors:  96%|█████████▌| 9.57G/9.98G [00:28<00:01, 371MB/s]\u001b[A\n",
      "Downloading (…)of-00002.safetensors:  96%|█████████▋| 9.62G/9.98G [00:28<00:00, 377MB/s]\u001b[A\n",
      "Downloading (…)of-00002.safetensors:  97%|█████████▋| 9.66G/9.98G [00:28<00:00, 379MB/s]\u001b[A\n",
      "Downloading (…)of-00002.safetensors:  97%|█████████▋| 9.70G/9.98G [00:29<00:00, 374MB/s]\u001b[A\n",
      "Downloading (…)of-00002.safetensors:  98%|█████████▊| 9.74G/9.98G [00:29<00:00, 379MB/s]\u001b[A\n",
      "Downloading (…)of-00002.safetensors:  98%|█████████▊| 9.78G/9.98G [00:29<00:00, 382MB/s]\u001b[A\n",
      "Downloading (…)of-00002.safetensors:  98%|█████████▊| 9.83G/9.98G [00:29<00:00, 382MB/s]\u001b[A\n",
      "Downloading (…)of-00002.safetensors:  99%|█████████▉| 9.87G/9.98G [00:29<00:00, 383MB/s]\u001b[A\n",
      "Downloading (…)of-00002.safetensors:  99%|█████████▉| 9.91G/9.98G [00:29<00:00, 249MB/s]\u001b[A\n",
      "Downloading (…)of-00002.safetensors: 100%|██████████| 9.98G/9.98G [00:30<00:00, 332MB/s]\u001b[A\n",
      "Downloading shards:  50%|█████     | 1/2 [01:38<01:38, 98.19s/it]\n",
      "Downloading (…)of-00002.safetensors:   0%|          | 0.00/3.50G [00:00<?, ?B/s]\u001b[A\n",
      "Downloading (…)of-00002.safetensors:   0%|          | 10.5M/3.50G [00:00<01:13, 47.4MB/s]\u001b[A\n",
      "Downloading (…)of-00002.safetensors:   1%|▏         | 52.4M/3.50G [00:00<00:18, 184MB/s] \u001b[A\n",
      "Downloading (…)of-00002.safetensors:   2%|▏         | 83.9M/3.50G [00:00<00:15, 224MB/s]\u001b[A\n",
      "Downloading (…)of-00002.safetensors:   4%|▎         | 126M/3.50G [00:00<00:12, 277MB/s] \u001b[A\n",
      "Downloading (…)of-00002.safetensors:   5%|▍         | 168M/3.50G [00:00<00:11, 298MB/s]\u001b[A\n",
      "Downloading (…)of-00002.safetensors:   6%|▌         | 210M/3.50G [00:00<00:10, 325MB/s]\u001b[A\n",
      "Downloading (…)of-00002.safetensors:   7%|▋         | 252M/3.50G [00:00<00:09, 330MB/s]\u001b[A\n",
      "Downloading (…)of-00002.safetensors:   8%|▊         | 294M/3.50G [00:01<00:09, 345MB/s]\u001b[A\n",
      "Downloading (…)of-00002.safetensors:  10%|▉         | 336M/3.50G [00:01<00:08, 358MB/s]\u001b[A\n",
      "Downloading (…)of-00002.safetensors:  11%|█         | 377M/3.50G [00:01<00:08, 357MB/s]\u001b[A\n",
      "Downloading (…)of-00002.safetensors:  12%|█▏        | 419M/3.50G [00:01<00:08, 359MB/s]\u001b[A\n",
      "Downloading (…)of-00002.safetensors:  13%|█▎        | 461M/3.50G [00:01<00:08, 349MB/s]\u001b[A\n",
      "Downloading (…)of-00002.safetensors:  14%|█▍        | 503M/3.50G [00:01<00:08, 350MB/s]\u001b[A\n",
      "Downloading (…)of-00002.safetensors:  16%|█▌        | 545M/3.50G [00:01<00:08, 343MB/s]\u001b[A\n",
      "Downloading (…)of-00002.safetensors:  17%|█▋        | 587M/3.50G [00:01<00:08, 359MB/s]\u001b[A\n",
      "Downloading (…)of-00002.safetensors:  18%|█▊        | 629M/3.50G [00:01<00:08, 349MB/s]\u001b[A\n",
      "Downloading (…)of-00002.safetensors:  19%|█▉        | 671M/3.50G [00:02<00:07, 362MB/s]\u001b[A\n",
      "Downloading (…)of-00002.safetensors:  20%|██        | 713M/3.50G [00:02<00:08, 342MB/s]\u001b[A\n",
      "Downloading (…)of-00002.safetensors:  22%|██▏       | 755M/3.50G [00:02<00:07, 348MB/s]\u001b[A\n",
      "Downloading (…)of-00002.safetensors:  23%|██▎       | 797M/3.50G [00:02<00:07, 338MB/s]\u001b[A\n",
      "Downloading (…)of-00002.safetensors:  24%|██▍       | 839M/3.50G [00:02<00:07, 342MB/s]\u001b[A\n",
      "Downloading (…)of-00002.safetensors:  25%|██▌       | 881M/3.50G [00:02<00:07, 333MB/s]\u001b[A\n",
      "Downloading (…)of-00002.safetensors:  26%|██▋       | 923M/3.50G [00:02<00:07, 329MB/s]\u001b[A\n",
      "Downloading (…)of-00002.safetensors:  28%|██▊       | 965M/3.50G [00:02<00:07, 327MB/s]\u001b[A\n",
      "Downloading (…)of-00002.safetensors:  29%|██▉       | 1.01G/3.50G [00:03<00:07, 339MB/s]\u001b[A\n",
      "Downloading (…)of-00002.safetensors:  30%|██▉       | 1.05G/3.50G [00:03<00:07, 343MB/s]\u001b[A\n",
      "Downloading (…)of-00002.safetensors:  31%|███       | 1.09G/3.50G [00:03<00:06, 352MB/s]\u001b[A\n",
      "Downloading (…)of-00002.safetensors:  32%|███▏      | 1.13G/3.50G [00:03<00:06, 342MB/s]\u001b[A\n",
      "Downloading (…)of-00002.safetensors:  34%|███▎      | 1.17G/3.50G [00:03<00:06, 350MB/s]\u001b[A\n",
      "Downloading (…)of-00002.safetensors:  35%|███▍      | 1.22G/3.50G [00:03<00:06, 338MB/s]\u001b[A\n",
      "Downloading (…)of-00002.safetensors:  36%|███▌      | 1.26G/3.50G [00:03<00:06, 348MB/s]\u001b[A\n",
      "Downloading (…)of-00002.safetensors:  37%|███▋      | 1.30G/3.50G [00:03<00:06, 349MB/s]\u001b[A\n",
      "Downloading (…)of-00002.safetensors:  38%|███▊      | 1.34G/3.50G [00:04<00:06, 340MB/s]\u001b[A\n",
      "Downloading (…)of-00002.safetensors:  40%|███▉      | 1.38G/3.50G [00:04<00:06, 340MB/s]\u001b[A\n",
      "Downloading (…)of-00002.safetensors:  41%|████      | 1.43G/3.50G [00:04<00:05, 348MB/s]\u001b[A\n",
      "Downloading (…)of-00002.safetensors:  42%|████▏     | 1.48G/3.50G [00:04<00:05, 368MB/s]\u001b[A\n",
      "Downloading (…)of-00002.safetensors:  43%|████▎     | 1.52G/3.50G [00:04<00:05, 373MB/s]\u001b[A\n",
      "Downloading (…)of-00002.safetensors:  45%|████▍     | 1.56G/3.50G [00:04<00:05, 370MB/s]\u001b[A\n",
      "Downloading (…)of-00002.safetensors:  46%|████▌     | 1.60G/3.50G [00:04<00:05, 374MB/s]\u001b[A\n",
      "Downloading (…)of-00002.safetensors:  47%|████▋     | 1.65G/3.50G [00:04<00:04, 379MB/s]\u001b[A\n",
      "Downloading (…)of-00002.safetensors:  48%|████▊     | 1.69G/3.50G [00:04<00:04, 379MB/s]\u001b[A\n",
      "Downloading (…)of-00002.safetensors:  50%|████▉     | 1.74G/3.50G [00:05<00:04, 397MB/s]\u001b[A\n",
      "Downloading (…)of-00002.safetensors:  51%|█████     | 1.78G/3.50G [00:05<00:04, 394MB/s]\u001b[A\n",
      "Downloading (…)of-00002.safetensors:  52%|█████▏    | 1.82G/3.50G [00:05<00:04, 387MB/s]\u001b[A\n",
      "Downloading (…)of-00002.safetensors:  53%|█████▎    | 1.87G/3.50G [00:05<00:04, 374MB/s]\u001b[A\n",
      "Downloading (…)of-00002.safetensors:  55%|█████▍    | 1.91G/3.50G [00:05<00:04, 385MB/s]\u001b[A\n",
      "Downloading (…)of-00002.safetensors:  56%|█████▌    | 1.95G/3.50G [00:05<00:04, 379MB/s]\u001b[A\n",
      "Downloading (…)of-00002.safetensors:  57%|█████▋    | 2.00G/3.50G [00:05<00:03, 398MB/s]\u001b[A\n",
      "Downloading (…)of-00002.safetensors:  58%|█████▊    | 2.04G/3.50G [00:05<00:03, 370MB/s]\u001b[A\n",
      "Downloading (…)of-00002.safetensors:  60%|█████▉    | 2.09G/3.50G [00:06<00:03, 371MB/s]\u001b[A\n",
      "Downloading (…)of-00002.safetensors:  61%|██████    | 2.13G/3.50G [00:06<00:04, 342MB/s]\u001b[A\n",
      "Downloading (…)of-00002.safetensors:  62%|██████▏   | 2.17G/3.50G [00:06<00:03, 352MB/s]\u001b[A\n",
      "Downloading (…)of-00002.safetensors:  64%|██████▎   | 2.22G/3.50G [00:06<00:03, 375MB/s]\u001b[A\n",
      "Downloading (…)of-00002.safetensors:  65%|██████▍   | 2.26G/3.50G [00:06<00:03, 348MB/s]\u001b[A\n",
      "Downloading (…)of-00002.safetensors:  66%|██████▌   | 2.31G/3.50G [00:06<00:03, 366MB/s]\u001b[A\n",
      "Downloading (…)of-00002.safetensors:  67%|██████▋   | 2.35G/3.50G [00:06<00:03, 377MB/s]\u001b[A\n",
      "Downloading (…)of-00002.safetensors:  68%|██████▊   | 2.39G/3.50G [00:06<00:02, 381MB/s]\u001b[A\n",
      "Downloading (…)of-00002.safetensors:  69%|██████▉   | 2.43G/3.50G [00:06<00:02, 391MB/s]\u001b[A\n",
      "Downloading (…)of-00002.safetensors:  71%|███████   | 2.47G/3.50G [00:07<00:02, 383MB/s]\u001b[A\n",
      "Downloading (…)of-00002.safetensors:  72%|███████▏  | 2.52G/3.50G [00:07<00:02, 392MB/s]\u001b[A\n",
      "Downloading (…)of-00002.safetensors:  73%|███████▎  | 2.57G/3.50G [00:07<00:02, 405MB/s]\u001b[A\n",
      "Downloading (…)of-00002.safetensors:  75%|███████▍  | 2.61G/3.50G [00:07<00:02, 409MB/s]\u001b[A\n",
      "Downloading (…)of-00002.safetensors:  76%|███████▌  | 2.65G/3.50G [00:07<00:02, 405MB/s]\u001b[A\n",
      "Downloading (…)of-00002.safetensors:  77%|███████▋  | 2.69G/3.50G [00:07<00:01, 403MB/s]\u001b[A\n",
      "Downloading (…)of-00002.safetensors:  78%|███████▊  | 2.74G/3.50G [00:07<00:01, 400MB/s]\u001b[A\n",
      "Downloading (…)of-00002.safetensors:  79%|███████▉  | 2.78G/3.50G [00:07<00:01, 395MB/s]\u001b[A\n",
      "Downloading (…)of-00002.safetensors:  81%|████████  | 2.82G/3.50G [00:07<00:01, 398MB/s]\u001b[A\n",
      "Downloading (…)of-00002.safetensors:  82%|████████▏ | 2.86G/3.50G [00:08<00:01, 398MB/s]\u001b[A\n",
      "Downloading (…)of-00002.safetensors:  83%|████████▎ | 2.92G/3.50G [00:08<00:01, 408MB/s]\u001b[A\n",
      "Downloading (…)of-00002.safetensors:  85%|████████▍ | 2.97G/3.50G [00:08<00:01, 411MB/s]\u001b[A\n",
      "Downloading (…)of-00002.safetensors:  86%|████████▋ | 3.02G/3.50G [00:08<00:01, 415MB/s]\u001b[A\n",
      "Downloading (…)of-00002.safetensors:  87%|████████▋ | 3.06G/3.50G [00:08<00:01, 404MB/s]\u001b[A\n",
      "Downloading (…)of-00002.safetensors:  89%|████████▊ | 3.10G/3.50G [00:08<00:00, 407MB/s]\u001b[A\n",
      "Downloading (…)of-00002.safetensors:  90%|████████▉ | 3.15G/3.50G [00:08<00:00, 398MB/s]\u001b[A\n",
      "Downloading (…)of-00002.safetensors:  91%|█████████ | 3.19G/3.50G [00:08<00:00, 400MB/s]\u001b[A\n",
      "Downloading (…)of-00002.safetensors:  93%|█████████▎| 3.24G/3.50G [00:08<00:00, 411MB/s]\u001b[A\n",
      "Downloading (…)of-00002.safetensors:  94%|█████████▍| 3.29G/3.50G [00:09<00:00, 417MB/s]\u001b[A\n",
      "Downloading (…)of-00002.safetensors:  95%|█████████▌| 3.33G/3.50G [00:09<00:00, 412MB/s]\u001b[A\n",
      "Downloading (…)of-00002.safetensors:  96%|█████████▋| 3.38G/3.50G [00:09<00:00, 393MB/s]\u001b[A\n",
      "Downloading (…)of-00002.safetensors:  98%|█████████▊| 3.42G/3.50G [00:09<00:00, 358MB/s]\u001b[A\n",
      "Downloading (…)of-00002.safetensors:  99%|█████████▉| 3.46G/3.50G [00:09<00:00, 342MB/s]\u001b[A\n",
      "Downloading (…)of-00002.safetensors: 100%|██████████| 3.50G/3.50G [00:09<00:00, 360MB/s]\u001b[A\n",
      "Downloading shards: 100%|██████████| 2/2 [02:15<00:00, 67.91s/it]\n",
      "Loading checkpoint shards: 100%|██████████| 2/2 [00:49<00:00, 24.74s/it]\n",
      "Downloading (…)neration_config.json: 100%|██████████| 179/179 [00:00<00:00, 817kB/s]\n"
     ]
    }
   ],
   "source": [
    "\n",
    "model = AutoModelForCausalLM.from_pretrained(\n",
    "    model_name,\n",
    "    quantization_config=bnb_config,\n",
    "    device_map=device_map\n",
    ")\n",
    "model.config.use_cache = False\n",
    "model.config.pretraining_tp = 1"
   ]
  },
  {
   "cell_type": "markdown",
   "id": "3e39a09a-f33f-4669-9e41-6ba0d2615b55",
   "metadata": {},
   "source": [
    "### Load LLaMA tokenizer"
   ]
  },
  {
   "cell_type": "code",
   "execution_count": 14,
   "id": "9d5950b9-fc2f-4a8c-b118-854b2bf122cf",
   "metadata": {},
   "outputs": [
    {
     "name": "stderr",
     "output_type": "stream",
     "text": [
      "Downloading (…)okenizer_config.json: 100%|██████████| 746/746 [00:00<00:00, 5.62MB/s]\n",
      "Downloading tokenizer.model: 100%|██████████| 500k/500k [00:00<00:00, 560MB/s]\n",
      "Downloading (…)/main/tokenizer.json: 100%|██████████| 1.84M/1.84M [00:00<00:00, 34.2MB/s]\n",
      "Downloading (…)in/added_tokens.json: 100%|██████████| 21.0/21.0 [00:00<00:00, 149kB/s]\n",
      "Downloading (…)cial_tokens_map.json: 100%|██████████| 435/435 [00:00<00:00, 3.18MB/s]\n"
     ]
    }
   ],
   "source": [
    "tokenizer = AutoTokenizer.from_pretrained(model_name, trust_remote_code=True)\n",
    "tokenizer.pad_token = tokenizer.eos_token\n",
    "tokenizer.padding_side = \"right\" # Fix weird overflow issue with fp16 training"
   ]
  },
  {
   "cell_type": "markdown",
   "id": "431f8083-a483-4f31-bda5-bcae0412070b",
   "metadata": {},
   "source": [
    "### Load LoRA configuration"
   ]
  },
  {
   "cell_type": "code",
   "execution_count": 15,
   "id": "31776878-b067-42d8-97ee-2602c0134461",
   "metadata": {},
   "outputs": [],
   "source": [
    "peft_config = LoraConfig(\n",
    "    lora_alpha=lora_alpha,\n",
    "    lora_dropout=lora_dropout,\n",
    "    r=lora_r,\n",
    "    bias=\"none\",\n",
    "    task_type=\"CAUSAL_LM\",\n",
    ")"
   ]
  },
  {
   "cell_type": "markdown",
   "id": "473b7155-836a-47cd-92b8-e46d1f76fd7c",
   "metadata": {},
   "source": [
    "### Set training parameters"
   ]
  },
  {
   "cell_type": "code",
   "execution_count": 16,
   "id": "93000bf7-9058-4903-aa8b-b1bfbbb37933",
   "metadata": {
    "tags": []
   },
   "outputs": [],
   "source": [
    "training_arguments = TrainingArguments(\n",
    "    output_dir=output_dir,\n",
    "    num_train_epochs=num_train_epochs,\n",
    "    per_device_train_batch_size=per_device_train_batch_size,\n",
    "    gradient_accumulation_steps=gradient_accumulation_steps,\n",
    "    optim=optim,\n",
    "    save_steps=save_steps,\n",
    "    logging_steps=logging_steps,\n",
    "    learning_rate=learning_rate,\n",
    "    weight_decay=weight_decay,\n",
    "    fp16=fp16,\n",
    "    bf16=bf16,\n",
    "    max_grad_norm=max_grad_norm,\n",
    "    max_steps=max_steps,\n",
    "    warmup_ratio=warmup_ratio,\n",
    "    group_by_length=group_by_length,\n",
    "    lr_scheduler_type=lr_scheduler_type,\n",
    "    # report_to=\"tensorboard\"\n",
    ")"
   ]
  },
  {
   "cell_type": "markdown",
   "id": "40a036b7-504c-458e-a73f-8f5cc89b74b7",
   "metadata": {},
   "source": [
    "### Set supervised fine-tuning parameters"
   ]
  },
  {
   "cell_type": "code",
   "execution_count": 17,
   "id": "c0d5e4c1-c094-421e-be8d-3f18f0b040c0",
   "metadata": {},
   "outputs": [
    {
     "name": "stderr",
     "output_type": "stream",
     "text": [
      "/opt/conda/lib/python3.10/site-packages/peft/utils/other.py:102: FutureWarning: prepare_model_for_int8_training is deprecated and will be removed in a future version. Use prepare_model_for_kbit_training instead.\n",
      "  warnings.warn(\n",
      "/opt/conda/lib/python3.10/site-packages/trl/trainer/sft_trainer.py:159: UserWarning: You didn't pass a `max_seq_length` argument to the SFTTrainer, this will default to 1024\n",
      "  warnings.warn(\n",
      "Map: 100%|██████████| 1000/1000 [00:00<00:00, 1534.03 examples/s]\n"
     ]
    }
   ],
   "source": [
    "\n",
    "trainer = SFTTrainer(\n",
    "    model=model,\n",
    "    train_dataset=dataset,\n",
    "    peft_config=peft_config,\n",
    "    dataset_text_field=\"text\",\n",
    "    max_seq_length=max_seq_length,\n",
    "    tokenizer=tokenizer,\n",
    "    args=training_arguments,\n",
    "    packing=packing,\n",
    ")"
   ]
  },
  {
   "cell_type": "code",
   "execution_count": 18,
   "id": "43f7b68c-9e94-4fc8-a5a6-ddb64f8a8e57",
   "metadata": {
    "tags": []
   },
   "outputs": [
    {
     "name": "stderr",
     "output_type": "stream",
     "text": [
      "You're using a LlamaTokenizerFast tokenizer. Please note that with a fast tokenizer, using the `__call__` method is faster than using a method to encode the text followed by a call to the `pad` method to get a padded encoding.\n"
     ]
    },
    {
     "data": {
      "text/html": [
       "\n",
       "    <div>\n",
       "      \n",
       "      <progress value='250' max='250' style='width:300px; height:20px; vertical-align: middle;'></progress>\n",
       "      [250/250 24:14, Epoch 1/1]\n",
       "    </div>\n",
       "    <table border=\"1\" class=\"dataframe\">\n",
       "  <thead>\n",
       " <tr style=\"text-align: left;\">\n",
       "      <th>Step</th>\n",
       "      <th>Training Loss</th>\n",
       "    </tr>\n",
       "  </thead>\n",
       "  <tbody>\n",
       "    <tr>\n",
       "      <td>25</td>\n",
       "      <td>1.347300</td>\n",
       "    </tr>\n",
       "    <tr>\n",
       "      <td>50</td>\n",
       "      <td>1.616500</td>\n",
       "    </tr>\n",
       "    <tr>\n",
       "      <td>75</td>\n",
       "      <td>1.209800</td>\n",
       "    </tr>\n",
       "    <tr>\n",
       "      <td>100</td>\n",
       "      <td>1.440500</td>\n",
       "    </tr>\n",
       "    <tr>\n",
       "      <td>125</td>\n",
       "      <td>1.177300</td>\n",
       "    </tr>\n",
       "    <tr>\n",
       "      <td>150</td>\n",
       "      <td>1.361300</td>\n",
       "    </tr>\n",
       "    <tr>\n",
       "      <td>175</td>\n",
       "      <td>1.171900</td>\n",
       "    </tr>\n",
       "    <tr>\n",
       "      <td>200</td>\n",
       "      <td>1.460600</td>\n",
       "    </tr>\n",
       "    <tr>\n",
       "      <td>225</td>\n",
       "      <td>1.154500</td>\n",
       "    </tr>\n",
       "    <tr>\n",
       "      <td>250</td>\n",
       "      <td>1.529300</td>\n",
       "    </tr>\n",
       "  </tbody>\n",
       "</table><p>"
      ],
      "text/plain": [
       "<IPython.core.display.HTML object>"
      ]
     },
     "metadata": {},
     "output_type": "display_data"
    },
    {
     "name": "stdout",
     "output_type": "stream",
     "text": [
      "CPU times: user 14min 8s, sys: 9min 33s, total: 23min 42s\n",
      "Wall time: 24min 29s\n"
     ]
    },
    {
     "data": {
      "text/plain": [
       "TrainOutput(global_step=250, training_loss=1.3469001846313478, metrics={'train_runtime': 1469.474, 'train_samples_per_second': 0.681, 'train_steps_per_second': 0.17, 'total_flos': 8755214190673920.0, 'train_loss': 1.3469001846313478, 'epoch': 1.0})"
      ]
     },
     "execution_count": 18,
     "metadata": {},
     "output_type": "execute_result"
    }
   ],
   "source": [
    "%%time\n",
    "# Train model ~ 30 mins\n",
    "trainer.train()"
   ]
  },
  {
   "cell_type": "markdown",
   "id": "9b95e159-f391-4f43-8e84-0792b982012d",
   "metadata": {},
   "source": [
    "### Save trained model"
   ]
  },
  {
   "cell_type": "code",
   "execution_count": 19,
   "id": "93f200e9-0abf-4821-865d-0e1c19566028",
   "metadata": {
    "tags": []
   },
   "outputs": [],
   "source": [
    "trainer.model.save_pretrained(new_model)"
   ]
  }
 ],
 "metadata": {
  "availableInstances": [
   {
    "_defaultOrder": 0,
    "_isFastLaunch": true,
    "category": "General purpose",
    "gpuNum": 0,
    "hideHardwareSpecs": false,
    "memoryGiB": 4,
    "name": "ml.t3.medium",
    "vcpuNum": 2
   },
   {
    "_defaultOrder": 1,
    "_isFastLaunch": false,
    "category": "General purpose",
    "gpuNum": 0,
    "hideHardwareSpecs": false,
    "memoryGiB": 8,
    "name": "ml.t3.large",
    "vcpuNum": 2
   },
   {
    "_defaultOrder": 2,
    "_isFastLaunch": false,
    "category": "General purpose",
    "gpuNum": 0,
    "hideHardwareSpecs": false,
    "memoryGiB": 16,
    "name": "ml.t3.xlarge",
    "vcpuNum": 4
   },
   {
    "_defaultOrder": 3,
    "_isFastLaunch": false,
    "category": "General purpose",
    "gpuNum": 0,
    "hideHardwareSpecs": false,
    "memoryGiB": 32,
    "name": "ml.t3.2xlarge",
    "vcpuNum": 8
   },
   {
    "_defaultOrder": 4,
    "_isFastLaunch": true,
    "category": "General purpose",
    "gpuNum": 0,
    "hideHardwareSpecs": false,
    "memoryGiB": 8,
    "name": "ml.m5.large",
    "vcpuNum": 2
   },
   {
    "_defaultOrder": 5,
    "_isFastLaunch": false,
    "category": "General purpose",
    "gpuNum": 0,
    "hideHardwareSpecs": false,
    "memoryGiB": 16,
    "name": "ml.m5.xlarge",
    "vcpuNum": 4
   },
   {
    "_defaultOrder": 6,
    "_isFastLaunch": false,
    "category": "General purpose",
    "gpuNum": 0,
    "hideHardwareSpecs": false,
    "memoryGiB": 32,
    "name": "ml.m5.2xlarge",
    "vcpuNum": 8
   },
   {
    "_defaultOrder": 7,
    "_isFastLaunch": false,
    "category": "General purpose",
    "gpuNum": 0,
    "hideHardwareSpecs": false,
    "memoryGiB": 64,
    "name": "ml.m5.4xlarge",
    "vcpuNum": 16
   },
   {
    "_defaultOrder": 8,
    "_isFastLaunch": false,
    "category": "General purpose",
    "gpuNum": 0,
    "hideHardwareSpecs": false,
    "memoryGiB": 128,
    "name": "ml.m5.8xlarge",
    "vcpuNum": 32
   },
   {
    "_defaultOrder": 9,
    "_isFastLaunch": false,
    "category": "General purpose",
    "gpuNum": 0,
    "hideHardwareSpecs": false,
    "memoryGiB": 192,
    "name": "ml.m5.12xlarge",
    "vcpuNum": 48
   },
   {
    "_defaultOrder": 10,
    "_isFastLaunch": false,
    "category": "General purpose",
    "gpuNum": 0,
    "hideHardwareSpecs": false,
    "memoryGiB": 256,
    "name": "ml.m5.16xlarge",
    "vcpuNum": 64
   },
   {
    "_defaultOrder": 11,
    "_isFastLaunch": false,
    "category": "General purpose",
    "gpuNum": 0,
    "hideHardwareSpecs": false,
    "memoryGiB": 384,
    "name": "ml.m5.24xlarge",
    "vcpuNum": 96
   },
   {
    "_defaultOrder": 12,
    "_isFastLaunch": false,
    "category": "General purpose",
    "gpuNum": 0,
    "hideHardwareSpecs": false,
    "memoryGiB": 8,
    "name": "ml.m5d.large",
    "vcpuNum": 2
   },
   {
    "_defaultOrder": 13,
    "_isFastLaunch": false,
    "category": "General purpose",
    "gpuNum": 0,
    "hideHardwareSpecs": false,
    "memoryGiB": 16,
    "name": "ml.m5d.xlarge",
    "vcpuNum": 4
   },
   {
    "_defaultOrder": 14,
    "_isFastLaunch": false,
    "category": "General purpose",
    "gpuNum": 0,
    "hideHardwareSpecs": false,
    "memoryGiB": 32,
    "name": "ml.m5d.2xlarge",
    "vcpuNum": 8
   },
   {
    "_defaultOrder": 15,
    "_isFastLaunch": false,
    "category": "General purpose",
    "gpuNum": 0,
    "hideHardwareSpecs": false,
    "memoryGiB": 64,
    "name": "ml.m5d.4xlarge",
    "vcpuNum": 16
   },
   {
    "_defaultOrder": 16,
    "_isFastLaunch": false,
    "category": "General purpose",
    "gpuNum": 0,
    "hideHardwareSpecs": false,
    "memoryGiB": 128,
    "name": "ml.m5d.8xlarge",
    "vcpuNum": 32
   },
   {
    "_defaultOrder": 17,
    "_isFastLaunch": false,
    "category": "General purpose",
    "gpuNum": 0,
    "hideHardwareSpecs": false,
    "memoryGiB": 192,
    "name": "ml.m5d.12xlarge",
    "vcpuNum": 48
   },
   {
    "_defaultOrder": 18,
    "_isFastLaunch": false,
    "category": "General purpose",
    "gpuNum": 0,
    "hideHardwareSpecs": false,
    "memoryGiB": 256,
    "name": "ml.m5d.16xlarge",
    "vcpuNum": 64
   },
   {
    "_defaultOrder": 19,
    "_isFastLaunch": false,
    "category": "General purpose",
    "gpuNum": 0,
    "hideHardwareSpecs": false,
    "memoryGiB": 384,
    "name": "ml.m5d.24xlarge",
    "vcpuNum": 96
   },
   {
    "_defaultOrder": 20,
    "_isFastLaunch": false,
    "category": "General purpose",
    "gpuNum": 0,
    "hideHardwareSpecs": true,
    "memoryGiB": 0,
    "name": "ml.geospatial.interactive",
    "supportedImageNames": [
     "sagemaker-geospatial-v1-0"
    ],
    "vcpuNum": 0
   },
   {
    "_defaultOrder": 21,
    "_isFastLaunch": true,
    "category": "Compute optimized",
    "gpuNum": 0,
    "hideHardwareSpecs": false,
    "memoryGiB": 4,
    "name": "ml.c5.large",
    "vcpuNum": 2
   },
   {
    "_defaultOrder": 22,
    "_isFastLaunch": false,
    "category": "Compute optimized",
    "gpuNum": 0,
    "hideHardwareSpecs": false,
    "memoryGiB": 8,
    "name": "ml.c5.xlarge",
    "vcpuNum": 4
   },
   {
    "_defaultOrder": 23,
    "_isFastLaunch": false,
    "category": "Compute optimized",
    "gpuNum": 0,
    "hideHardwareSpecs": false,
    "memoryGiB": 16,
    "name": "ml.c5.2xlarge",
    "vcpuNum": 8
   },
   {
    "_defaultOrder": 24,
    "_isFastLaunch": false,
    "category": "Compute optimized",
    "gpuNum": 0,
    "hideHardwareSpecs": false,
    "memoryGiB": 32,
    "name": "ml.c5.4xlarge",
    "vcpuNum": 16
   },
   {
    "_defaultOrder": 25,
    "_isFastLaunch": false,
    "category": "Compute optimized",
    "gpuNum": 0,
    "hideHardwareSpecs": false,
    "memoryGiB": 72,
    "name": "ml.c5.9xlarge",
    "vcpuNum": 36
   },
   {
    "_defaultOrder": 26,
    "_isFastLaunch": false,
    "category": "Compute optimized",
    "gpuNum": 0,
    "hideHardwareSpecs": false,
    "memoryGiB": 96,
    "name": "ml.c5.12xlarge",
    "vcpuNum": 48
   },
   {
    "_defaultOrder": 27,
    "_isFastLaunch": false,
    "category": "Compute optimized",
    "gpuNum": 0,
    "hideHardwareSpecs": false,
    "memoryGiB": 144,
    "name": "ml.c5.18xlarge",
    "vcpuNum": 72
   },
   {
    "_defaultOrder": 28,
    "_isFastLaunch": false,
    "category": "Compute optimized",
    "gpuNum": 0,
    "hideHardwareSpecs": false,
    "memoryGiB": 192,
    "name": "ml.c5.24xlarge",
    "vcpuNum": 96
   },
   {
    "_defaultOrder": 29,
    "_isFastLaunch": true,
    "category": "Accelerated computing",
    "gpuNum": 1,
    "hideHardwareSpecs": false,
    "memoryGiB": 16,
    "name": "ml.g4dn.xlarge",
    "vcpuNum": 4
   },
   {
    "_defaultOrder": 30,
    "_isFastLaunch": false,
    "category": "Accelerated computing",
    "gpuNum": 1,
    "hideHardwareSpecs": false,
    "memoryGiB": 32,
    "name": "ml.g4dn.2xlarge",
    "vcpuNum": 8
   },
   {
    "_defaultOrder": 31,
    "_isFastLaunch": false,
    "category": "Accelerated computing",
    "gpuNum": 1,
    "hideHardwareSpecs": false,
    "memoryGiB": 64,
    "name": "ml.g4dn.4xlarge",
    "vcpuNum": 16
   },
   {
    "_defaultOrder": 32,
    "_isFastLaunch": false,
    "category": "Accelerated computing",
    "gpuNum": 1,
    "hideHardwareSpecs": false,
    "memoryGiB": 128,
    "name": "ml.g4dn.8xlarge",
    "vcpuNum": 32
   },
   {
    "_defaultOrder": 33,
    "_isFastLaunch": false,
    "category": "Accelerated computing",
    "gpuNum": 4,
    "hideHardwareSpecs": false,
    "memoryGiB": 192,
    "name": "ml.g4dn.12xlarge",
    "vcpuNum": 48
   },
   {
    "_defaultOrder": 34,
    "_isFastLaunch": false,
    "category": "Accelerated computing",
    "gpuNum": 1,
    "hideHardwareSpecs": false,
    "memoryGiB": 256,
    "name": "ml.g4dn.16xlarge",
    "vcpuNum": 64
   },
   {
    "_defaultOrder": 35,
    "_isFastLaunch": false,
    "category": "Accelerated computing",
    "gpuNum": 1,
    "hideHardwareSpecs": false,
    "memoryGiB": 61,
    "name": "ml.p3.2xlarge",
    "vcpuNum": 8
   },
   {
    "_defaultOrder": 36,
    "_isFastLaunch": false,
    "category": "Accelerated computing",
    "gpuNum": 4,
    "hideHardwareSpecs": false,
    "memoryGiB": 244,
    "name": "ml.p3.8xlarge",
    "vcpuNum": 32
   },
   {
    "_defaultOrder": 37,
    "_isFastLaunch": false,
    "category": "Accelerated computing",
    "gpuNum": 8,
    "hideHardwareSpecs": false,
    "memoryGiB": 488,
    "name": "ml.p3.16xlarge",
    "vcpuNum": 64
   },
   {
    "_defaultOrder": 38,
    "_isFastLaunch": false,
    "category": "Accelerated computing",
    "gpuNum": 8,
    "hideHardwareSpecs": false,
    "memoryGiB": 768,
    "name": "ml.p3dn.24xlarge",
    "vcpuNum": 96
   },
   {
    "_defaultOrder": 39,
    "_isFastLaunch": false,
    "category": "Memory Optimized",
    "gpuNum": 0,
    "hideHardwareSpecs": false,
    "memoryGiB": 16,
    "name": "ml.r5.large",
    "vcpuNum": 2
   },
   {
    "_defaultOrder": 40,
    "_isFastLaunch": false,
    "category": "Memory Optimized",
    "gpuNum": 0,
    "hideHardwareSpecs": false,
    "memoryGiB": 32,
    "name": "ml.r5.xlarge",
    "vcpuNum": 4
   },
   {
    "_defaultOrder": 41,
    "_isFastLaunch": false,
    "category": "Memory Optimized",
    "gpuNum": 0,
    "hideHardwareSpecs": false,
    "memoryGiB": 64,
    "name": "ml.r5.2xlarge",
    "vcpuNum": 8
   },
   {
    "_defaultOrder": 42,
    "_isFastLaunch": false,
    "category": "Memory Optimized",
    "gpuNum": 0,
    "hideHardwareSpecs": false,
    "memoryGiB": 128,
    "name": "ml.r5.4xlarge",
    "vcpuNum": 16
   },
   {
    "_defaultOrder": 43,
    "_isFastLaunch": false,
    "category": "Memory Optimized",
    "gpuNum": 0,
    "hideHardwareSpecs": false,
    "memoryGiB": 256,
    "name": "ml.r5.8xlarge",
    "vcpuNum": 32
   },
   {
    "_defaultOrder": 44,
    "_isFastLaunch": false,
    "category": "Memory Optimized",
    "gpuNum": 0,
    "hideHardwareSpecs": false,
    "memoryGiB": 384,
    "name": "ml.r5.12xlarge",
    "vcpuNum": 48
   },
   {
    "_defaultOrder": 45,
    "_isFastLaunch": false,
    "category": "Memory Optimized",
    "gpuNum": 0,
    "hideHardwareSpecs": false,
    "memoryGiB": 512,
    "name": "ml.r5.16xlarge",
    "vcpuNum": 64
   },
   {
    "_defaultOrder": 46,
    "_isFastLaunch": false,
    "category": "Memory Optimized",
    "gpuNum": 0,
    "hideHardwareSpecs": false,
    "memoryGiB": 768,
    "name": "ml.r5.24xlarge",
    "vcpuNum": 96
   },
   {
    "_defaultOrder": 47,
    "_isFastLaunch": false,
    "category": "Accelerated computing",
    "gpuNum": 1,
    "hideHardwareSpecs": false,
    "memoryGiB": 16,
    "name": "ml.g5.xlarge",
    "vcpuNum": 4
   },
   {
    "_defaultOrder": 48,
    "_isFastLaunch": false,
    "category": "Accelerated computing",
    "gpuNum": 1,
    "hideHardwareSpecs": false,
    "memoryGiB": 32,
    "name": "ml.g5.2xlarge",
    "vcpuNum": 8
   },
   {
    "_defaultOrder": 49,
    "_isFastLaunch": false,
    "category": "Accelerated computing",
    "gpuNum": 1,
    "hideHardwareSpecs": false,
    "memoryGiB": 64,
    "name": "ml.g5.4xlarge",
    "vcpuNum": 16
   },
   {
    "_defaultOrder": 50,
    "_isFastLaunch": false,
    "category": "Accelerated computing",
    "gpuNum": 1,
    "hideHardwareSpecs": false,
    "memoryGiB": 128,
    "name": "ml.g5.8xlarge",
    "vcpuNum": 32
   },
   {
    "_defaultOrder": 51,
    "_isFastLaunch": false,
    "category": "Accelerated computing",
    "gpuNum": 1,
    "hideHardwareSpecs": false,
    "memoryGiB": 256,
    "name": "ml.g5.16xlarge",
    "vcpuNum": 64
   },
   {
    "_defaultOrder": 52,
    "_isFastLaunch": false,
    "category": "Accelerated computing",
    "gpuNum": 4,
    "hideHardwareSpecs": false,
    "memoryGiB": 192,
    "name": "ml.g5.12xlarge",
    "vcpuNum": 48
   },
   {
    "_defaultOrder": 53,
    "_isFastLaunch": false,
    "category": "Accelerated computing",
    "gpuNum": 4,
    "hideHardwareSpecs": false,
    "memoryGiB": 384,
    "name": "ml.g5.24xlarge",
    "vcpuNum": 96
   },
   {
    "_defaultOrder": 54,
    "_isFastLaunch": false,
    "category": "Accelerated computing",
    "gpuNum": 8,
    "hideHardwareSpecs": false,
    "memoryGiB": 768,
    "name": "ml.g5.48xlarge",
    "vcpuNum": 192
   },
   {
    "_defaultOrder": 55,
    "_isFastLaunch": false,
    "category": "Accelerated computing",
    "gpuNum": 8,
    "hideHardwareSpecs": false,
    "memoryGiB": 1152,
    "name": "ml.p4d.24xlarge",
    "vcpuNum": 96
   },
   {
    "_defaultOrder": 56,
    "_isFastLaunch": false,
    "category": "Accelerated computing",
    "gpuNum": 8,
    "hideHardwareSpecs": false,
    "memoryGiB": 1152,
    "name": "ml.p4de.24xlarge",
    "vcpuNum": 96
   }
  ],
  "kernelspec": {
   "display_name": "Python 3 (PyTorch 2.0.0 Python 3.10 GPU Optimized)",
   "language": "python",
   "name": "python3__SAGEMAKER_INTERNAL__arn:aws:sagemaker:us-east-1:081325390199:image/pytorch-2.0.0-gpu-py310"
  },
  "language_info": {
   "codemirror_mode": {
    "name": "ipython",
    "version": 3
   },
   "file_extension": ".py",
   "mimetype": "text/x-python",
   "name": "python",
   "nbconvert_exporter": "python",
   "pygments_lexer": "ipython3",
   "version": "3.10.8"
  }
 },
 "nbformat": 4,
 "nbformat_minor": 5
}
